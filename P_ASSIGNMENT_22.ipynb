{
 "cells": [
  {
   "cell_type": "markdown",
   "metadata": {},
   "source": [
    "Question1\n",
    "\n",
    "Create a function that takes three parameters where:\n",
    "    \n",
    " x is the start of the range (inclusive).\n",
    "\n",
    " y is the end of the range (inclusive).\n",
    "\n",
    " n is the divisor to be checked against.\n",
    "\n",
    "Return an ordered list with numbers in the range that are divisible by the third parameter n.\n",
    "Return an empty list if there are no numbers that are divisible by n.\n",
    "\n",
    "Examples\n",
    "\n",
    "list_operation(1, 10, 3) ➞ [3, 6, 9]\n",
    "\n",
    "list_operation(7, 9, 2) ➞ [8]\n",
    "\n",
    "list_operation(15, 20, 7) ➞ []"
   ]
  },
  {
   "cell_type": "code",
   "execution_count": 1,
   "metadata": {},
   "outputs": [
    {
     "name": "stdout",
     "output_type": "stream",
     "text": [
      "enter the start of range : 1\n",
      "enter the end of range : 10\n",
      "enter the divisor : 3\n",
      "the divisors for the range are :  [3, 6, 9]\n",
      "enter the start of range : 15\n",
      "enter the end of range : 20\n",
      "enter the divisor : 7\n",
      "the divisors for the range are :  []\n"
     ]
    }
   ],
   "source": [
    "def rang():\n",
    "    x=int(input(\"enter the start of range : \"))\n",
    "    y = int(input(\"enter the end of range : \"))\n",
    "    div = int(input(\"enter the divisor : \"))\n",
    "    op=[]\n",
    "    for i in range(x,y):\n",
    "        if i%div==0:\n",
    "            op.append(i)\n",
    "    print(\"the divisors for the range are : \",op)\n",
    "rang()\n",
    "rang()          "
   ]
  },
  {
   "cell_type": "code",
   "execution_count": null,
   "metadata": {},
   "outputs": [],
   "source": []
  },
  {
   "cell_type": "markdown",
   "metadata": {},
   "source": [
    "Question2\n",
    "\n",
    "Create a function that takes in two lists and returns True if the second list follows the first list\n",
    "by one element, and False otherwise. In other words, determine if the second list is the first\n",
    "list shifted to the right by 1.\n",
    "\n",
    "Examples\n",
    "\n",
    "simon_says([1, 2], [5, 1]) ➞ True\n",
    "\n",
    "simon_says([1, 2], [5, 5]) ➞ False\n",
    "\n",
    "simon_says([1, 2, 3, 4, 5], [0, 1, 2, 3, 4]) ➞ True\n",
    "\n",
    "simon_says([1, 2, 3, 4, 5], [5, 5, 1, 2, 3]) ➞ False\n",
    "\n",
    "Both input lists will be of the same length, and will have a minimum length of 2.\n",
    "\n",
    " The values of the 0-indexed element in the second list and the n-1th indexed element\n",
    "in the first list do not matter."
   ]
  },
  {
   "cell_type": "code",
   "execution_count": 6,
   "metadata": {},
   "outputs": [
    {
     "name": "stdout",
     "output_type": "stream",
     "text": [
      "enter the list 1 : [1,2,3,4,5]\n",
      "enter the list 2 : [0,1,2,3,4,5]\n",
      "both list must have equal length\n",
      "enter the list 1 : [1,2,3,4]\n",
      "enter the list 2 : [0,1,2,3]\n",
      "simon_says [1, 2, 3, 4] , [0, 1, 2, 3] = True\n"
     ]
    }
   ],
   "source": [
    "def comp():\n",
    "    ip1= eval(input(\"enter the list 1 : \"))\n",
    "    ip2= eval(input(\"enter the list 2 : \"))\n",
    "    if len(ip1)==len(ip2) and len(ip1)>=2 and len(ip2)>=2:\n",
    "        if ip1[:-1]==ip2[1:]:\n",
    "            print(\"simon_says %s , %s = %s\" %(ip1,ip2,True))\n",
    "        else:\n",
    "            print(\"simon_says %s , %s = %s\" %(ip1,ip2,False))\n",
    "    else:\n",
    "        print(\"both list must have equal length\")\n",
    "comp()\n",
    "comp()"
   ]
  },
  {
   "cell_type": "code",
   "execution_count": null,
   "metadata": {},
   "outputs": [],
   "source": []
  },
  {
   "cell_type": "markdown",
   "metadata": {},
   "source": [
    "Question3\n",
    "\n",
    "A group of friends have decided to start a secret society. The name will be the first letter of\n",
    "each of their names, sorted in alphabetical order.\n",
    "\n",
    "Create a function that takes in a list of names and returns the name of the secret society.\n",
    "\n",
    "Examples\n",
    "\n",
    "society_name([&quot;Adam&quot;, &quot;Sarah&quot;, &quot;Malcolm&quot;]) ➞ &quot;AMS&quot;\n",
    "\n",
    "society_name([&quot;Harry&quot;, &quot;Newt&quot;, &quot;Luna&quot;, &quot;Cho&quot;]) ➞ &quot;CHLN&quot;\n",
    "\n",
    "society_name([&quot;Phoebe&quot;, &quot;Chandler&quot;, &quot;Rachel&quot;, &quot;Ross&quot;, &quot;Monica&quot;, &quot;Joey&quot;])"
   ]
  },
  {
   "cell_type": "code",
   "execution_count": 17,
   "metadata": {},
   "outputs": [
    {
     "name": "stdout",
     "output_type": "stream",
     "text": [
      "enter the list : [\"Phoebe\", \"Chandler\", \"Rachel\", \"Ross\", \"Monica\", \"Joey\"]\n",
      "['Phoebe', 'Chandler', 'Rachel', 'Ross', 'Monica', 'Joey'] = C J M P R R\n",
      "enter the list : [\"jaydeep\",\"vijay\",\"maulik\",\"manish\",\"nirbhay\"]\n",
      "['jaydeep', 'vijay', 'maulik', 'manish', 'nirbhay'] = j m m n v\n"
     ]
    }
   ],
   "source": [
    "def sname():\n",
    "    ip =  eval(input(\"enter the list : \"))\n",
    "    op =[]\n",
    "    for i in ip:\n",
    "        op.append(i[0])\n",
    "    ans =' '.join(sorted(op))\n",
    "    print(ip,'=',ans)\n",
    "sname()\n",
    "sname()"
   ]
  },
  {
   "cell_type": "code",
   "execution_count": null,
   "metadata": {},
   "outputs": [],
   "source": []
  },
  {
   "cell_type": "markdown",
   "metadata": {},
   "source": [
    "Question4\n",
    "\n",
    "An isogram is a word that has no duplicate letters. Create a function that takes a string and\n",
    "returns either True or False depending on whether or not it&#39;s an &quot;isogram&quot;.\n",
    "\n",
    "Examples\n",
    "\n",
    "is_isogram(&quot;Algorism&quot;) ➞ True\n",
    "\n",
    "is_isogram(&quot;PasSword&quot;) ➞ False\n",
    "\n",
    "Not case sensitive.\n",
    "\n",
    "is_isogram(&quot;Consecutive&quot;) ➞ False\n",
    "\n",
    "Notes\n",
    " Ignore letter case (should not be case sensitive).\n",
    " All test cases contain valid one word strings."
   ]
  },
  {
   "cell_type": "code",
   "execution_count": 22,
   "metadata": {},
   "outputs": [
    {
     "name": "stdout",
     "output_type": "stream",
     "text": [
      "enter the string : enthusiastic\n",
      "enthusiastic  is not a isogram\n",
      "enter the string : nirbhay\n",
      "nirbhay  is a isogram\n"
     ]
    }
   ],
   "source": [
    "def iso():\n",
    "    ip = input(\"enter the string : \")\n",
    "    ip = ip.lower()\n",
    "    if len(ip)==len(set(ip)):\n",
    "        print(ip , \" is a isogram\")\n",
    "    else:\n",
    "        print(ip , \" is not a isogram\")\n",
    "iso()\n",
    "iso()"
   ]
  },
  {
   "cell_type": "code",
   "execution_count": null,
   "metadata": {},
   "outputs": [],
   "source": []
  },
  {
   "cell_type": "markdown",
   "metadata": {},
   "source": [
    "Question5\n",
    "\n",
    "Create a function that takes a string and returns True or False, depending on whether the\n",
    "characters are in order or not.\n",
    "\n",
    "Examples\n",
    "\n",
    "is_in_order(&quot;abc&quot;) ➞ True\n",
    "\n",
    "is_in_order(&quot;edabit&quot;) ➞ False\n",
    "\n",
    "Notes\n",
    "\n",
    "You don&#39;t have to handle empty strings."
   ]
  },
  {
   "cell_type": "code",
   "execution_count": 5,
   "metadata": {},
   "outputs": [
    {
     "name": "stdout",
     "output_type": "stream",
     "text": [
      "enter the string : abcdef\n",
      "the string is sorted =  True\n",
      "enter the string : elephant\n",
      "the string is not sorted =  False\n"
     ]
    }
   ],
   "source": [
    "def ord():\n",
    "    ip = input(\"enter the string : \")\n",
    "    if ip == ''.join(sorted(ip)):\n",
    "        print(\"the string is sorted = \",True)\n",
    "    else:\n",
    "         print(\"the string is not sorted = \",False)\n",
    "ord()\n",
    "ord()"
   ]
  }
 ],
 "metadata": {
  "kernelspec": {
   "display_name": "Python 3",
   "language": "python",
   "name": "python3"
  },
  "language_info": {
   "codemirror_mode": {
    "name": "ipython",
    "version": 3
   },
   "file_extension": ".py",
   "mimetype": "text/x-python",
   "name": "python",
   "nbconvert_exporter": "python",
   "pygments_lexer": "ipython3",
   "version": "3.8.5"
  }
 },
 "nbformat": 4,
 "nbformat_minor": 4
}
