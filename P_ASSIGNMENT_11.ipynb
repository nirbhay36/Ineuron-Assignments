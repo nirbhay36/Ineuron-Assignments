{
 "cells": [
  {
   "cell_type": "code",
   "execution_count": 8,
   "metadata": {},
   "outputs": [
    {
     "name": "stdout",
     "output_type": "stream",
     "text": [
      "enter a string : python is a very interesting programming language\n",
      "enter the minimum length of words you want : 5\n",
      "the words which are greater than 5 letters are : ['python', 'interesting', 'programming', 'language']\n"
     ]
    }
   ],
   "source": [
    "#1. Write a Python program to find words which are greater than given length k?\n",
    "#ans\n",
    "\n",
    "str = input(\"enter a string : \")\n",
    "k = int(input(\"enter the minimum length of words you want : \"))\n",
    "fin_str =[]\n",
    "for i in str.split():\n",
    "    if len(i) > k :\n",
    "        fin_str.append(i)\n",
    "print(\"the words which are greater than %s letters are : %s\"%(k,fin_str))\n",
    "        "
   ]
  },
  {
   "cell_type": "code",
   "execution_count": 18,
   "metadata": {},
   "outputs": [
    {
     "name": "stdout",
     "output_type": "stream",
     "text": [
      "enter a string : he llo\n",
      "enter the ith character you want to remove : 2\n",
      "hello\n"
     ]
    }
   ],
   "source": [
    "#2. Write a Python program for removing i-th character from a string?\n",
    "#ans\n",
    "\n",
    "str = input(\"enter a string : \")\n",
    "ith = int(input(\"enter the ith character you want to remove : \"))\n",
    "fin_str=\"\"\n",
    "for i in range(len(str)):\n",
    "    if i!=ith:\n",
    "        fin_str =fin_str + str[i]\n",
    "print(fin_str)\n",
    "        "
   ]
  },
  {
   "cell_type": "code",
   "execution_count": 26,
   "metadata": {},
   "outputs": [
    {
     "name": "stdout",
     "output_type": "stream",
     "text": [
      "enter a string : i am learning DS\n",
      "the string when splitted :  ['i', 'am', 'learning', 'DS']\n",
      "the string when joined :  i am learning DS\n"
     ]
    }
   ],
   "source": [
    "#3. Write a Python program to split and join a string?\n",
    "#ans\n",
    "\n",
    "str = input(\"enter a string : \")\n",
    "print(\"the string when splitted : \",str.split(' '))\n",
    "print(\"the string when joined : \" ,' '.join(str.split(' ')))"
   ]
  },
  {
   "cell_type": "code",
   "execution_count": 37,
   "metadata": {},
   "outputs": [
    {
     "name": "stdout",
     "output_type": "stream",
     "text": [
      "enter a string : 110110110\n",
      "the string is binary\n"
     ]
    }
   ],
   "source": [
    "#4. Write a Python to check if a given string is binary string or not?\n",
    "#ans\n",
    "\n",
    "str = input(\"enter a string : \")\n",
    "bin=\"01\"\n",
    "flag=0\n",
    "for i in str:\n",
    "    if i not in bin:\n",
    "        flag=1\n",
    "        break\n",
    "    else:\n",
    "        pass\n",
    "if flag==1:    \n",
    "    print(\"the string is non binary\")\n",
    "else :\n",
    "    print(\"the string is binary\")\n"
   ]
  },
  {
   "cell_type": "code",
   "execution_count": 51,
   "metadata": {},
   "outputs": [
    {
     "name": "stdout",
     "output_type": "stream",
     "text": [
      "enter the first string : three times ten is thirty\n",
      "enter the second string : five times six is thirty\n",
      "the uncommon words from both the strings are :   three ten five six\n"
     ]
    }
   ],
   "source": [
    "#5. Write a Python program to find uncommon words from two Strings?\n",
    "#ans\n",
    "\n",
    "str1 = input(\"enter the first string : \").split()\n",
    "str2 = input(\"enter the second string : \").split()\n",
    "ucw = \"\"\n",
    "for i in str1:\n",
    "    if i not in str2:\n",
    "        ucw = ucw + \" \" + i\n",
    "for j in str2:\n",
    "    if j not in str1:\n",
    "        ucw = ucw + \" \" + j\n",
    "print(\"the uncommon words from both the strings are : \",ucw)\n"
   ]
  },
  {
   "cell_type": "code",
   "execution_count": 55,
   "metadata": {},
   "outputs": [
    {
     "name": "stdout",
     "output_type": "stream",
     "text": [
      "enter a string : characters\n",
      "The duplicate characters are :  ['c', 'a', 'r']\n"
     ]
    }
   ],
   "source": [
    "#6. Write a Python to find all duplicate characters in string?\n",
    "#ans\n",
    "\n",
    "str = input(\"enter a string : \")\n",
    "dup= []\n",
    "for i in str:\n",
    "    if str.count(i)>1 and i not in dup:\n",
    "        dup.append(i)\n",
    "print('The duplicate characters are : ' ,dup)        "
   ]
  },
  {
   "cell_type": "code",
   "execution_count": 78,
   "metadata": {},
   "outputs": [
    {
     "name": "stdout",
     "output_type": "stream",
     "text": [
      "enter a string : 1+5+4=10\n",
      "there are 3 special characters in the given string \n",
      " the characters are : ['+', '+', '=']\n"
     ]
    }
   ],
   "source": [
    "#7. Write a Python Program to check if a string contains any special character?\n",
    "#ans\n",
    "\n",
    "str = input(\"enter a string : \")\n",
    "spcl = \"~!@#$%^&*()_+=<>?:{}|\"\n",
    "count = 0\n",
    "spch = []\n",
    "\n",
    "for i in str:\n",
    "    if i in spcl:\n",
    "        count+=1\n",
    "        spch.append(i)\n",
    "print(\"there are %s special characters in the given string \\n the characters are : %s\" %(count,spch))"
   ]
  }
 ],
 "metadata": {
  "kernelspec": {
   "display_name": "Python 3",
   "language": "python",
   "name": "python3"
  },
  "language_info": {
   "codemirror_mode": {
    "name": "ipython",
    "version": 3
   },
   "file_extension": ".py",
   "mimetype": "text/x-python",
   "name": "python",
   "nbconvert_exporter": "python",
   "pygments_lexer": "ipython3",
   "version": "3.8.5"
  }
 },
 "nbformat": 4,
 "nbformat_minor": 4
}
