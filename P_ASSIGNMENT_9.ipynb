{
 "cells": [
  {
   "cell_type": "code",
   "execution_count": 27,
   "metadata": {},
   "outputs": [
    {
     "name": "stdout",
     "output_type": "stream",
     "text": [
      "Enter the Number to check Disarium Number = 175\n",
      "The sum of the digits is :  175\n",
      "The 175 is a Disarium number\n"
     ]
    }
   ],
   "source": [
    "#1. Write a Python program to check if the given number is a Disarium Number?\n",
    "#ans\n",
    "\n",
    "no = int(input(\"Enter the Number to check Disarium Number = \"))\n",
    "ip = no\n",
    "l = len(str(no))\n",
    "sum = 0\n",
    "while(ip>0):\n",
    "        x = ip%10\n",
    "        sum= sum + int(x**l)   \n",
    "        l-=1\n",
    "        ip = ip//10\n",
    "print(\"The sum of the digits is : \",sum)\n",
    "if no==sum:\n",
    "    print(\"The %s is a Disarium number\"%no)\n",
    "else:\n",
    "    print(\"The %s is not a Disarium number\"%no)"
   ]
  },
  {
   "cell_type": "code",
   "execution_count": 25,
   "metadata": {},
   "outputs": [
    {
     "name": "stdout",
     "output_type": "stream",
     "text": [
      "Disarium no in range 1 to 100\n",
      "[1, 2, 3, 4, 5, 6, 7, 8, 9, 89]\n"
     ]
    }
   ],
   "source": [
    "#2. Write a Python program to print all disarium numbers between 1 to 100?\n",
    "#ans\n",
    "\n",
    "print(\"Disarium no in range 1 to 100\")\n",
    "\n",
    "def disarium(no):\n",
    "    l = len(str(no))\n",
    "    sum = 0\n",
    "    while(no>0):\n",
    "        x = no%10\n",
    "        sum= sum + int(x**l)   \n",
    "        l-=1\n",
    "        no = no//10\n",
    "    return sum\n",
    "\n",
    "dis = []\n",
    "\n",
    "for i in range(1,101):\n",
    "    sum = 0\n",
    "    sum = disarium(i)\n",
    "    if sum == i:\n",
    "        dis.append(i)        \n",
    "print(dis)"
   ]
  },
  {
   "cell_type": "code",
   "execution_count": 27,
   "metadata": {},
   "outputs": [
    {
     "name": "stdout",
     "output_type": "stream",
     "text": [
      "Enter the Number to check Happy Number = 32\n",
      "32  is a Happy number\n"
     ]
    }
   ],
   "source": [
    "#3. Write a Python program to check if the given number is Happy Number?\n",
    "#ans\n",
    "\n",
    "no = int(input(\"Enter the Number to check Happy Number = \"))\n",
    "ip =no\n",
    "while (ip>=10):\n",
    "    sum = 0\n",
    "    while (ip>0):\n",
    "        rem = ip%10\n",
    "        sum = sum + (rem**2)\n",
    "        ip=ip//10 \n",
    "    ip=sum\n",
    "    \n",
    "if ip==1:\n",
    "    print(no,\" is a Happy number\")\n",
    "else:\n",
    "    print(no,\" is not a Happy number\")\n",
    "    "
   ]
  },
  {
   "cell_type": "code",
   "execution_count": 10,
   "metadata": {},
   "outputs": [
    {
     "name": "stdout",
     "output_type": "stream",
     "text": [
      "The list of Happy Numbers from 1-100 is given below \n",
      " [1, 10, 13, 19, 23, 28, 31, 32, 44, 49, 68, 70, 79, 82, 86, 91, 94, 97, 100]\n"
     ]
    }
   ],
   "source": [
    "#4. Write a Python program to print all happy numbers between 1 and 100?\n",
    "#ans\n",
    "\n",
    "def Happy(ip):\n",
    "    while(ip>=10):\n",
    "        sum=0\n",
    "        while (ip>0):\n",
    "            rem = ip%10\n",
    "            sum = sum + (rem**2)\n",
    "            ip=ip//10 \n",
    "        ip=sum\n",
    "    if ip == 1:\n",
    "        happy.append(i)\n",
    "\n",
    "happy = []\n",
    "for i in range(1,101):\n",
    "    sum = Happy(i)\n",
    "\n",
    "print(\"The list of Happy Numbers from 1-100 is given below \\n\",happy)\n",
    "    \n"
   ]
  },
  {
   "cell_type": "code",
   "execution_count": 27,
   "metadata": {},
   "outputs": [
    {
     "name": "stdout",
     "output_type": "stream",
     "text": [
      "Enter the Number to check Harshad Number = 54\n",
      "54  is a Harshad number\n"
     ]
    }
   ],
   "source": [
    "#5. Write a Python program to determine whether the given number is a Harshad Number?\n",
    "#ans\n",
    "\n",
    "no = int(input(\"Enter the Number to check Harshad Number = \"))\n",
    "def harshad(no):\n",
    "    sum = 0\n",
    "    while(no>0):\n",
    "        dig = no%10\n",
    "        sum= sum + dig      \n",
    "        no = no//10\n",
    "    return sum\n",
    "\n",
    "sum = harshad(no)\n",
    "\n",
    "if no % sum == 0:\n",
    "    print(no,\" is a Harshad number\")\n",
    "else:\n",
    "    print(no,\" is not a Harshad number\")"
   ]
  },
  {
   "cell_type": "code",
   "execution_count": 40,
   "metadata": {},
   "outputs": [
    {
     "name": "stdout",
     "output_type": "stream",
     "text": [
      "Pronic numbers between 1 and 100: \n",
      "[2, 6, 12, 20, 30, 42, 56, 72, 90]\n"
     ]
    }
   ],
   "source": [
    "#6. Write a Python program to print all pronic numbers between 1 and 100?\n",
    "#ans\n",
    "\n",
    "def pronic(no):\n",
    "    for i in range(0,no+1):\n",
    "        if i * (i + 1) == no:\n",
    "            return True\n",
    "        if i * (i + 1) > no:\n",
    "            return False\n",
    "p=[]\n",
    "print(\"Pronic numbers between 1 and 100: \");  \n",
    "for i in range(1, 101):  \n",
    "    if(pronic(i)):  \n",
    "        p.append(i)\n",
    "print(p)"
   ]
  }
 ],
 "metadata": {
  "kernelspec": {
   "display_name": "Python 3",
   "language": "python",
   "name": "python3"
  },
  "language_info": {
   "codemirror_mode": {
    "name": "ipython",
    "version": 3
   },
   "file_extension": ".py",
   "mimetype": "text/x-python",
   "name": "python",
   "nbconvert_exporter": "python",
   "pygments_lexer": "ipython3",
   "version": "3.8.5"
  }
 },
 "nbformat": 4,
 "nbformat_minor": 4
}
