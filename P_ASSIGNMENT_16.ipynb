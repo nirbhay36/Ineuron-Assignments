{
 "cells": [
  {
   "cell_type": "markdown",
   "metadata": {},
   "source": [
    "1.Write a function that stutters a word as if someone is struggling to read it. Thefirst two letters are repeated twice with an ellipsis ... and space after each, and then the\n",
    "word is pronounced with a question mark ?.\n",
    "\n",
    "Examples\n",
    "stutter(&quot;incredible&quot;) ➞ &quot;in... in... incredible?&quot;\n",
    "\n",
    "stutter(&quot;enthusiastic&quot;) ➞ &quot;en... en... enthusiastic?&quot;\n",
    "\n",
    "stutter(&quot;outstanding&quot;) ➞ &quot;ou... ou... outstanding?&quot;\n",
    "\n",
    "Hint :- Assume all input is in lower case and at least two characters long."
   ]
  },
  {
   "cell_type": "code",
   "execution_count": 3,
   "metadata": {},
   "outputs": [
    {
     "name": "stdout",
     "output_type": "stream",
     "text": [
      "enter any word : incredible\n",
      "in...in...incredible?\n",
      "enter any word : enthusiastic\n",
      "en...en...enthusiastic?\n",
      "enter any word : ouch\n",
      "ou...ou...ouch?\n"
     ]
    }
   ],
   "source": [
    "def shtr():\n",
    "    ip=input(\"enter any word : \")\n",
    "    op = ip[:2]\n",
    "    print(((op + '...')*2) +ip + '?')\n",
    "\n",
    "shtr()\n",
    "shtr()\n",
    "shtr()"
   ]
  },
  {
   "cell_type": "markdown",
   "metadata": {},
   "source": [
    "# \n",
    "Question 2.Create a function that takes an angle in radians and returns the corresponding\n",
    "angle in degrees rounded to one decimal place.\n",
    "\n",
    "Examples\n",
    "radians_to_degrees(1) ➞ 57.3\n",
    "\n",
    "radians_to_degrees(20) ➞ 1145.9\n",
    "\n",
    "radians_to_degrees(50) ➞ 2864.8"
   ]
  },
  {
   "cell_type": "code",
   "execution_count": 2,
   "metadata": {},
   "outputs": [
    {
     "name": "stdout",
     "output_type": "stream",
     "text": [
      "enter the angle in radians : 1\n",
      "1  radians = 57.3  degrees\n",
      "enter the angle in radians : 20\n",
      "20  radians = 1145.9  degrees\n",
      "enter the angle in radians : 50\n",
      "50  radians = 2864.8  degrees\n",
      "\n",
      "\n",
      "\n"
     ]
    }
   ],
   "source": [
    "import math\n",
    "def rd():\n",
    "    ip =int(input(\"enter the angle in radians : \"))\n",
    "    op = ip * (180/math.pi)\n",
    "    print(ip,\" radians =\",round(op,1),\" degrees\")\n",
    "rd()\n",
    "rd()\n",
    "rd()\n",
    "print(\"\\n\\n\")"
   ]
  },
  {
   "cell_type": "markdown",
   "metadata": {},
   "source": [
    "\n",
    "\n",
    "Question 3. In this challenge, establish if a given integer num is a Curzon number. If 1 plus\n",
    "2 elevated to num is exactly divisible by 1 plus 2 multiplied by num, then num is a Curzon\n",
    "number.\n",
    "Given a non-negative integer num, implement a function that returns True if num is a Curzon\n",
    "number, or False otherwise."
   ]
  },
  {
   "cell_type": "code",
   "execution_count": 3,
   "metadata": {},
   "outputs": [
    {
     "name": "stdout",
     "output_type": "stream",
     "text": [
      "enter number to check if its a Curzon number : 5\n",
      "5  is a Curzon number\n",
      "enter number to check if its a Curzon number : 36\n",
      "36  is not a curzon number\n",
      "\n",
      "\n",
      "\n"
     ]
    }
   ],
   "source": [
    "def crzn():\n",
    "    num = int(input(\"enter number to check if its a Curzon number : \"))\n",
    "    if (pow(2,num)+1)%((2*num)+1)==0:\n",
    "        print(num,\" is a Curzon number\")\n",
    "    else:\n",
    "         print(num,\" is not a curzon number\")\n",
    "crzn()\n",
    "crzn()\n",
    "print(\"\\n\\n\")"
   ]
  },
  {
   "cell_type": "markdown",
   "metadata": {},
   "source": [
    "\n",
    "\n",
    "Question 4.Given the side length x find the area of a hexagon."
   ]
  },
  {
   "cell_type": "code",
   "execution_count": 6,
   "metadata": {},
   "outputs": [
    {
     "name": "stdout",
     "output_type": "stream",
     "text": [
      "enter the side of hexagon : 5\n",
      "the area of hexagon wiith side 5 = 65.0\n",
      "enter the side of hexagon : 12\n",
      "the area of hexagon wiith side 12 = 374.1\n",
      "\n",
      "\n",
      "\n"
     ]
    }
   ],
   "source": [
    "import math\n",
    "def harea():\n",
    "    x =int(input(\"enter the side of hexagon : \"))\n",
    "    area = (3*math.sqrt(3)*(x**2))/2\n",
    "    print(\"the area of hexagon wiith side %s = %s\"%(x,round(area,1)))\n",
    "harea()\n",
    "harea()\n",
    "print(\"\\n\\n\")"
   ]
  },
  {
   "cell_type": "markdown",
   "metadata": {},
   "source": [
    "Question 5. Create a function that returns a base-2 (binary) representation of a base-10\n",
    "(decimal) string number. To convert is simple: ((2) means base-2 and (10) means base-10)\n",
    "010101001(2) = 1 + 8 + 32 + 128.\n",
    "Going from right to left, the value of the most right bit is 1, now from that every bit to the left\n",
    "will be x2 the value, value of an 8 bit binary numbers are (256, 128, 64, 32, 16, 8, 4, 2, 1)."
   ]
  },
  {
   "cell_type": "code",
   "execution_count": 64,
   "metadata": {},
   "outputs": [
    {
     "name": "stdout",
     "output_type": "stream",
     "text": [
      "enter a number : 13\n",
      "the binary number is :  1101\n"
     ]
    }
   ],
   "source": [
    "def biny(ip):\n",
    "    ip = int(input(\"enter a number : \"))\n",
    "    print(\"the binary number is : \",\"{0:b}\".format(int(ip)))\n",
    "biny(ip)"
   ]
  }
 ],
 "metadata": {
  "kernelspec": {
   "display_name": "Python 3",
   "language": "python",
   "name": "python3"
  },
  "language_info": {
   "codemirror_mode": {
    "name": "ipython",
    "version": 3
   },
   "file_extension": ".py",
   "mimetype": "text/x-python",
   "name": "python",
   "nbconvert_exporter": "python",
   "pygments_lexer": "ipython3",
   "version": "3.8.5"
  }
 },
 "nbformat": 4,
 "nbformat_minor": 4
}
