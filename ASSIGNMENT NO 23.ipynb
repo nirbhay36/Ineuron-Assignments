{
 "cells": [
  {
   "cell_type": "markdown",
   "metadata": {},
   "source": [
    "1. What is the result of the code, and why?\n",
    "\n",
    "def func(a, b=6, c=8):\n",
    "\n",
    "    print(a, b, c)\n",
    "    \n",
    "func(1, 2)\n",
    "\n",
    "\n",
    "Ans: The result of the code is \"1 2 8\" . When the function is called, the value of a and b are given explicitly and the default value of c is taken as 8."
   ]
  },
  {
   "cell_type": "code",
   "execution_count": 2,
   "metadata": {},
   "outputs": [
    {
     "name": "stdout",
     "output_type": "stream",
     "text": [
      "1 2 8\n"
     ]
    }
   ],
   "source": [
    "def func(a, b=6, c=8):\n",
    "    print(a, b, c)\n",
    "func(1, 2)"
   ]
  },
  {
   "cell_type": "markdown",
   "metadata": {},
   "source": [
    "\n"
   ]
  },
  {
   "cell_type": "markdown",
   "metadata": {},
   "source": [
    "2. What is the result of this code, and why?\n",
    "\n",
    "def func(a, b, c=5):\n",
    "\n",
    "    print(a, b, c)\n",
    "    \n",
    "func(1, c=3, b=2)\n",
    "\n",
    "\n",
    "Ans: The result of the code is \"1 2 3\" . When the function is called, the value of a is given explicitly as 1. Then the value of keyword arguments c and b is also explicitly given to be 3 and 2 respectively. While giving the keyword arguments, the order in which they are put does not create any problem.\n"
   ]
  },
  {
   "cell_type": "code",
   "execution_count": 3,
   "metadata": {},
   "outputs": [
    {
     "name": "stdout",
     "output_type": "stream",
     "text": [
      "1 2 3\n"
     ]
    }
   ],
   "source": [
    "def func(a, b, c=5):\n",
    "\n",
    "    print(a, b, c)\n",
    "    \n",
    "func(1, c=3, b=2)"
   ]
  },
  {
   "cell_type": "markdown",
   "metadata": {},
   "source": [
    "\n"
   ]
  },
  {
   "cell_type": "markdown",
   "metadata": {},
   "source": [
    "3. How about this code: what is its result, and why?\n",
    "\n",
    "def func(a, *pargs):\n",
    "\n",
    "    print(a, pargs)\n",
    "\n",
    "func(1, 2, 3)\n",
    "\n",
    "\n",
    "Ans: The result of the code is \"1 (2, 3)\" . When the function is called, the value of a is given explicitly as 1.\n",
    "Then the parameter *pargs is used when the number of positional arguments is not fixed and the values in *pargs is stored in the form of a tuple. hence (2, 3) is stored in the form of tuple."
   ]
  },
  {
   "cell_type": "code",
   "execution_count": 4,
   "metadata": {},
   "outputs": [
    {
     "name": "stdout",
     "output_type": "stream",
     "text": [
      "1 (2, 3)\n"
     ]
    }
   ],
   "source": [
    "def func(a, *pargs):\n",
    "    print(a, pargs)\n",
    "func(1, 2, 3)"
   ]
  },
  {
   "cell_type": "markdown",
   "metadata": {},
   "source": [
    "\n"
   ]
  },
  {
   "cell_type": "markdown",
   "metadata": {},
   "source": [
    "4. What does this code print, and why?\n",
    "\n",
    "def func(a, **kargs):\n",
    "\n",
    "    print(a, kargs)\n",
    "\n",
    "func(a=1, c=3, b=2)\n",
    "\n",
    "\n",
    "Ans: The result of the code is \"1 {'c': 3, 'b': 2}\" . When the function is called, the value of a is given explicitly as 1.\n",
    " Then the parameter kargs is used when the number of keyword arguments is not fixed and the values in kargs is stored in the form of a dictionary. Here the order matters."
   ]
  },
  {
   "cell_type": "code",
   "execution_count": 5,
   "metadata": {},
   "outputs": [
    {
     "name": "stdout",
     "output_type": "stream",
     "text": [
      "1 {'c': 3, 'b': 2}\n"
     ]
    }
   ],
   "source": [
    "def func(a, **kargs):\n",
    "\n",
    "    print(a, kargs)\n",
    "\n",
    "func(a=1, c=3, b=2)"
   ]
  },
  {
   "cell_type": "markdown",
   "metadata": {},
   "source": [
    "\n"
   ]
  },
  {
   "cell_type": "markdown",
   "metadata": {},
   "source": [
    "5. What gets printed by this, and explain?\n",
    "\n",
    "def func(a, b, c=8, d=5): \n",
    "\n",
    "    print(a, b, c, d)\n",
    "    \n",
    "func(1, *(5, 6))\n",
    "\n",
    "\n",
    "Ans:  The result of the code is \"1 5 6 5\" . When the function is called, the value of a is given explicitly as 1.\n",
    "Then *(5,6) is unpacked and the values 5 and 6 are given to parameters b and c respectively. And the value of d is by default taken to be 5. If d was not provided , an error have came.\n"
   ]
  },
  {
   "cell_type": "code",
   "execution_count": 6,
   "metadata": {},
   "outputs": [
    {
     "name": "stdout",
     "output_type": "stream",
     "text": [
      "1 5 6 5\n"
     ]
    }
   ],
   "source": [
    "def func(a, b, c=8, d=5): \n",
    "\n",
    "    print(a, b, c, d)\n",
    "    \n",
    "func(1, *(5, 6))"
   ]
  },
  {
   "cell_type": "markdown",
   "metadata": {},
   "source": [
    "\n"
   ]
  },
  {
   "cell_type": "markdown",
   "metadata": {},
   "source": [
    "6. what is the result of this, and explain?\n",
    "\n",
    "def func(a, b, c): a = 2; b[0] = 'x'; c['a'] = 'y'\n",
    "    \n",
    "    l=1; m=[1]; n={'a':0}\n",
    "    \n",
    "func(l, m, n)\n",
    "l,m,n\n",
    "\n",
    "\n",
    "Ans: The result of the code is \"(1, ['x'], {'a': 'y'})\" . In python, along with indentation we have the option of writing functions in a single line where at the end of each line, we are required to put a semicolon.\n",
    "\n",
    "Now, the values of variables l, m and n are initialized to be int, list and a dictionary. Now when the function is called, the parameter b refers to the list m and the parameter c refers to the dictionary n. \n",
    "\n",
    "Now inside the function the list m and dictionary n are updated to be ['x'] and {'a': 'y'} respectively but the value of l remains same outside the function. \n",
    "\n",
    "And when the values of l, m and n are called separated by comma, it is printed in the frm of a tuple.\n"
   ]
  },
  {
   "cell_type": "code",
   "execution_count": 10,
   "metadata": {},
   "outputs": [
    {
     "data": {
      "text/plain": [
       "(1, ['x'], {'a': 'y'})"
      ]
     },
     "execution_count": 10,
     "metadata": {},
     "output_type": "execute_result"
    }
   ],
   "source": [
    "def func(a, b, c): a = 2; b[0] = 'x'; c['a'] = 'y'\n",
    "    \n",
    "l=1; m=[1]; n={'a':0}    \n",
    "func(l, m, n)\n",
    "l,m,n"
   ]
  }
 ],
 "metadata": {
  "kernelspec": {
   "display_name": "Python 3",
   "language": "python",
   "name": "python3"
  },
  "language_info": {
   "codemirror_mode": {
    "name": "ipython",
    "version": 3
   },
   "file_extension": ".py",
   "mimetype": "text/x-python",
   "name": "python",
   "nbconvert_exporter": "python",
   "pygments_lexer": "ipython3",
   "version": "3.8.5"
  }
 },
 "nbformat": 4,
 "nbformat_minor": 4
}
