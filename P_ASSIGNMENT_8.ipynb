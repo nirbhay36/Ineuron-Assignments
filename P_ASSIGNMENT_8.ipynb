{
 "cells": [
  {
   "cell_type": "code",
   "execution_count": 43,
   "metadata": {},
   "outputs": [
    {
     "name": "stdout",
     "output_type": "stream",
     "text": [
      "For the given matrix [[1, 8, 3], [4, 10, 6], [7, 8, 9]] and [[9, 3, 6], [6, 10, 1], [7, 2, 4]] the sum is\n",
      "[10, 11, 9]\n",
      "[10, 20, 7]\n",
      "[14, 10, 13]\n",
      "\n",
      " Using numpy the sum for same given matrix is \n",
      " [[10 11  9]\n",
      " [10 20  7]\n",
      " [14 10 13]]\n"
     ]
    }
   ],
   "source": [
    "#1. Write a Python Program to Add Two Matrices?\n",
    "#ans\n",
    "\n",
    "a = [[1,8,3],\n",
    "    [4,10,6],\n",
    "    [7,8,9]]\n",
    "\n",
    "b = [[9,3,6],\n",
    "    [6,10,1],\n",
    "    [7,2,4]]\n",
    "\n",
    "sum  = [[0,0,0],\n",
    "     [0,0,0],\n",
    "     [0,0,0]]\n",
    "\n",
    "for i in range(len(a)):\n",
    "    for j in range(len(a[0])):\n",
    "        sum[i][j] = a[i][j] + b[i][j]\n",
    "print(\"For the given matrix %s and %s the sum is\"%(a,b))        \n",
    "for s in sum:\n",
    "    print(s)\n",
    "    \n",
    "#2nd method using numpy\n",
    "import numpy as np\n",
    "x = [[1,8,3],\n",
    "    [4,10,6],\n",
    "    [7,8,9]]\n",
    "\n",
    "y = [[9,3,6],\n",
    "    [6,10,1],\n",
    "    [7,2,4]]\n",
    "\n",
    "sum1 = (np.array(x) + np.array(y))\n",
    "print(\"\\n Using numpy the sum for same given matrix is \\n\",sum1)"
   ]
  },
  {
   "cell_type": "code",
   "execution_count": 58,
   "metadata": {},
   "outputs": [
    {
     "name": "stdout",
     "output_type": "stream",
     "text": [
      "For the given matrix [[1, 8, 3], [4, 10, 6], [7, 8, 9]] and [[9, 3, 6], [6, 10, 1], [7, 2, 4]] the matrix multiplication is\n",
      "[78, 89, 26]\n",
      "[138, 124, 58]\n",
      "[174, 119, 86]\n",
      "\n",
      " Using numpy the multiplication for same given matrix is \n",
      " [[ 78  89  26]\n",
      " [138 124  58]\n",
      " [174 119  86]]\n"
     ]
    }
   ],
   "source": [
    "#2. Write a Python Program to Multiply Two Matrices?\n",
    "#ans\n",
    "\n",
    "a = [[1,8,3],\n",
    "    [4,10,6],\n",
    "    [7,8,9]]\n",
    "\n",
    "b = [[9,3,6],\n",
    "    [6,10,1],\n",
    "    [7,2,4]]\n",
    "\n",
    "mul= [[0,0,0],\n",
    "     [0,0,0],\n",
    "     [0,0,0]]\n",
    "\n",
    "for i in range(len(a)):\n",
    "    for j in range(len(b[0])):\n",
    "        for k in range(len(b)):\n",
    "            mul[i][j] += a[i][k]* b[k][j]\n",
    "print(\"For the given matrix %s and %s the matrix multiplication is\"%(a,b))        \n",
    "for s in mul:\n",
    "    print(s)\n",
    "    \n",
    "    \n",
    "#2nd method using numpy\n",
    "import numpy as np\n",
    "x = [[1,8,3],\n",
    "    [4,10,6],\n",
    "    [7,8,9]]\n",
    "\n",
    "y = [[9,3,6],\n",
    "    [6,10,1],\n",
    "    [7,2,4]]\n",
    "\n",
    "mul1 = np.dot(x,y)\n",
    "print(\"\\n Using numpy the multiplication for same given matrix is \\n\",mul1) \n",
    "\n"
   ]
  },
  {
   "cell_type": "code",
   "execution_count": 75,
   "metadata": {},
   "outputs": [
    {
     "name": "stdout",
     "output_type": "stream",
     "text": [
      "The transpose of the matrix [[1, 2, 3], [4, 5, 6], [7, 8, 9], [1, 1, 1]] is \n",
      " [[1, 4, 7, 1], [2, 5, 8, 1], [3, 6, 9, 1]]\n",
      " \n",
      " Using numpy the result is : \n",
      " [[1 4 7 1]\n",
      " [2 5 8 1]\n",
      " [3 6 9 1]]\n"
     ]
    }
   ],
   "source": [
    "#3. Write a Python Program to Transpose a Matrix?\n",
    "#ans\n",
    "import numpy \n",
    "a = [[1,2,3],\n",
    "    [4,5,6],\n",
    "    [7,8,9],\n",
    "    [1,1,1]]\n",
    "transpose = [[a[j][i]\n",
    "           for j in range(len(a))] for i in range(len(a[0]))]\n",
    "print(\"The transpose of the matrix %s is \\n %s\"%(a,transpose))\n",
    "\n",
    "print(\" \\n Using numpy the result is : \\n\" , numpy.transpose(matrix))\n"
   ]
  },
  {
   "cell_type": "code",
   "execution_count": 89,
   "metadata": {},
   "outputs": [
    {
     "name": "stdout",
     "output_type": "stream",
     "text": [
      "Enter a string : I am solving A Ineuron python programmING assignment\n",
      "The sorted words are :  a am assignment i ineuron programming python solving\n"
     ]
    }
   ],
   "source": [
    "#4. Write a Python Program to Sort Words in Alphabetic Order?\n",
    "#ans\n",
    "\n",
    "str = input(\"Enter a string : \")\n",
    "sw = [s.lower() for s in str.split()]\n",
    "sw.sort()\n",
    "print(\"The sorted words are : \",' '.join(sw))"
   ]
  },
  {
   "cell_type": "code",
   "execution_count": 92,
   "metadata": {},
   "outputs": [
    {
     "name": "stdout",
     "output_type": "stream",
     "text": [
      "enter a string to remove punctuation marks : The sound was beeped out with captions $%@%^*$%$%^# . It was hard to understand.\n",
      "The string without any punctuation marks :  The sound was beeped out with captions   It was hard to understand\n"
     ]
    }
   ],
   "source": [
    "#5. Write a Python Program to Remove Punctuation From a String?\n",
    "#ans\n",
    "\n",
    "sym = '''!()-[]{};:'\"\\,<>./?@#$%^&*_~'''\n",
    "op_str =\"\"\n",
    "ip_str = input(\"enter a string to remove punctuation marks : \")\n",
    "for i in ip_str:\n",
    "    if i not in sym:\n",
    "        op_str+= i\n",
    "print(\"The string without any punctuation marks : \",op_str)"
   ]
  }
 ],
 "metadata": {
  "kernelspec": {
   "display_name": "Python 3",
   "language": "python",
   "name": "python3"
  },
  "language_info": {
   "codemirror_mode": {
    "name": "ipython",
    "version": 3
   },
   "file_extension": ".py",
   "mimetype": "text/x-python",
   "name": "python",
   "nbconvert_exporter": "python",
   "pygments_lexer": "ipython3",
   "version": "3.8.5"
  }
 },
 "nbformat": 4,
 "nbformat_minor": 4
}
