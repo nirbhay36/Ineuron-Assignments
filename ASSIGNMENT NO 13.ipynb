{
 "cells": [
  {
   "cell_type": "markdown",
   "metadata": {},
   "source": [
    "1. What advantages do Excel spreadsheets have over CSV spreadsheets?\n",
    "\n",
    "Ans: 1. Excel files can store and analyse large and complex files easily as compared to the csv files.\n",
    "     2. Excel files can perform VBA coding while csv files cannot.\n",
    "     3. CSV files are plain-text files, Does not contain formatting, formulas, macros, etc. It is also known as flat files."
   ]
  },
  {
   "cell_type": "markdown",
   "metadata": {},
   "source": []
  },
  {
   "cell_type": "markdown",
   "metadata": {},
   "source": [
    "2.What do you pass to csv.reader() and csv.writer() to create reader and writer objects?\n",
    "\n",
    "Ans : We need to pass two things, one is the location of the file which is common for both and the second is argument delimeter which will be 'r' to read inside the csv.reader() and 'w' to write inside the csv.writer() .  "
   ]
  },
  {
   "cell_type": "markdown",
   "metadata": {},
   "source": []
  },
  {
   "cell_type": "markdown",
   "metadata": {},
   "source": [
    "3. What modes do File objects for reader and writer objects need to be opened in?\n",
    "\n",
    "Ans :  For csv.reader(file), the file objects needed to be opened in read mode mode='r' Whereas for csv.writer(file) the file objects needed to be opened in write mode mode='w' ."
   ]
  },
  {
   "cell_type": "markdown",
   "metadata": {},
   "source": []
  },
  {
   "cell_type": "markdown",
   "metadata": {},
   "source": [
    "4. What method takes a list argument and writes it to a CSV file?\n",
    "Ans : The writerow() method of writer object takes a list argument and writes a single row in the file.\n",
    "      The writerows() method of writer object also takes a list argument and writes multiple rows in the file."
   ]
  },
  {
   "cell_type": "markdown",
   "metadata": {},
   "source": []
  },
  {
   "cell_type": "markdown",
   "metadata": {},
   "source": [
    "5. What do the keyword arguments delimiter and line terminator do?\n",
    "Ans : A delimiter is a charachter or a string using which we can use to separate the words or contents of the file.\n",
    "A line terminator comes at the end of a line that seperates different lines of the file. By default, it is a newline and can be changed if required.\n",
    "eg : DS , AI , ML\n",
    "     yes , no , no\n",
    "here ',' is the delimeter and newline is by default line terminator."
   ]
  },
  {
   "cell_type": "markdown",
   "metadata": {},
   "source": []
  },
  {
   "cell_type": "markdown",
   "metadata": {},
   "source": [
    "6. What function takes a string of JSON data and returns a Python data structure?\n",
    "Ans : loads() method takes a string of JSON data and returns a Python data structure"
   ]
  },
  {
   "cell_type": "code",
   "execution_count": 2,
   "metadata": {},
   "outputs": [
    {
     "name": "stdout",
     "output_type": "stream",
     "text": [
      "JSON DATA :  {\n",
      "    \"DS\": \"yes\",\n",
      "    \"AI\": \"no\",\n",
      "    \"ML\": \"no\"\n",
      "}\n",
      "PYTHON DATA :  {'DS': 'yes', 'AI': 'no', 'ML': 'no'}\n"
     ]
    }
   ],
   "source": [
    "import json\n",
    "json_string ='''{\n",
    "    \"DS\": \"yes\",\n",
    "    \"AI\": \"no\",\n",
    "    \"ML\": \"no\"\n",
    "}'''\n",
    "print(\"JSON DATA : \",json_string)\n",
    "python_data_structure = json.loads(json_string)\n",
    "print(\"PYTHON DATA : \",python_data_structure)"
   ]
  },
  {
   "cell_type": "markdown",
   "metadata": {},
   "source": []
  },
  {
   "cell_type": "markdown",
   "metadata": {},
   "source": [
    "7. What function takes a Python data structure and returns a string of JSON data?\n",
    "Ans: dumps() method takes a python data structure and returns a string of JSON data"
   ]
  },
  {
   "cell_type": "code",
   "execution_count": 9,
   "metadata": {},
   "outputs": [
    {
     "name": "stdout",
     "output_type": "stream",
     "text": [
      "PYTHON DATA :  {'DS': 'yes', 'AI': 'no', 'ML': 'no'}\n",
      "JSON DATA :  {\n",
      " \"DS\": \"yes\",\n",
      " \"AI\": \"no\",\n",
      " \"ML\": \"no\"\n",
      "}\n"
     ]
    }
   ],
   "source": [
    "import json\n",
    "python_data = {'DS': 'yes', 'AI': 'no', 'ML': 'no'}\n",
    "print(\"PYTHON DATA : \",python_data)\n",
    "json_data = json.dumps(python_data,indent=1,sort_keys=False)\n",
    "print(\"JSON DATA : \",json_data)"
   ]
  }
 ],
 "metadata": {
  "kernelspec": {
   "display_name": "Python 3",
   "language": "python",
   "name": "python3"
  },
  "language_info": {
   "codemirror_mode": {
    "name": "ipython",
    "version": 3
   },
   "file_extension": ".py",
   "mimetype": "text/x-python",
   "name": "python",
   "nbconvert_exporter": "python",
   "pygments_lexer": "ipython3",
   "version": "3.8.5"
  }
 },
 "nbformat": 4,
 "nbformat_minor": 4
}
