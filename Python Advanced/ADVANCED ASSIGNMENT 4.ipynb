{
 "cells": [
  {
   "cell_type": "markdown",
   "metadata": {},
   "source": [
    "Q1. Which two operator overloading methods can you use in your classes to support iteration?\n",
    "\n",
    "Ans:\n",
    "\n",
    "The two operator overloading methods that are used in classes to support iteration are __iter__ and __next__ methods.\n",
    "\n",
    "__iter__ returns the iterator object and is called at the start of loop in our respective class. \n",
    "\n",
    "__next__ is called at each loop increment, it returns the incremented value. Also stop iteration is raised when there is no value to return."
   ]
  },
  {
   "cell_type": "code",
   "execution_count": 1,
   "metadata": {},
   "outputs": [
    {
     "name": "stdout",
     "output_type": "stream",
     "text": [
      "1 2 3 4 5 6 7 8 9 10 "
     ]
    }
   ],
   "source": [
    "class Count:\n",
    "    def __init__(self,current,high):\n",
    "        self.current = current\n",
    "        self.high = high\n",
    "    def __iter__(self):\n",
    "        return self\n",
    "    def __next__(self):\n",
    "        if self.current > self.high:\n",
    "            raise StopIteration\n",
    "        else:\n",
    "            self.current += 1\n",
    "            return self.current - 1\n",
    "for ele in Count(1,10):\n",
    "    print(ele, end=\" \")"
   ]
  },
  {
   "cell_type": "markdown",
   "metadata": {},
   "source": [
    "\n"
   ]
  },
  {
   "cell_type": "markdown",
   "metadata": {},
   "source": [
    "Q2. In what contexts do the two operator overloading methods manage printing?\n",
    "\n",
    "Ans:\n",
    "\n",
    "The two operator overloading methods that manage printing are __repr__ and __str__.\n",
    "\n",
    "The __str__ method is called whenever the print function is used, and it prints an informal string representaion of the object.\n",
    "\n",
    "The __repr__ method gives a formal string representaion of the object which includes the class name and the values of the attributes.\n"
   ]
  },
  {
   "cell_type": "code",
   "execution_count": 3,
   "metadata": {},
   "outputs": [
    {
     "name": "stdout",
     "output_type": "stream",
     "text": [
      "The name is Virat. Age is 24. Salary is 100000\n",
      "Employee('Virat',24,100000)\n"
     ]
    }
   ],
   "source": [
    "class Employee:\n",
    "    def __init__(self,name,age,salary):\n",
    "        self.name = name\n",
    "        self.age = age\n",
    "        self.salary = salary\n",
    "        \n",
    "    def __str__(self):\n",
    "        return f\"The name is {self.name}. Age is {self.age}. Salary is {self.salary}\"\n",
    "    \n",
    "    def __repr__(self):\n",
    "        return f\"Employee('{self.name}',{self.age},{self.salary})\"\n",
    "    \n",
    "e = Employee(\"Virat\", 24, 100000)\n",
    "print(str(e))\n",
    "print(repr(e))"
   ]
  },
  {
   "cell_type": "markdown",
   "metadata": {},
   "source": [
    "\n"
   ]
  },
  {
   "cell_type": "markdown",
   "metadata": {},
   "source": [
    "Q3. In a class, how do you intercept slice operations?\n",
    "\n",
    "Ans:\n",
    "\n",
    "The __getitem__ method is used for accessing list items, array elements, dictionary entries etc. slice is a constructor in python that creates slice object to represent set of indices that the range(start, stop, step) specifies.\n",
    "\n",
    "The syntax to use it is: __getitem__(slice(start,stop,step))"
   ]
  },
  {
   "cell_type": "markdown",
   "metadata": {},
   "source": [
    "\n"
   ]
  },
  {
   "cell_type": "markdown",
   "metadata": {},
   "source": [
    "Q4. In a class, how do you capture in-place addition?\n",
    "\n",
    "Ans:\n",
    "\n",
    "a+b is normal addition. Whereas a+=b is inplace addition operation. In this in-place addition a itself will store the value of addition. In a class __iadd__ method is used for this in-place operation"
   ]
  },
  {
   "cell_type": "code",
   "execution_count": 5,
   "metadata": {},
   "outputs": [
    {
     "name": "stdout",
     "output_type": "stream",
     "text": [
      "117\n"
     ]
    }
   ],
   "source": [
    "class cricket:\n",
    "    matches = 50 \n",
    "    def __init__(self,batsmen,runs):\n",
    "        self.batsmen=batsmen\n",
    "        self.runs=runs\n",
    "    def __iadd__(self,other):\n",
    "        self.runs += other.runs\n",
    "        return self.runs\n",
    "\n",
    "rcb = cricket(\"virat\",72) \n",
    "mi = cricket(\"rohit\",45)\n",
    "rcb+=mi\n",
    "print(rcb)"
   ]
  },
  {
   "cell_type": "markdown",
   "metadata": {},
   "source": [
    "\n"
   ]
  },
  {
   "cell_type": "markdown",
   "metadata": {},
   "source": [
    "Q5. When is it appropriate to use operator overloading?\n",
    "\n",
    "Ans:\n",
    "\n",
    "Operator overloading is used when we want to use an operator other than its normal operation to have different meaning according to the context required in user defined function."
   ]
  },
  {
   "cell_type": "code",
   "execution_count": 6,
   "metadata": {},
   "outputs": [
    {
     "data": {
      "text/plain": [
       "117"
      ]
     },
     "execution_count": 6,
     "metadata": {},
     "output_type": "execute_result"
    }
   ],
   "source": [
    "class cricket:\n",
    "    matches = 50 \n",
    "    def __init__(self,batsmen,runs):\n",
    "        self.batsmen=batsmen\n",
    "        self.runs=runs\n",
    "    def __add__(self,other):\n",
    "        return self.runs + other.runs\n",
    "\n",
    "rcb = cricket(\"virat\",72) \n",
    "mi = cricket(\"rohit\",45)\n",
    "rcb+mi"
   ]
  }
 ],
 "metadata": {
  "kernelspec": {
   "display_name": "Python 3",
   "language": "python",
   "name": "python3"
  },
  "language_info": {
   "codemirror_mode": {
    "name": "ipython",
    "version": 3
   },
   "file_extension": ".py",
   "mimetype": "text/x-python",
   "name": "python",
   "nbconvert_exporter": "python",
   "pygments_lexer": "ipython3",
   "version": "3.8.5"
  }
 },
 "nbformat": 4,
 "nbformat_minor": 4
}
