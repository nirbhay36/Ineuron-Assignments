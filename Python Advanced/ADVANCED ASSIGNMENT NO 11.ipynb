{
 "cells": [
  {
   "cell_type": "markdown",
   "metadata": {},
   "source": [
    "Q1. What is the concept of a metaclass?\n",
    "\n",
    "Ans:\n",
    "A metaclass is a class that defines the behavior of other classes. In Python, a metaclass is a class that inherits from the type class and is used to create new classes.\n",
    "\n",
    "In other languages, a metaclass might be used to define the behavior of objects, such as how they are created, how they interact with other objects, or how they are garbage collected.\n",
    "\n",
    "Metaclasses can be used to define custom behavior for classes, such as adding methods or attributes to all instances of a class, or to customize the behavior of the class itself."
   ]
  },
  {
   "cell_type": "code",
   "execution_count": null,
   "metadata": {},
   "outputs": [],
   "source": []
  },
  {
   "cell_type": "markdown",
   "metadata": {},
   "source": [
    "Q2. What is the best way to declare a class's metaclass?\n",
    "\n",
    "Ans:\n",
    "In Python, the best way to declare a class's metaclass is to use the metaclass keyword argument in the class definition. The value of this keyword argument should be the metaclass that you want to use for the class.\n",
    "\n",
    "For example, if you have defined a metaclass MyMeta and you want to use it for a class MyClass, you can do it like this:"
   ]
  },
  {
   "cell_type": "code",
   "execution_count": 2,
   "metadata": {},
   "outputs": [],
   "source": [
    "class MyMeta(type):\n",
    "    pass\n",
    "class MyClass(metaclass=MyMeta):\n",
    "    pass"
   ]
  },
  {
   "cell_type": "code",
   "execution_count": null,
   "metadata": {},
   "outputs": [],
   "source": []
  },
  {
   "cell_type": "markdown",
   "metadata": {},
   "source": [
    "Q3. How do class decorators overlap with metaclasses for handling classes?\n",
    "\n",
    "Ans:\n",
    "Class decorators are used to modify the behavior of an existing class, while metaclasses are used to define the behavior of a class when it is created.\n",
    "\n",
    "Both can be used to modify class behavior, but they are used in different stages of the class's lifecycle.\n",
    "\n",
    "The one that takes a class object and modifies it, in the course of the metaclass's __new__ or __init__ that make the class object."
   ]
  },
  {
   "cell_type": "code",
   "execution_count": null,
   "metadata": {},
   "outputs": [],
   "source": []
  },
  {
   "cell_type": "markdown",
   "metadata": {},
   "source": [
    "Q4. How do class decorators overlap with metaclasses for handling instances?\n",
    "\n",
    "Ans:\n",
    "You can use a class decorator to add methods or attributes to a class or to change the behavior of its methods, but it doesn't affect the instances of the class, it only affects the class itself.\n",
    "\n",
    "However, you can use a custom metaclass to change the behavior of the class creation process. Metaclasses allow you to define custom behavior for classes, such as adding methods or attributes to all instances of a class, or to customize the behavior of the class itself.\n",
    "\n",
    "Anything you can do with a class decorator, you can of course do with a custom metaclass . You have to just apply the functionality of the \"decorator function\", i.e., the one that takes a class object and modifies it, in the course of the metaclass's __new__ or __init__ that make the class object."
   ]
  },
  {
   "cell_type": "code",
   "execution_count": null,
   "metadata": {},
   "outputs": [],
   "source": []
  }
 ],
 "metadata": {
  "kernelspec": {
   "display_name": "Python 3",
   "language": "python",
   "name": "python3"
  },
  "language_info": {
   "codemirror_mode": {
    "name": "ipython",
    "version": 3
   },
   "file_extension": ".py",
   "mimetype": "text/x-python",
   "name": "python",
   "nbconvert_exporter": "python",
   "pygments_lexer": "ipython3",
   "version": "3.8.5"
  }
 },
 "nbformat": 4,
 "nbformat_minor": 4
}
