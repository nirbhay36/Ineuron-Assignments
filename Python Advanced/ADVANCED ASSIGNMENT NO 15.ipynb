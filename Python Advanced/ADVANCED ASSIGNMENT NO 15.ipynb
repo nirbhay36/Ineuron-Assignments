{
 "cells": [
  {
   "cell_type": "markdown",
   "metadata": {},
   "source": [
    "1. What are the new features added in Python 3.8 version?\n",
    "\n",
    "Ans:\n",
    "Python 3.8, which was released in October 2019, has several new features and improvements. Here are some of the most notable additions and changes in Python 3.8:\n",
    "\n",
    "The walrus operator (:=) allows you to assign a value to a variable while performing a comparison or a logical operation, making it more concise.\n",
    "\n",
    "Positional-only parameters, which allows to specify that certain function parameters can only be passed by position and not by keyword. This can be useful for maintaining backward compatibility with existing code.\n",
    "\n",
    "The typing.Literal type, which allows you to specify that a variable can only take on a specific set of values.\n",
    "\n",
    "The math.isqrt() function, which returns the integer part of the square root of a number.\n",
    "\n",
    "The math.dist() function, which calculates the Euclidean distance between two points.\n",
    "\n",
    "The math.comb() function, which calculates the number of ways to choose k items from a set of n items, without replacement, and with order not mattering.\n",
    "\n",
    "The math.perm() function, which calculates the number of ways to choose k items from a set of n items, with replacement, and with order mattering.\n",
    "\n",
    "The math.prod() function, which calculates the product of all the elements in an iterable.\n",
    "\n",
    "The math.isclose() function, which compares two numbers for equality within a tolerance range, rather than for exact equality.\n",
    "\n",
    "The f-strings support for the = specifier, which allows you to include the value of an expression in an f-string, along with its representation.\n",
    "\n",
    "The time.time_ns() function, which returns the current time in nanoseconds, and the time.sleep() function, which can now be called with a nanoseconds argument.\n",
    "\n",
    "The os.sched_setaffinity() and os.sched_getaffinity() functions, which allow you to set or get the CPU affinity of a process.\n",
    "\n",
    "The os.cpu_count() function, which returns the number of CPUs in the system.\n",
    "\n",
    "The os.get_terminal_size() function, which returns the size of the terminal window.\n",
    "\n",
    "The subprocess module now supports the subprocess.run() function, which allows you to run a command and capture its output and return code in a single call."
   ]
  },
  {
   "cell_type": "code",
   "execution_count": null,
   "metadata": {},
   "outputs": [],
   "source": []
  },
  {
   "cell_type": "markdown",
   "metadata": {},
   "source": [
    "2. What is monkey patching in Python?\n",
    "\n",
    "Ans:\n",
    "Monkey patching is a technique in Python where you modify the behavior of a class or module at runtime, without changing the original source code. This is done by adding, modifying, or removing attributes of the class or module after it has been defined.\n",
    "\n",
    "For example, you could add a new method to an existing class, or change the behavior of an existing method, by reassigning it to a new function."
   ]
  },
  {
   "cell_type": "code",
   "execution_count": 1,
   "metadata": {},
   "outputs": [
    {
     "name": "stdout",
     "output_type": "stream",
     "text": [
      "modified behavior\n"
     ]
    }
   ],
   "source": [
    "class MyClass:\n",
    "    def my_method(self):\n",
    "        print(\"original behavior\")\n",
    "\n",
    "def new_method(self):\n",
    "    print(\"modified behavior\")\n",
    "\n",
    "MyClass.my_method = new_method\n",
    "\n",
    "obj = MyClass()\n",
    "obj.my_method() "
   ]
  },
  {
   "cell_type": "code",
   "execution_count": null,
   "metadata": {},
   "outputs": [],
   "source": []
  },
  {
   "cell_type": "markdown",
   "metadata": {},
   "source": [
    "3. What is the difference between a shallow copy and deep copy?\n",
    "\n",
    "Ans:\n",
    "A shallow copy creates a new object with a new reference, but it still points to the same objects as the original.\n",
    "\n",
    "This means that any changes made to the original object will be reflected in the copy, and vice versa.\n",
    "\n",
    "\n",
    "A deep copy creates a new object with a new reference, and it also creates new copies of all the objects that the original object references.\n",
    "\n",
    "This means that changes made to the original object will not be reflected in the copy, and vice versa."
   ]
  },
  {
   "cell_type": "code",
   "execution_count": 2,
   "metadata": {},
   "outputs": [
    {
     "name": "stdout",
     "output_type": "stream",
     "text": [
      "[1, [99, 3], 4]\n",
      "[1, [99, 3], 4]\n"
     ]
    }
   ],
   "source": [
    "original_list = [1, [2, 3], 4]\n",
    "shallow_copy = original_list.copy()\n",
    "\n",
    "original_list[1][0] = 99\n",
    "print(shallow_copy) \n",
    "print(original_list)"
   ]
  },
  {
   "cell_type": "code",
   "execution_count": 3,
   "metadata": {},
   "outputs": [
    {
     "name": "stdout",
     "output_type": "stream",
     "text": [
      "[1, [2, 3], 4]\n",
      "[1, [99, 3], 4]\n"
     ]
    }
   ],
   "source": [
    "import copy\n",
    "original_list = [1, [2, 3], 4]\n",
    "deep_copy = copy.deepcopy(original_list)\n",
    "\n",
    "original_list[1][0] = 99\n",
    "print(deep_copy)\n",
    "print(original_list)"
   ]
  },
  {
   "cell_type": "code",
   "execution_count": null,
   "metadata": {},
   "outputs": [],
   "source": []
  },
  {
   "cell_type": "markdown",
   "metadata": {},
   "source": [
    "4. What is the maximum possible length of an identifier?\n",
    "\n",
    "Ans:\n",
    "According to the official Python style guide (PEP 8), identifiers should be lowercase, with words separated by underscores. \n",
    "\n",
    "They should be short, but not too short, and meaningful. It's generally recommended to keep identifiers under 79 characters, as this is the recommended line length in PEP 8."
   ]
  },
  {
   "cell_type": "code",
   "execution_count": null,
   "metadata": {},
   "outputs": [],
   "source": []
  },
  {
   "cell_type": "markdown",
   "metadata": {},
   "source": [
    "5. What is generator comprehension?\n",
    "\n",
    "Ans:\n",
    "A generator comprehension is a concise way of creating a generator object in Python. It is similar to a list comprehension, but instead of creating a new list, it creates a generator object that can be used to iterate over the values produced by the comprehension.\n",
    "\n",
    "A generator comprehension is written using the same syntax as a list comprehension, but with round brackets instead of square brackets.\n",
    "\n",
    "The main benefit of generator comprehension is that it can be used to generate a large number of items without loading them all into memory at once. This can be very useful when working with large data sets or infinite sequences."
   ]
  },
  {
   "cell_type": "code",
   "execution_count": 6,
   "metadata": {},
   "outputs": [
    {
     "name": "stdout",
     "output_type": "stream",
     "text": [
      "[0, 1, 4, 9, 16, 25, 36, 49, 64, 81]\n",
      "<generator object <genexpr> at 0x0000019B47024270>\n",
      "0\n",
      "1\n",
      "4\n",
      "9\n",
      "16\n",
      "25\n",
      "36\n",
      "49\n",
      "64\n",
      "81\n"
     ]
    }
   ],
   "source": [
    "# List comprehension\n",
    "squared_numbers = [x ** 2 for x in range(10)]\n",
    "print(squared_numbers)\n",
    "\n",
    "# Generator comprehension\n",
    "squared_numbers = (x ** 2 for x in range(10))\n",
    "print(squared_numbers)\n",
    "for i in squared_numbers:\n",
    "    print(i)"
   ]
  },
  {
   "cell_type": "code",
   "execution_count": null,
   "metadata": {},
   "outputs": [],
   "source": []
  }
 ],
 "metadata": {
  "kernelspec": {
   "display_name": "Python 3",
   "language": "python",
   "name": "python3"
  },
  "language_info": {
   "codemirror_mode": {
    "name": "ipython",
    "version": 3
   },
   "file_extension": ".py",
   "mimetype": "text/x-python",
   "name": "python",
   "nbconvert_exporter": "python",
   "pygments_lexer": "ipython3",
   "version": "3.8.5"
  }
 },
 "nbformat": 4,
 "nbformat_minor": 4
}
