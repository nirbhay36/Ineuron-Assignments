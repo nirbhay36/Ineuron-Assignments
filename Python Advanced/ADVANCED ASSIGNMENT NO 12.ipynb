{
 "cells": [
  {
   "cell_type": "markdown",
   "metadata": {},
   "source": [
    "Q1. Does assigning a value to a string's indexed character violate Python's string immutability?\n",
    "\n",
    "Ans:\n",
    "Yes, assigning a value to a string's indexed character violates Python's string immutability. \n",
    "\n",
    "In Python, strings are immutable, which means that once a string is created, its value cannot be modified. \n",
    "\n",
    "Attempting to change the value of a single character in a string by assigning to its indexed position will raise a TypeError exception."
   ]
  },
  {
   "cell_type": "code",
   "execution_count": null,
   "metadata": {},
   "outputs": [],
   "source": []
  },
  {
   "cell_type": "markdown",
   "metadata": {},
   "source": [
    "Q2. Does using the += operator to concatenate strings violate Python's string immutability? Why or why not?\n",
    "\n",
    "Ans:\n",
    "Using the += operator to concatenate strings does not violate Python's string immutability.\n",
    "\n",
    "In Python, strings are immutable, which means that once a string is created, its value cannot be modified.\n",
    "\n",
    "However, when you use the += operator to concatenate two strings, Python creates a new string in memory that contains the concatenated result, and assigns it to the variable on the left-hand side of the operator. The original strings are not modified."
   ]
  },
  {
   "cell_type": "code",
   "execution_count": 2,
   "metadata": {},
   "outputs": [
    {
     "data": {
      "text/plain": [
       "'helloworld'"
      ]
     },
     "execution_count": 2,
     "metadata": {},
     "output_type": "execute_result"
    }
   ],
   "source": [
    "s1 = \"hello\"\n",
    "s2 = \"world\"\n",
    "s1 += s2\n",
    "s1"
   ]
  },
  {
   "cell_type": "code",
   "execution_count": null,
   "metadata": {},
   "outputs": [],
   "source": []
  },
  {
   "cell_type": "markdown",
   "metadata": {},
   "source": [
    "Q3. In Python, how many different ways are there to index a character?\n",
    "\n",
    "Ans:\n",
    "In Python, there are several different ways to index a character in a string:\n",
    "\n",
    "Here is an example:"
   ]
  },
  {
   "cell_type": "code",
   "execution_count": 5,
   "metadata": {},
   "outputs": [
    {
     "name": "stdout",
     "output_type": "stream",
     "text": [
      "H\n",
      "!\n",
      "llo\n",
      "2\n",
      "6\n",
      "True\n",
      "True\n"
     ]
    }
   ],
   "source": [
    "example = \"Hello World!\"\n",
    "\n",
    "# Using square brackets\n",
    "print(example[0]) \n",
    "\n",
    "# Using negative indexes\n",
    "print(example[-1])\n",
    "\n",
    "# Using slicing\n",
    "print(example[2:5]) \n",
    "\n",
    "# Using the `str.find()` method\n",
    "print(example.find('l'))\n",
    "\n",
    "# Using the `str.index()` method\n",
    "print(example.index('W'))\n",
    "\n",
    "# Using the `str.startswith()` method\n",
    "print(example.startswith('H')) \n",
    "\n",
    "# Using the `str.endswith()` method\n",
    "print(example.endswith('!')) \n"
   ]
  },
  {
   "cell_type": "code",
   "execution_count": null,
   "metadata": {},
   "outputs": [],
   "source": []
  },
  {
   "cell_type": "markdown",
   "metadata": {},
   "source": [
    "Q4. What is the relationship between indexing and slicing?\n",
    "\n",
    "Ans:\n",
    "Indexing is used to access a single element in a sequence by its position. \n",
    "\n",
    "Slicing is used to access a range of elements in a sequence by specifying the start and end positions. The start position is inclusive and the end position is exclusive."
   ]
  },
  {
   "cell_type": "code",
   "execution_count": 6,
   "metadata": {},
   "outputs": [
    {
     "name": "stdout",
     "output_type": "stream",
     "text": [
      "H\n",
      "!\n",
      "llo\n"
     ]
    }
   ],
   "source": [
    "example = \"Hello World!\"\n",
    "\n",
    "# Using indexing\n",
    "print(example[0]) \n",
    "\n",
    "# Using negative indexing\n",
    "print(example[-1])\n",
    "\n",
    "# Using slicing\n",
    "print(example[2:5]) "
   ]
  },
  {
   "cell_type": "code",
   "execution_count": null,
   "metadata": {},
   "outputs": [],
   "source": []
  },
  {
   "cell_type": "markdown",
   "metadata": {},
   "source": [
    "Q5. What is an indexed character's exact data type? What is the data form of a slicing-generated substring?\n",
    "\n",
    "Ans:\n",
    "An indexed character's data type is a string (str) of length 1. \n",
    "\n",
    "Also a slicing-generated substring's data type is also a string (str) ."
   ]
  },
  {
   "cell_type": "code",
   "execution_count": null,
   "metadata": {},
   "outputs": [],
   "source": []
  },
  {
   "cell_type": "markdown",
   "metadata": {},
   "source": [
    "Q6. What is the relationship between string and character \"types\" in Python?\n",
    "\n",
    "Ans:\n",
    "In Python, a string is a sequence of characters, and a character is a single element of a string.\n",
    "\n",
    "A string is a data type that can hold any combination of letters, numbers, and symbols. Strings are enclosed in either single quotes (') or double quotes (\").\n",
    "\n",
    "A character, on the other hand, is a single element of a string. Each individual character in a string can be thought of as its own data type, although Python does not have a separate data type for characters."
   ]
  },
  {
   "cell_type": "code",
   "execution_count": null,
   "metadata": {},
   "outputs": [],
   "source": []
  },
  {
   "cell_type": "markdown",
   "metadata": {},
   "source": [
    "Q7. Identify at least two operators and one method that allow you to combine one or more smaller strings to create a larger string.\n",
    "\n",
    "Ans:\n",
    "There are several operators and methods in Python that allow you to combine one or more smaller strings to create a larger string.\n",
    "\n",
    "Here is an example"
   ]
  },
  {
   "cell_type": "code",
   "execution_count": 10,
   "metadata": {},
   "outputs": [
    {
     "name": "stdout",
     "output_type": "stream",
     "text": [
      "Hello World!\n",
      "HelloHelloHello\n",
      "Hello World\n"
     ]
    }
   ],
   "source": [
    "# Using the `+` operator\n",
    "s1 = \"Hello\"\n",
    "s2 = \" World!\"\n",
    "s3 = s1 + s2\n",
    "print(s3)\n",
    "\n",
    "# Using the `*` operator\n",
    "n = 3\n",
    "s4 = s1 * n\n",
    "print(s4) \n",
    "\n",
    "# Using the `str.join()` method\n",
    "s = \" \"\n",
    "words = [\"Hello\", \"World\"]\n",
    "s5 = s.join(words)\n",
    "print(s5)"
   ]
  },
  {
   "cell_type": "code",
   "execution_count": null,
   "metadata": {},
   "outputs": [],
   "source": []
  },
  {
   "cell_type": "markdown",
   "metadata": {},
   "source": [
    "Q8. What is the benefit of first checking the target string with in or not in before using the index method to find a substring?\n",
    "\n",
    "Ans:\n",
    "By first checking the target string with the in or not in operator, you can quickly determine whether the substring is present in the string or not. \n",
    "\n",
    "If the substring is not present, you can save time and prevent errors by avoiding the use of index() method. \n",
    "\n",
    "This can be useful in situations where you are dealing with a large amount of data or in cases where you are not sure if the substring is present in the string or not."
   ]
  },
  {
   "cell_type": "code",
   "execution_count": null,
   "metadata": {},
   "outputs": [],
   "source": []
  },
  {
   "cell_type": "markdown",
   "metadata": {},
   "source": [
    "Q9. Which operators and built-in string methods produce simple Boolean (true/false) results?\n",
    "\n",
    "Ans:There are several operators and built-in string methods in Python that produce simple Boolean (true/false) results:\n",
    "\n",
    "Comparison Operators: The comparison operators ==, !=, >, <, >=, <=\n",
    "\n",
    "Membership Operators: The membership operators in and not in\n",
    "\n",
    "str.isalnum() : Returns True if the string is alphanumeric (contains only letters and digits) and False otherwise.\n",
    "\n",
    "str.isalpha() : Returns True if the string contains only letters and False otherwise.\n",
    "\n",
    "str.isdigit() : Returns True if the string contains only digits and False otherwise.\n",
    "\n",
    "str.islower() : Returns True if the string contains only lowercase letters and False otherwise.\n",
    "\n",
    "str.isupper() : Returns True if the string contains only uppercase letters and False otherwise.\n",
    "\n",
    "str.isspace() : Returns True if the string contains only whitespace characters and False otherwise.\n",
    "\n",
    "str.istitle() : Returns True if the string is a titlecased string and False otherwise.\n",
    "\n",
    "str.isprintable() : Returns True if all characters in the"
   ]
  },
  {
   "cell_type": "code",
   "execution_count": null,
   "metadata": {},
   "outputs": [],
   "source": []
  }
 ],
 "metadata": {
  "kernelspec": {
   "display_name": "Python 3",
   "language": "python",
   "name": "python3"
  },
  "language_info": {
   "codemirror_mode": {
    "name": "ipython",
    "version": 3
   },
   "file_extension": ".py",
   "mimetype": "text/x-python",
   "name": "python",
   "nbconvert_exporter": "python",
   "pygments_lexer": "ipython3",
   "version": "3.8.5"
  }
 },
 "nbformat": 4,
 "nbformat_minor": 4
}
