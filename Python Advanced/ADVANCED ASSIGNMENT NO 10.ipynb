{
 "cells": [
  {
   "cell_type": "markdown",
   "metadata": {},
   "source": [
    "Q1. What is the difference between __getattr__ and __getattribute__?\n",
    "\n",
    "Ans:\n",
    "__getattr__ is a special method in Python classes that is called when an attribute is not found in the usual places (i.e., the class's dictionary or the base classes). It can be used to provide a \"default\" value for an attribute or to perform some computation to compute the attribute's value on-the-fly.\n",
    "\n",
    "__getattribute__ is a special method in Python classes that is called every time an attribute is accessed. It can be used to provide custom behavior for attribute access, such as logging, validation, or computed properties. It raises an AttributeError if it fails to find an attribute of a class.\n",
    "\n",
    "The difference between __getattr__ and __getattribute__ is that __getattr__ is only called when an attribute is not found in the usual places, whereas __getattribute__ is called every time an attribute is accessed."
   ]
  },
  {
   "cell_type": "code",
   "execution_count": null,
   "metadata": {},
   "outputs": [],
   "source": []
  },
  {
   "cell_type": "markdown",
   "metadata": {},
   "source": [
    "Q2. What is the difference between properties and descriptors?\n",
    "\n",
    "Ans:\n",
    "Properties and descriptors are both ways to add custom behavior to attribute access in Python classes. However, they are implemented differently and have some key differences:\n",
    "\n",
    "Properties are a way to define computed attributes, which are attributes that are computed on-the-fly based on other attributes or methods. They are defined using the property decorator and are accessed like normal attributes. Properties are implemented using methods named fget, fset, and fdel that define the behavior for getting, setting, and deleting the attribute.\n",
    "\n",
    "Descriptors are a more general way to define custom behavior for attribute access. They are defined by creating a class that implements the __get__, __set__, and __delete__ methods. Descriptors are accessed like normal attributes, but the behavior for getting, setting, and deleting the attribute is defined by the descriptor class.|"
   ]
  },
  {
   "cell_type": "code",
   "execution_count": null,
   "metadata": {},
   "outputs": [],
   "source": []
  },
  {
   "cell_type": "markdown",
   "metadata": {},
   "source": [
    "Q3. What are the key differences in functionality between __getattr__ and __getattribute__, as well as properties and descriptors?\n",
    "\n",
    "Ans:\n",
    "The Key Differences between __getattr__, __getattribute__, Properties and Descriptors are:\n",
    "\n",
    "__getattr__: Python will call this method whenever you request an attribute that hasn't already been defined\n",
    "\n",
    "__getattribute__ : This method will invoked before looking at the actual attributes on the object. This means that if we have __getattribute__ method in our class, python invokes this method for every attribute regardless whether it exists or not.\n",
    "\n",
    "Properties: With Properties we can bind getter, setter and delete functions together with an attribute name, using the built-in property function or @property decorator. When we do this, each reference to an attribute looks like simple, direct access, but involes the appropriate function of the object.\n",
    "\n",
    "Descriptor: With Descriptor we can bind getter, setter and delete functions into a seperate class. we then assign an object of this class to the attribute name in our main class. When we do this, each reference to an attribute looks like simple, direct access but invokes an appropriate function of descriptor object."
   ]
  },
  {
   "cell_type": "code",
   "execution_count": null,
   "metadata": {},
   "outputs": [],
   "source": []
  }
 ],
 "metadata": {
  "kernelspec": {
   "display_name": "Python 3",
   "language": "python",
   "name": "python3"
  },
  "language_info": {
   "codemirror_mode": {
    "name": "ipython",
    "version": 3
   },
   "file_extension": ".py",
   "mimetype": "text/x-python",
   "name": "python",
   "nbconvert_exporter": "python",
   "pygments_lexer": "ipython3",
   "version": "3.8.5"
  }
 },
 "nbformat": 4,
 "nbformat_minor": 4
}
