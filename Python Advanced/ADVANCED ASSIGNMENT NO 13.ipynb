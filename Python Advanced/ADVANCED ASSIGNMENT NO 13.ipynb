{
 "cells": [
  {
   "cell_type": "markdown",
   "metadata": {},
   "source": [
    "Q1. Can you create a programme or function that employs both positive and negative indexing? Is there any repercussion if you do so?\n",
    "\n",
    "Ans:\n",
    "Yes, you can create a program or function that employs both positive and negative indexing. \n",
    "\n",
    "Here's an example of a function that uses both positive and negative indexing to extract substrings from a given string:"
   ]
  },
  {
   "cell_type": "code",
   "execution_count": 2,
   "metadata": {},
   "outputs": [
    {
     "name": "stdout",
     "output_type": "stream",
     "text": [
      "llo \n",
      "Worl\n"
     ]
    }
   ],
   "source": [
    "def extract_substrings(s, start, end):\n",
    "    return s[start:end], s[-end:-start]\n",
    "\n",
    "s = \"Hello World!\"\n",
    "\n",
    "# Extract substring using positive indexing\n",
    "substring1, substring2 = extract_substrings(s, 2, 6)\n",
    "print(substring1) \n",
    "print(substring2) "
   ]
  },
  {
   "cell_type": "code",
   "execution_count": null,
   "metadata": {},
   "outputs": [],
   "source": []
  },
  {
   "cell_type": "markdown",
   "metadata": {},
   "source": [
    "Q2. What is the most effective way of starting with 1,000 elements in a Python list? Assume that all elements should be set to the same value.\n",
    "\n",
    "Ans:\n",
    "The most effective way would be to use the list() constructor or a list comprehension with the range() function."
   ]
  },
  {
   "cell_type": "code",
   "execution_count": 6,
   "metadata": {},
   "outputs": [],
   "source": [
    "lst = [i for i in range(1000)]"
   ]
  },
  {
   "cell_type": "code",
   "execution_count": null,
   "metadata": {},
   "outputs": [],
   "source": []
  },
  {
   "cell_type": "markdown",
   "metadata": {},
   "source": [
    "Q3. How do you slice a list to get any other part while missing the rest? (For example, suppose you want to make a new list with the elements first, third, fifth, seventh, and so on.)\n",
    "\n",
    "Ans:\n"
   ]
  },
  {
   "cell_type": "code",
   "execution_count": 9,
   "metadata": {},
   "outputs": [
    {
     "name": "stdout",
     "output_type": "stream",
     "text": [
      "[1, 3, 5, 7, 9]\n"
     ]
    }
   ],
   "source": [
    "original_list = [1, 2, 3, 4, 5, 6, 7, 8, 9, 10]\n",
    "new_list = original_list[0:10:2]\n",
    "print(new_list)"
   ]
  },
  {
   "cell_type": "code",
   "execution_count": null,
   "metadata": {},
   "outputs": [],
   "source": []
  },
  {
   "cell_type": "markdown",
   "metadata": {},
   "source": [
    "Q4. Explain the distinctions between indexing and slicing.\n",
    "\n",
    "Ans:\n",
    "Indexing is used to access a single element in a sequence by its position. Each element in a sequence is assigned a numerical index, starting from 0 for the first element and increasing by 1 for each subsequent element.\n",
    "\n",
    "Slicing is used to access a range of elements in a sequence by specifying the start and end positions. The start position is inclusive and the end position is exclusive.\n",
    "\n",
    "In summary, indexing is used to access a single element in a sequence by its position, while slicing is used to access a range of elements in a sequence by specifying the start and end positions."
   ]
  },
  {
   "cell_type": "code",
   "execution_count": null,
   "metadata": {},
   "outputs": [],
   "source": []
  },
  {
   "cell_type": "markdown",
   "metadata": {},
   "source": [
    "Q5. What happens if one of the slicing expression's indexes is out of range?\n",
    "\n",
    "Ans:\n",
    "If one of the slicing expression's indexes is out of range, the slicing operation will still work, but it will return a substring that starts or ends at the index of the out of range value, depending on whether the index is too high or too low.\n",
    "\n",
    "If both start and end indexes are out of range, the slicing operation will return an empty string. "
   ]
  },
  {
   "cell_type": "code",
   "execution_count": null,
   "metadata": {},
   "outputs": [],
   "source": []
  },
  {
   "cell_type": "markdown",
   "metadata": {},
   "source": [
    "Q6. If you pass a list to a function, and if you want the function to be able to change the values of the list—so that the list is different after the function returns—what action should you avoid?\n",
    "\n",
    "Ans:\n",
    "Always use return statement, if we want the see the changes in the input list."
   ]
  },
  {
   "cell_type": "code",
   "execution_count": 10,
   "metadata": {},
   "outputs": [
    {
     "name": "stdout",
     "output_type": "stream",
     "text": [
      "['new_value', 2, 3, 4]\n"
     ]
    }
   ],
   "source": [
    "def my_function(my_list):\n",
    "    my_list[0] = \"new_value\"\n",
    "    return my_list\n",
    "    \n",
    "original_list = [1, 2, 3, 4]\n",
    "new_list = my_function(original_list)\n",
    "print(original_list)"
   ]
  },
  {
   "cell_type": "code",
   "execution_count": null,
   "metadata": {},
   "outputs": [],
   "source": []
  },
  {
   "cell_type": "markdown",
   "metadata": {},
   "source": [
    "Q7. What is the concept of an unbalanced matrix?\n",
    "\n",
    "Ans:\n",
    "A matrix is a rectangular array of numbers, symbols, or expressions, arranged in rows and columns. An unbalanced matrix is a matrix that has different numbers of rows or columns, making it impossible to perform some mathematical operations.\n",
    "\n",
    "For example, a matrix with 2 rows and 3 columns is unbalanced if it doesn't have the same number of rows and columns, it's not a square matrix. This means that it's not possible to perform matrix operations such as matrix multiplication, matrix inversion and so on.\n",
    "\n",
    "In addition, An unbalanced matrix can be caused by missing or extra values in the matrix data. For example, if a matrix has a missing value in a cell, it will be unbalanced."
   ]
  },
  {
   "cell_type": "code",
   "execution_count": null,
   "metadata": {},
   "outputs": [],
   "source": []
  },
  {
   "cell_type": "markdown",
   "metadata": {},
   "source": [
    "Q8. Why is it necessary to use either list comprehension or a loop to create arbitrarily large matrices?\n",
    "\n",
    "Ans:\n",
    "List comprehension or a Loop helps creation of large matrices easy. \n",
    "\n",
    "It also helps to implemeent and avoid manual errors. It also makes reading code easy.\n",
    "\n",
    "Also lot of time for manual feeding is reduced."
   ]
  },
  {
   "cell_type": "code",
   "execution_count": null,
   "metadata": {},
   "outputs": [],
   "source": []
  }
 ],
 "metadata": {
  "kernelspec": {
   "display_name": "Python 3",
   "language": "python",
   "name": "python3"
  },
  "language_info": {
   "codemirror_mode": {
    "name": "ipython",
    "version": 3
   },
   "file_extension": ".py",
   "mimetype": "text/x-python",
   "name": "python",
   "nbconvert_exporter": "python",
   "pygments_lexer": "ipython3",
   "version": "3.8.5"
  }
 },
 "nbformat": 4,
 "nbformat_minor": 4
}
