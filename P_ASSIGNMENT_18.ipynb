{
 "cells": [
  {
   "cell_type": "markdown",
   "metadata": {},
   "source": [
    "Question 1\n",
    "\n",
    "Create a function that takes a list of non-negative integers and strings and return a new list\n",
    "without the strings.\n",
    "\n",
    "Examples\n",
    "\n",
    "filter_list([1, 2, &quot;a&quot;, &quot;b&quot;]) ➞ [1, 2]\n",
    "\n",
    "filter_list([1, &quot;a&quot;, &quot;b&quot;, 0, 15]) ➞ [1, 0, 15]\n",
    "\n",
    "filter_list([1, 2, &quot;aasf&quot;, &quot;1&quot;, &quot;123&quot;, 123]) ➞ [1, 2, 123]"
   ]
  },
  {
   "cell_type": "code",
   "execution_count": 47,
   "metadata": {},
   "outputs": [
    {
     "name": "stdout",
     "output_type": "stream",
     "text": [
      "enter a list : [1, 2, \"a\", \"b\"]\n",
      "[1, 2, 'a', 'b']  after filter =  [1, 2]\n",
      "enter a list : [1, 2, \"aasf\", \"1\", \"123\", 123]\n",
      "[1, 2, 'aasf', '1', '123', 123]  after filter =  [1, 2, 123]\n"
     ]
    }
   ],
   "source": [
    "def flist():\n",
    "    ip = eval(input(\"enter a list : \"))\n",
    "    op = []\n",
    "    for i in ip:\n",
    "        if type(i) == int and i >= 0:\n",
    "            op.append(i)\n",
    "    print(ip,\" after filter = \",op)\n",
    "flist()\n",
    "flist()"
   ]
  },
  {
   "cell_type": "code",
   "execution_count": null,
   "metadata": {},
   "outputs": [],
   "source": []
  },
  {
   "cell_type": "markdown",
   "metadata": {},
   "source": [
    "Question 2\n",
    "\n",
    "The &quot;Reverser&quot; takes a string as input and returns that string in reverse order, with the\n",
    "opposite case.\n",
    "\n",
    "Examples\n",
    "\n",
    "reverse(&quot;Hello World&quot;) ➞ &quot;DLROw OLLEh&quot;\n",
    "\n",
    "reverse(&quot;ReVeRsE&quot;) ➞ &quot;eSrEvEr&quot;\n",
    "\n",
    "reverse(&quot;Radar&quot;) ➞ &quot;RADAr&quot;"
   ]
  },
  {
   "cell_type": "code",
   "execution_count": 55,
   "metadata": {},
   "outputs": [
    {
     "name": "stdout",
     "output_type": "stream",
     "text": [
      "enter a string = Hello World\n",
      "Hello World  when reversed gives  DLROw OLLEh\n",
      "enter a string = \"RADAr\n",
      "\"RADAr  when reversed gives  Radar\"\n"
     ]
    }
   ],
   "source": [
    "def rev():\n",
    "    ip = input(\"enter a string = \")\n",
    "    op=ip[::-1].swapcase()\n",
    "    print(ip,\" when reversed gives \",op)\n",
    "rev()\n",
    "rev()"
   ]
  },
  {
   "cell_type": "code",
   "execution_count": null,
   "metadata": {},
   "outputs": [],
   "source": []
  },
  {
   "cell_type": "markdown",
   "metadata": {},
   "source": [
    "Question 3\n",
    "\n",
    "You can assign variables from lists like this:\n",
    "    \n",
    "lst = [1, 2, 3, 4, 5, 6]\n",
    "\n",
    "first = lst[0]\n",
    "\n",
    "middle = lst[1:-1]\n",
    "\n",
    "last = lst[-1]\n",
    "\n",
    "print(first) ➞ outputs 1\n",
    "\n",
    "print(middle) ➞ outputs [2, 3, 4, 5]\n",
    "\n",
    "print(last) ➞ outputs 6\n",
    "\n",
    "With Python 3, you can assign variables from lists in a much more succinct way. Create\n",
    "variables first, middle and last from the given list using destructuring assignment\n",
    "(check the Resources tab for some examples), where:\n",
    "    \n",
    "first ➞ 1\n",
    "\n",
    "middle ➞ [2, 3, 4, 5]\n",
    "\n",
    "last ➞ 6\n",
    "\n",
    "\n",
    "Your task is to unpack the list writeyourcodehere into three variables, being first,\n",
    "middle, and last, with middle being everything in between the first and last element. Then\n",
    "print all three variables."
   ]
  },
  {
   "cell_type": "code",
   "execution_count": 59,
   "metadata": {},
   "outputs": [
    {
     "name": "stdout",
     "output_type": "stream",
     "text": [
      " first = 1 \n",
      " middle = [2, 3, 4, 5] \n",
      " last = 6\n"
     ]
    }
   ],
   "source": [
    "first ,*middle ,last =[1,2,3,4,5,6]\n",
    "print(\" first = %s \\n middle = %s \\n last = %s\" %(first,middle,last))\n"
   ]
  },
  {
   "cell_type": "code",
   "execution_count": null,
   "metadata": {},
   "outputs": [],
   "source": []
  },
  {
   "cell_type": "markdown",
   "metadata": {},
   "source": [
    "Question 4\n",
    "\n",
    "Write a function that calculates the factorial of a number recursively.\n",
    "\n",
    "Examples\n",
    "\n",
    "factorial(5) ➞ 120\n",
    "factorial(3) ➞ 6\n",
    "factorial(1) ➞ 1\n",
    "factorial(0) ➞ 1"
   ]
  },
  {
   "cell_type": "code",
   "execution_count": 60,
   "metadata": {},
   "outputs": [
    {
     "name": "stdout",
     "output_type": "stream",
     "text": [
      "enter a number to find factorial : 5\n",
      "factorial of 5 = 120\n",
      "enter a number to find factorial : 3\n",
      "factorial of 3 = 6\n",
      "enter a number to find factorial : 0\n",
      "factorial of 0 = 1\n"
     ]
    }
   ],
   "source": [
    "def fact(ip):\n",
    "    if ip==0 or ip==1:\n",
    "        return 1\n",
    "    return ip*fact(ip-1)\n",
    "for i in range(3):\n",
    "    ip = int(input(\"enter a number to find factorial : \"))\n",
    "    fact(ip)\n",
    "    print(\"factorial of %s = %s\" %(ip,fact(ip)) )"
   ]
  },
  {
   "cell_type": "code",
   "execution_count": null,
   "metadata": {},
   "outputs": [],
   "source": []
  },
  {
   "cell_type": "markdown",
   "metadata": {},
   "source": [
    "Question 5\n",
    "\n",
    "Write a function that moves all elements of one type to the end of the list.\n",
    "\n",
    "Examples\n",
    "\n",
    "move_to_end([1, 3, 2, 4, 4, 1], 1) ➞ [3, 2, 4, 4, 1, 1]\n",
    "Move all the 1s to the end of the array.\n",
    "\n",
    "move_to_end([7, 8, 9, 1, 2, 3, 4], 9) ➞ [7, 8, 1, 2, 3, 4, 9]\n",
    "\n",
    "move_to_end([&quot;a&quot;, &quot;a&quot;, &quot;a&quot;, &quot;b&quot;], &quot;a&quot;) ➞ [&quot;b&quot;, &quot;a&quot;, &quot;a&quot;, &quot;a&quot;]"
   ]
  },
  {
   "cell_type": "code",
   "execution_count": 1,
   "metadata": {},
   "outputs": [
    {
     "name": "stdout",
     "output_type": "stream",
     "text": [
      "enter a lsit : [1, 3, 2, 4, 4, 1]\n",
      "enter a element to be removed and move to end: 1\n",
      "The original list is :  [1, 3, 2, 4, 4, 1]\n",
      "The modified list is : [3, 2, 4, 4, 1, 1] \n",
      "\n",
      "enter a lsit : [\"a\", \"a\", \"a\", \"b\"]\n",
      "enter a element to be removed and move to end: \"a\"\n",
      "The original list is :  ['a', 'a', 'a', 'b']\n",
      "The modified list is : ['a', 'a', 'b', 'a'] \n",
      "\n"
     ]
    }
   ],
   "source": [
    "#removes only one element and moves to end(will not work if duplicate elememnts are present)\n",
    "def mte():\n",
    "    ip= eval(input(\"enter a lsit : \"))\n",
    "    k = eval(input(\"e[1, 3, 2, 4, 4, 1]nter a element to be removed and move to end: \"))\n",
    "    print(\"The original list is : \", str(ip))\n",
    "    x = len(ip)\n",
    "    ip.remove(k)\n",
    "    ip.insert(x-1, k)\n",
    "    print(\"The modified list is : %s \\n\" %(ip))\n",
    "mte()\n",
    "mte()"
   ]
  },
  {
   "cell_type": "code",
   "execution_count": 1,
   "metadata": {},
   "outputs": [
    {
     "name": "stdout",
     "output_type": "stream",
     "text": [
      "enter a lsit : [1, 3, 2, 4, 4, 1]\n",
      "enter a element to be removed and move to end: 4\n",
      "The original list is :  [1, 3, 2, 4, 4, 1]\n",
      "The modified list is : [1, 3, 2, 1, 4, 4] \n",
      "\n",
      "enter a lsit : ['a', 'a', 'a', 'b']\n",
      "enter a element to be removed and move to end: 'a'\n",
      "The original list is :  ['a', 'a', 'a', 'b']\n",
      "The modified list is : ['b', 'a', 'a', 'a'] \n",
      "\n"
     ]
    }
   ],
   "source": [
    "#removes the duplicate elements as well and moves to end\n",
    "def mte():\n",
    "    ip= eval(input(\"enter a lsit : \"))\n",
    "    k = eval(input(\"enter a element to be removed and move to end: \"))\n",
    "    print(\"The original list is : \", str(ip))\n",
    "    start = []\n",
    "    end= []\n",
    "    for i in ip:\n",
    "        if i==k:\n",
    "            end.append(i)\n",
    "        else:\n",
    "            start.append(i)\n",
    "    start.extend(end)\n",
    "    print(\"The modified list is : %s \\n\" %(start))\n",
    "mte()\n",
    "mte()"
   ]
  }
 ],
 "metadata": {
  "kernelspec": {
   "display_name": "Python 3",
   "language": "python",
   "name": "python3"
  },
  "language_info": {
   "codemirror_mode": {
    "name": "ipython",
    "version": 3
   },
   "file_extension": ".py",
   "mimetype": "text/x-python",
   "name": "python",
   "nbconvert_exporter": "python",
   "pygments_lexer": "ipython3",
   "version": "3.8.5"
  }
 },
 "nbformat": 4,
 "nbformat_minor": 4
}
