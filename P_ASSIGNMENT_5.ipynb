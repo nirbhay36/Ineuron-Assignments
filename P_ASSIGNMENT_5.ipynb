{
 "cells": [
  {
   "cell_type": "code",
   "execution_count": 9,
   "metadata": {},
   "outputs": [
    {
     "name": "stdout",
     "output_type": "stream",
     "text": [
      "Enter the first number : 36\n",
      "Enter the second number : 63\n",
      "The LCM of 36 and 63 is 252\n"
     ]
    }
   ],
   "source": [
    "#1. Write a Python Program to Find LCM?\n",
    "#ans\n",
    "\n",
    "a = int(input(\"Enter the first number : \"))\n",
    "b = int(input(\"Enter the second number : \"))\n",
    "\n",
    "if a>b :\n",
    "    big = a\n",
    "else :\n",
    "    big = b\n",
    "\n",
    "while(True):\n",
    "    if (big%a==0 and big%b==0):\n",
    "        lcm=big\n",
    "        break\n",
    "    big+=1\n",
    "\n",
    "print(\"The LCM of %s and %s is %s\"%(a,b,lcm))"
   ]
  },
  {
   "cell_type": "code",
   "execution_count": 16,
   "metadata": {},
   "outputs": [
    {
     "name": "stdout",
     "output_type": "stream",
     "text": [
      "Enter the first number : 36\n",
      "Enter the second number : 63\n",
      "The hcf of 36 and 63 is 9\n"
     ]
    }
   ],
   "source": [
    "#2. Write a Python Program to Find HCF?\n",
    "#ans\n",
    "\n",
    "a = int(input(\"Enter the first number : \"))\n",
    "b = int(input(\"Enter the second number : \"))\n",
    "\n",
    "if a<b :\n",
    "    small = a\n",
    "else :\n",
    "    small = b\n",
    "hcf = 0\n",
    "for i in range(1,small+1):\n",
    "    if (a%i==0 and b%i==0):\n",
    "        hcf = i\n",
    "print(\"The hcf of %s and %s is %s\"%(a,b,hcf))"
   ]
  },
  {
   "cell_type": "code",
   "execution_count": 18,
   "metadata": {},
   "outputs": [
    {
     "name": "stdout",
     "output_type": "stream",
     "text": [
      "Enter the number : 36\n",
      "36 in binary is :  0b100100\n",
      "36 in octal is :  0o44\n",
      "36 in hexadecimal is :  0x24\n"
     ]
    }
   ],
   "source": [
    "#3. Write a Python Program to Convert Decimal to Binary, Octal and Hexadecimal?\n",
    "#ans\n",
    "\n",
    "a = int(input(\"Enter the number : \"))\n",
    "\n",
    "print(a , \"in binary is : \" , bin(a))\n",
    "print(a , \"in octal is : \",oct(a))\n",
    "print(a ,\"in hexadecimal is : \",hex(a))"
   ]
  },
  {
   "cell_type": "code",
   "execution_count": 27,
   "metadata": {},
   "outputs": [
    {
     "name": "stdout",
     "output_type": "stream",
     "text": [
      "Enter a single character : N\n",
      "'N' in ASCII format is : 78\n"
     ]
    }
   ],
   "source": [
    "#4. Write a Python Program To Find ASCII value of a character?\n",
    "#ans\n",
    "\n",
    "a = input(\"Enter a single character : \")\n",
    "if len(a)>1:\n",
    "    print(\"please enter a single character only\")\n",
    "else:\n",
    "    print(\"'%s' in ASCII format is : %s\"%(a,ord(a)))"
   ]
  },
  {
   "cell_type": "code",
   "execution_count": 33,
   "metadata": {},
   "outputs": [
    {
     "name": "stdout",
     "output_type": "stream",
     "text": [
      "Choose from the following operations given below \n",
      " 1 for Addition \n",
      " 2 for Subtraction \n",
      " 3 for Multiplication \n",
      " 4 for Division \n",
      "\n",
      "Enter your Selection : 4\n",
      "Enter the first number : 50\n",
      "Enter the second number : 00\n",
      "Division with zero not possible\n"
     ]
    }
   ],
   "source": [
    "#5. Write a Python Program to Make a Simple Calculator with 4 basic mathematical operations?\n",
    "#ans\n",
    "\n",
    "print(\"Choose from the following operations given below \\n 1 for Addition \\n 2 for Subtraction \\n 3 for Multiplication \\n 4 for Division \\n\")\n",
    "   \n",
    "ip = float(input(\"Enter your Selection : \"))\n",
    "if ip>4:\n",
    "    print(\"please enter a valid selection\")\n",
    "else:\n",
    "    a = float(input(\"Enter the first number : \"))\n",
    "    b = float(input(\"Enter the second number : \"))\n",
    "      \n",
    "    if ip ==1:\n",
    "        add = a+b\n",
    "        print(\"Addition of two numbers is : \",add)\n",
    "    elif ip == 2:\n",
    "        sub=a-b\n",
    "        print(\"Subtraction of two numbers is : \",sub)\n",
    "    elif ip == 3:\n",
    "        mul=a*b\n",
    "        print(\"Multiplication of two numbers is : \",mul)\n",
    "    elif ip == 4:\n",
    "        if (a==0 or b==0):\n",
    "            print(\"Division with zero not possible\")\n",
    "        else:\n",
    "            div=a/b\n",
    "            print(\"Divsion of two numbers is: \",div)\n",
    "    \n",
    "\n",
    "\n"
   ]
  }
 ],
 "metadata": {
  "kernelspec": {
   "display_name": "Python 3",
   "language": "python",
   "name": "python3"
  }
 },
 "nbformat": 4,
 "nbformat_minor": 4
}
