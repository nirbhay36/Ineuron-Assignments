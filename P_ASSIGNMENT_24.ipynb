{
 "cells": [
  {
   "cell_type": "markdown",
   "metadata": {},
   "source": [
    "Question1\n",
    "\n",
    "Create a function that takes an integer and returns a list from 1 to the given number, where:\n",
    "    \n",
    "1. If the number can be divided evenly by 4, amplify it by 10 (i.e. return 10 times the\n",
    "number).\n",
    "\n",
    "2. If the number cannot be divided evenly by 4, simply return the number.\n",
    "\n",
    "Examples\n",
    "\n",
    "amplify(4) ➞ [1, 2, 3, 40]\n",
    "\n",
    "amplify(3) ➞ [1, 2, 3]\n",
    "\n",
    "amplify(25) ➞ [1, 2, 3, 40, 5, 6, 7, 80, 9, 10, 11, 120, 13, 14, 15, 160,\n",
    "17, 18, 19, 200, 21, 22, 23, 240, 25]"
   ]
  },
  {
   "cell_type": "code",
   "execution_count": 2,
   "metadata": {},
   "outputs": [
    {
     "name": "stdout",
     "output_type": "stream",
     "text": [
      "enter the number : 5\n",
      "5 = [1, 2, 3, 40, 5]\n",
      "enter the number : 25\n",
      "25 = [1, 2, 3, 40, 5, 6, 7, 80, 9, 10, 11, 120, 13, 14, 15, 160, 17, 18, 19, 200, 21, 22, 23, 240, 25]\n"
     ]
    }
   ],
   "source": [
    "def amp():\n",
    "    ip=int(input(\"enter the number : \"))\n",
    "    op=[]\n",
    "    for i in range(1,ip+1):\n",
    "        if i%4==0:\n",
    "            op.append(i*10)\n",
    "        else:\n",
    "            op.append(i)\n",
    "    print(ip,\"=\",op)\n",
    "amp()\n",
    "amp()   "
   ]
  },
  {
   "cell_type": "code",
   "execution_count": null,
   "metadata": {},
   "outputs": [],
   "source": []
  },
  {
   "cell_type": "markdown",
   "metadata": {},
   "source": [
    "Question2\n",
    "Create a function that takes a list of numbers and return the number that&#39;s unique.\n",
    "\n",
    "Examples\n",
    "\n",
    "unique([3, 3, 3, 7, 3, 3]) ➞ 7\n",
    "\n",
    "unique([0, 0, 0.77, 0, 0]) ➞ 0.77\n",
    "\n",
    "unique([0, 1, 1, 1, 1, 1, 1, 1]) ➞ 0"
   ]
  },
  {
   "cell_type": "code",
   "execution_count": 1,
   "metadata": {},
   "outputs": [
    {
     "name": "stdout",
     "output_type": "stream",
     "text": [
      "enter the list of numbers : [5,5,5,1,5,5,5]\n",
      "[5, 5, 5, 1, 5, 5, 5] = 1\n",
      "enter the list of numbers : [0,0,0,0,0.1,0]\n",
      "[0, 0, 0, 0, 0.1, 0] = 0.1\n"
     ]
    }
   ],
   "source": [
    "def unq():\n",
    "    ip=eval(input(\"enter the list of numbers : \"))\n",
    "    op=''\n",
    "    for i in set(ip):\n",
    "        if ip.count(i)==1:\n",
    "            op=i\n",
    "    print(ip,\"=\",op)\n",
    "unq()\n",
    "unq()    "
   ]
  },
  {
   "cell_type": "code",
   "execution_count": null,
   "metadata": {},
   "outputs": [],
   "source": []
  },
  {
   "cell_type": "markdown",
   "metadata": {},
   "source": [
    "Question3\n",
    "\n",
    "Your task is to create a Circle constructor that creates a circle with a radius provided by an\n",
    "argument. The circles constructed must have two getters getArea() (PIr^2) and\n",
    "getPerimeter() (2PI*r) which give both respective areas and perimeter (circumference).\n",
    "\n",
    "For help with this class, I have provided you with a Rectangle constructor which you can use\n",
    "as a base example.\n",
    "\n",
    "Examples\n",
    "\n",
    "circy = Circle(11)\n",
    "\n",
    "circy.getArea()\n",
    "\n",
    "#Should return 380.132711084365\n",
    "\n",
    "circy = Circle(4.44)\n",
    "\n",
    "circy.getPerimeter()\n",
    "\n",
    "#Should return 27.897342763877365"
   ]
  },
  {
   "cell_type": "code",
   "execution_count": 12,
   "metadata": {},
   "outputs": [
    {
     "name": "stdout",
     "output_type": "stream",
     "text": [
      "Enter radius of circle: 11\n",
      "Area of circle: 380.1327110843649\n",
      "Perimeter of circle: 69.11503837897544\n",
      "Enter radius of circle: 4.44\n",
      "Area of circle: 61.93210093580775\n",
      "Perimeter of circle: 27.897342763877365\n"
     ]
    }
   ],
   "source": [
    "import math\n",
    "\n",
    "class circle:\n",
    "    def __init__(self,r):\n",
    "        self.r = r\n",
    "        \n",
    "    def getarea(self):\n",
    "        return (math.pi*self.r*self.r)\n",
    "        \n",
    "    def getperi(self):\n",
    "        return (math.pi*2*self.r)\n",
    "       \n",
    "def r():\n",
    "    r=float(input(\"Enter radius of circle: \"))\n",
    "    circy=circle(r)\n",
    "    print(\"Area of circle:\",circy.getarea())\n",
    "    print(\"Perimeter of circle:\",circy.getperi())\n",
    "r()\n",
    "r()"
   ]
  },
  {
   "cell_type": "code",
   "execution_count": null,
   "metadata": {},
   "outputs": [],
   "source": []
  },
  {
   "cell_type": "markdown",
   "metadata": {},
   "source": [
    "Question4\n",
    "Create a function that takes a list of strings and return a list, sorted from shortest to longest.\n",
    "\n",
    "Examples\n",
    "\n",
    "sort_by_length([&quot;Google&quot;, &quot;Apple&quot;, &quot;Microsoft&quot;])\n",
    "\n",
    "➞ [&quot;Apple&quot;, &quot;Google&quot;, &quot;Microsoft&quot;]\n",
    "\n",
    "sort_by_length([&quot;Leonardo&quot;, &quot;Michelangelo&quot;, &quot;Raphael&quot;, &quot;Donatello&quot;])\n",
    "\n",
    "➞ [&quot;Raphael&quot;, &quot;Leonardo&quot;, &quot;Donatello&quot;, &quot;Michelangelo&quot;]\n"
   ]
  },
  {
   "cell_type": "code",
   "execution_count": 14,
   "metadata": {},
   "outputs": [
    {
     "name": "stdout",
     "output_type": "stream",
     "text": [
      "enter the list of strings : [\"Leonardo\", \"Michelangelo\", \"Raphael\", \"Donatello\"]\n",
      "Sorted list :  ['Raphael', 'Leonardo', 'Donatello', 'Michelangelo']\n",
      "enter the list of strings : [\"Google\", \"Apple\", \"Microsoft\",\"Tesla\"]\n",
      "Sorted list :  ['Apple', 'Tesla', 'Google', 'Microsoft']\n"
     ]
    }
   ],
   "source": [
    "def lsort():\n",
    "    ip=eval(input(\"enter the list of strings : \"))\n",
    "    print(\"Sorted list : \",sorted(ip,key=len))\n",
    "lsort()\n",
    "lsort()\n"
   ]
  },
  {
   "cell_type": "code",
   "execution_count": null,
   "metadata": {},
   "outputs": [],
   "source": []
  },
  {
   "cell_type": "markdown",
   "metadata": {},
   "source": [
    "Question5\n",
    "Create a function that validates whether three given integers form a Pythagorean triplet. The\n",
    "sum of the squares of the two smallest integers must equal the square of the largest number to\n",
    "be validated.\n",
    "\n",
    "Examples\n",
    "\n",
    "is_triplet(3, 4, 5) ➞ True\n",
    "\n",
    "#3² + 4² = 25\n",
    "#5² = 25\n",
    "\n",
    "is_triplet(13, 5, 12) ➞ True\n",
    "\n",
    "#5² + 12² = 169\n",
    "#13² = 169\n",
    "\n",
    "is_triplet(1, 2, 3) ➞ False\n",
    "\n",
    "#1² + 2² = 5\n",
    "#3² = 9"
   ]
  },
  {
   "cell_type": "code",
   "execution_count": 31,
   "metadata": {},
   "outputs": [
    {
     "name": "stdout",
     "output_type": "stream",
     "text": [
      "enter the values of x , y , z : 3,4,5\n",
      "(3, 4, 5) = True\n",
      "enter the values of x , y , z : 1,2,3\n",
      "(1, 2, 3) = False\n"
     ]
    }
   ],
   "source": [
    "def trip():\n",
    "    x,y,z = [int(x) for x in (input(\"enter the values of x , y , z : \").split(\",\"))]\n",
    "    if (x**2) + (y**2)== (z**2):\n",
    "        print((x,y,z),\"=\",True)\n",
    "    else:\n",
    "        print((x,y,z),\"=\",False)\n",
    "trip()\n",
    "trip()"
   ]
  }
 ],
 "metadata": {
  "kernelspec": {
   "display_name": "Python 3",
   "language": "python",
   "name": "python3"
  },
  "language_info": {
   "codemirror_mode": {
    "name": "ipython",
    "version": 3
   },
   "file_extension": ".py",
   "mimetype": "text/x-python",
   "name": "python",
   "nbconvert_exporter": "python",
   "pygments_lexer": "ipython3",
   "version": "3.8.5"
  }
 },
 "nbformat": 4,
 "nbformat_minor": 4
}
