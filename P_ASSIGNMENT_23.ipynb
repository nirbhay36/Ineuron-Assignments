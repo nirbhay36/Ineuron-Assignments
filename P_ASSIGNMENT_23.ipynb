{
 "cells": [
  {
   "cell_type": "markdown",
   "metadata": {},
   "source": [
    "Question 1\n",
    "Create a function that takes a number as an argument and returns True or False depending\n",
    "on whether the number is symmetrical or not. A number is symmetrical when it is the same as\n",
    "its reverse.\n",
    "\n",
    "Examples\n",
    "is_symmetrical(7227) ➞ True\n",
    "\n",
    "is_symmetrical(12567) ➞ False\n",
    "\n",
    "is_symmetrical(9939) ➞ False\n",
    "\n",
    "is_symmetrical(1112111) ➞ True"
   ]
  },
  {
   "cell_type": "code",
   "execution_count": 8,
   "metadata": {},
   "outputs": [
    {
     "name": "stdout",
     "output_type": "stream",
     "text": [
      "enter the number : 1234321\n",
      "1234321 = True\n",
      "enter the number : 12345321\n",
      "12345321 = False\n"
     ]
    }
   ],
   "source": [
    "def rev():\n",
    "    ip=int(input(\"enter the number : \"))\n",
    "    if str(ip)==str(ip)[::-1]:\n",
    "        print(ip,\"=\",True)\n",
    "    else:\n",
    "        print(ip,\"=\",False)\n",
    "rev()\n",
    "rev()"
   ]
  },
  {
   "cell_type": "code",
   "execution_count": null,
   "metadata": {},
   "outputs": [],
   "source": []
  },
  {
   "cell_type": "markdown",
   "metadata": {},
   "source": [
    "Question 2\n",
    "Given a string of numbers separated by a comma and space, return the product of the\n",
    "numbers.\n",
    "\n",
    "Examples\n",
    "\n",
    "multiply_nums(&quot;2, 3&quot;) ➞ 6\n",
    "\n",
    "multiply_nums(&quot;1, 2, 3, 4&quot;) ➞ 24\n",
    "\n",
    "multiply_nums(&quot;54, 75, 453, 0&quot;) ➞ 0\n",
    "\n",
    "multiply_nums(&quot;10, -2&quot;) ➞ -20"
   ]
  },
  {
   "cell_type": "code",
   "execution_count": 1,
   "metadata": {},
   "outputs": [
    {
     "name": "stdout",
     "output_type": "stream",
     "text": [
      "enter the string of numbers : 1,2,3,4\n",
      "1,2,3,4 = 24\n",
      "enter the string of numbers : 52,45,63,12\n",
      "52,45,63,12 = 1769040\n"
     ]
    }
   ],
   "source": [
    "def mult():\n",
    "    ip=input(\"enter the string of numbers : \")\n",
    "    ip1=ip.replace(\" \",\"\").split(\",\")\n",
    "    mult=1\n",
    "    for i in ip1:\n",
    "        mult = mult * int(i)\n",
    "    print(ip,\"=\",mult)\n",
    "mult()\n",
    "mult()    "
   ]
  },
  {
   "cell_type": "code",
   "execution_count": null,
   "metadata": {},
   "outputs": [],
   "source": []
  },
  {
   "cell_type": "markdown",
   "metadata": {},
   "source": [
    "Question 3\n",
    "Create a function that squares every digit of a number.\n",
    "Examples\n",
    "square_digits(9119) ➞ 811181\n",
    "\n",
    "square_digits(2483) ➞ 416649\n",
    "\n",
    "square_digits(3212) ➞ 9414\n",
    "\n",
    "Notes\n",
    "The function receives an integer and must return an integer."
   ]
  },
  {
   "cell_type": "code",
   "execution_count": 1,
   "metadata": {},
   "outputs": [
    {
     "name": "stdout",
     "output_type": "stream",
     "text": [
      "\n",
      " enter the number : 123\n",
      "149\n",
      " enter the number : 9119\n",
      "811181"
     ]
    }
   ],
   "source": [
    "def sq():\n",
    "    ip=int(input(\"\\n enter the number : \"))\n",
    "    num = list(str(ip))\n",
    "    for i in num:\n",
    "        print(int(i)**2,end=\"\")\n",
    "sq()\n",
    "sq()"
   ]
  },
  {
   "cell_type": "code",
   "execution_count": null,
   "metadata": {},
   "outputs": [],
   "source": []
  },
  {
   "cell_type": "markdown",
   "metadata": {},
   "source": [
    "Question 4\n",
    "Create a function that sorts a list and removes all duplicate items from it.\n",
    "Examples\n",
    "\n",
    "setify([1, 3, 3, 5, 5]) ➞ [1, 3, 5]\n",
    "\n",
    "setify([4, 4, 4, 4]) ➞ [4]\n",
    "\n",
    "setify([5, 7, 8, 9, 10, 15]) ➞ [5, 7, 8, 9, 10, 15]\n",
    "\n",
    "setify([3, 3, 3, 2, 1]) ➞ [1, 2, 3]"
   ]
  },
  {
   "cell_type": "code",
   "execution_count": 7,
   "metadata": {},
   "outputs": [
    {
     "name": "stdout",
     "output_type": "stream",
     "text": [
      "enter the list : [4,4,4,1,1,1,2,2,2]\n",
      "[4, 4, 4, 1, 1, 1, 2, 2, 2] = [1, 2, 4]\n",
      "enter the list : [0,0,0,0,0,0]\n",
      "[0, 0, 0, 0, 0, 0] = [0]\n"
     ]
    }
   ],
   "source": [
    "def dsort():\n",
    "    ip=eval(input(\"enter the list : \"))\n",
    "    l = set(sorted(ip))\n",
    "    print(ip,\"=\",list(l))\n",
    "dsort()\n",
    "dsort()    "
   ]
  },
  {
   "cell_type": "code",
   "execution_count": null,
   "metadata": {},
   "outputs": [],
   "source": []
  },
  {
   "cell_type": "markdown",
   "metadata": {},
   "source": [
    "Question 5\n",
    "Create a function that returns the mean of all digits.\n",
    "Examples\n",
    "\n",
    "mean(42) ➞ 3\n",
    "\n",
    "mean(12345) ➞ 3\n",
    "\n",
    "mean(666) ➞ 6\n",
    "\n",
    "Notes\n",
    "\n",
    " The mean of all digits is the sum of digits / how many digits there are (e.g. mean of digits in\n",
    "512 is (5+1+2)/3(number of digits) = 8/3=2).\n",
    "\n",
    " The mean will always be an integer."
   ]
  },
  {
   "cell_type": "code",
   "execution_count": 3,
   "metadata": {},
   "outputs": [
    {
     "name": "stdout",
     "output_type": "stream",
     "text": [
      "\n",
      " enter the number : 445566\n",
      "mean of 445566 = 5\n",
      "\n",
      " enter the number : 123456\n",
      "mean of 123456 = 3\n"
     ]
    }
   ],
   "source": [
    "def mean():\n",
    "    ip=int(input(\"\\n enter the number : \"))\n",
    "    num = list(str(ip))\n",
    "    l=len(num)\n",
    "    sum=0\n",
    "    for i in num:\n",
    "        sum=sum+int(i)\n",
    "    print(\"mean of %s = %s\" %(ip,int(sum/l)))\n",
    "mean()\n",
    "mean()"
   ]
  }
 ],
 "metadata": {
  "kernelspec": {
   "display_name": "Python 3",
   "language": "python",
   "name": "python3"
  },
  "language_info": {
   "codemirror_mode": {
    "name": "ipython",
    "version": 3
   },
   "file_extension": ".py",
   "mimetype": "text/x-python",
   "name": "python",
   "nbconvert_exporter": "python",
   "pygments_lexer": "ipython3",
   "version": "3.8.5"
  }
 },
 "nbformat": 4,
 "nbformat_minor": 4
}
