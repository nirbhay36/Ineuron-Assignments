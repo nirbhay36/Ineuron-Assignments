{
 "cells": [
  {
   "cell_type": "markdown",
   "metadata": {},
   "source": [
    "1. What is the relationship between def statements and lambda expressions ?\n",
    "\n",
    "Ans: \n",
    "\n",
    "def statement is used to create a normal function whereas lambda expressions are used to create Anonymous functions which can be assigned to a variable and can be called using the variable later in function.\n",
    "\n",
    "The lambda expression body is similar to the return statement of a def body."
   ]
  },
  {
   "cell_type": "code",
   "execution_count": 3,
   "metadata": {},
   "outputs": [
    {
     "data": {
      "text/plain": [
       "10"
      ]
     },
     "execution_count": 3,
     "metadata": {},
     "output_type": "execute_result"
    }
   ],
   "source": [
    "l = lambda a , b : a+b\n",
    "l(5,5)"
   ]
  },
  {
   "cell_type": "markdown",
   "metadata": {},
   "source": [
    "\n"
   ]
  },
  {
   "cell_type": "markdown",
   "metadata": {},
   "source": [
    "2. What is the benefit of lambda?\n",
    "\n",
    "Ans:\n",
    "\n",
    "1. It can be used to create Nameless/Anonymous functions inside some complex functions if we are planning to use it only once.\n",
    "\n",
    "2. Moderate to small functions can be created in a single line.\n",
    "\n",
    "3. Fuctions created using lambda expressions can be assigned to a variable and can be used by simply calling the variable"
   ]
  },
  {
   "cell_type": "markdown",
   "metadata": {},
   "source": [
    "\n"
   ]
  },
  {
   "cell_type": "markdown",
   "metadata": {},
   "source": [
    "3. Compare and contrast map, filter, and reduce.\n",
    "\n",
    "Ans: \n",
    "\n",
    "map :   map() function is used when we want to apply a function to each element of a list. It takes a function as the first argument and an iterable as the second argument. Then it applies that function to each element of the argument and returns the object which can be converted to new updated list using list function.\n",
    "\n",
    "filter :   filter() function takes a function as the first argument and an iterable as the second argument, and returns only those elements from the list which return the value true on passing to the function. The return object can be converted to new updated list using list function.\n",
    "\n",
    "reduce :  reduce() function takes a function as the first argument and an iterable as the second argument, and returns a single value after applying after applying the function to the elements of the list.\n",
    "\n"
   ]
  },
  {
   "cell_type": "code",
   "execution_count": 8,
   "metadata": {},
   "outputs": [
    {
     "name": "stdout",
     "output_type": "stream",
     "text": [
      "Map :  [1, 4, 9, 16, 25, 36]\n",
      "Filter :  [3, 6]\n",
      "Reduce :  21\n"
     ]
    }
   ],
   "source": [
    "from functools import reduce\n",
    "a = [1,2,3,4,5,6]\n",
    "\n",
    "print('Map : ',list(map(lambda x:x*x, a)))\n",
    "\n",
    "print('Filter : ',list(filter(lambda x:x%3==0, a )))\n",
    "\n",
    "print('Reduce : ',reduce(lambda x,y:x+y, a))"
   ]
  },
  {
   "cell_type": "markdown",
   "metadata": {},
   "source": [
    "\n"
   ]
  },
  {
   "cell_type": "markdown",
   "metadata": {},
   "source": [
    "4. What are function annotations, and how are they used?\n",
    "\n",
    "Ans: \n",
    "\n",
    "Function annotations are python expressions that are associated with various part of functions. They are used to denote the type of parameters or the return type of the function. They are used by writing a colon and the datatype after every parameter.\n",
    "\n",
    "Annotations of simple parameters def func(x: expression, y: expression = 20):\n",
    "\n",
    "Whereas the annotations for excess parameters are as − def func (**args: expression, **kwargs: expression):\n",
    "\n",
    "Python supports dynamic typing and hence no module is provided for type checking."
   ]
  },
  {
   "cell_type": "markdown",
   "metadata": {},
   "source": [
    "\n",
    "\n"
   ]
  },
  {
   "cell_type": "markdown",
   "metadata": {},
   "source": [
    "5. What are recursive functions, and how are they used?\n",
    "\n",
    "Ans:  \n",
    "\n",
    "The function that call itself during its execution is called a recursive function. Codes written using recursion are shorter and more elegant in general. \n",
    "\n",
    "Recursive function consist of recursive part and base part. Base part is used to tell that when the recursive process should end."
   ]
  },
  {
   "cell_type": "code",
   "execution_count": 9,
   "metadata": {},
   "outputs": [
    {
     "data": {
      "text/plain": [
       "120"
      ]
     },
     "execution_count": 9,
     "metadata": {},
     "output_type": "execute_result"
    }
   ],
   "source": [
    "#example\n",
    "def factorial(n):\n",
    "    if n==0 or n==1:\n",
    "        return 1\n",
    "    else:\n",
    "        return n*factorial(n-1)\n",
    "factorial(5)"
   ]
  },
  {
   "cell_type": "markdown",
   "metadata": {},
   "source": [
    "\n"
   ]
  },
  {
   "cell_type": "markdown",
   "metadata": {},
   "source": [
    "6. What are some general design guidelines for coding functions?\n",
    "\n",
    "Ans:\n",
    "\n",
    "Use proper indentation for code readability.\n",
    "\n",
    "Use proper name that tells about the functionality of the function.\n",
    "\n",
    "Use docstring to tell what the function will execute and return.\n",
    "\n",
    "Use proper naming conventions.\n",
    "\n",
    "Use camelCase format for local variables and Pascalcase format for global variables.\n",
    "\n",
    "Use uppercase letters for constants."
   ]
  },
  {
   "cell_type": "markdown",
   "metadata": {},
   "source": [
    "\n"
   ]
  },
  {
   "cell_type": "markdown",
   "metadata": {},
   "source": [
    "7. Name three or more ways that functions can communicate results to a caller.\n",
    "\n",
    "Ans:\n",
    "    \n",
    "The ways in which a function can communicate with the calling function is:\n",
    "\n",
    "print\n",
    "\n",
    "return\n",
    "\n",
    "yield"
   ]
  }
 ],
 "metadata": {
  "kernelspec": {
   "display_name": "Python 3",
   "language": "python",
   "name": "python3"
  },
  "language_info": {
   "codemirror_mode": {
    "name": "ipython",
    "version": 3
   },
   "file_extension": ".py",
   "mimetype": "text/x-python",
   "name": "python",
   "nbconvert_exporter": "python",
   "pygments_lexer": "ipython3",
   "version": "3.8.5"
  }
 },
 "nbformat": 4,
 "nbformat_minor": 4
}
