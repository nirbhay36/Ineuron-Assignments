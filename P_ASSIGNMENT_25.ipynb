{
 "cells": [
  {
   "cell_type": "markdown",
   "metadata": {},
   "source": [
    "Question1\n",
    "\n",
    "Create a function that takes three integer arguments (a, b, c) and returns the amount of\n",
    "integers which are of equal value.\n",
    "\n",
    "Examples\n",
    "\n",
    "equal(3, 4, 3) ➞ 2\n",
    "\n",
    "equal(1, 1, 1) ➞ 3\n",
    "\n",
    "equal(3, 4, 1) ➞ 0\n",
    "\n",
    "Notes\n",
    "Your function must return 0, 2 or 3."
   ]
  },
  {
   "cell_type": "code",
   "execution_count": 2,
   "metadata": {},
   "outputs": [
    {
     "name": "stdout",
     "output_type": "stream",
     "text": [
      "enter the values of x , y , z : 3,4,3\n",
      "(3, 4, 3) = 2\n",
      "enter the values of x , y , z : 1,2,3\n",
      "(1, 2, 3) = 0\n",
      "enter the values of x , y , z : 1,1,1\n",
      "(1, 1, 1) = 3\n"
     ]
    }
   ],
   "source": [
    "def cnt():\n",
    "    x,y,z = [int(x) for x in (input(\"enter the values of x , y , z : \").split(\",\"))]\n",
    "    if x==y==z:\n",
    "        print((x,y,z),\"=\",3)\n",
    "    elif x==y or y==z or x==z:\n",
    "        print((x,y,z),\"=\",2)\n",
    "    else :\n",
    "        print((x,y,z),\"=\",0)\n",
    "cnt()\n",
    "cnt()\n",
    "cnt()"
   ]
  },
  {
   "cell_type": "code",
   "execution_count": null,
   "metadata": {},
   "outputs": [],
   "source": []
  },
  {
   "cell_type": "markdown",
   "metadata": {},
   "source": [
    "Question2\n",
    "Write a function that converts a dictionary into a list of keys-values tuples.\n",
    "\n",
    "Examples\n",
    "\n",
    "dict_to_list({\n",
    "&quot;D&quot;: 1,&quot;B&quot;: 2,&quot;C&quot;: 3}) ➞ [(&quot;B&quot;, 2), (&quot;C&quot;, 3), (&quot;D&quot;, 1)]\n",
    "\n",
    "dict_to_list({\n",
    "&quot;likes&quot;: 2,&quot;dislikes&quot;: 3,&quot;followers&quot;: 10}) ➞ [(&quot;dislikes&quot;, 3), (&quot;followers&quot;, 10), (&quot;likes&quot;, 2)]\n",
    "\n",
    "Notes\n",
    "\n",
    "Return the elements in the list in alphabetical order."
   ]
  },
  {
   "cell_type": "code",
   "execution_count": 16,
   "metadata": {},
   "outputs": [
    {
     "name": "stdout",
     "output_type": "stream",
     "text": [
      "{'D': 1, 'B': 2, 'C': 3}  =  [('B', 2), ('C', 3), ('D', 1)]\n",
      "{'likes': 2, 'dislikes': 3, 'followers': 10}  =  [('dislikes', 3), ('followers', 10), ('likes', 2)]\n"
     ]
    }
   ],
   "source": [
    "def kvtup(ip):\n",
    "    op=[]\n",
    "    for keys , values in ip.items():\n",
    "        op.append((keys,values))\n",
    "    print(ip,\" = \",sorted(op))\n",
    "kvtup({ \"D\": 1,\"B\": 2,\"C\": 3})\n",
    "kvtup({ \"likes\": 2,\"dislikes\": 3,\"followers\": 10})"
   ]
  },
  {
   "cell_type": "code",
   "execution_count": null,
   "metadata": {},
   "outputs": [],
   "source": []
  },
  {
   "cell_type": "markdown",
   "metadata": {},
   "source": [
    "Question3\n",
    "\n",
    "Write a function that creates a dictionary with each (key, value) pair being the (lower case,\n",
    "upper case) versions of a letter, respectively.\n",
    "\n",
    "Examples\n",
    "\n",
    "mapping([&quot;p&quot;, &quot;s&quot;]) ➞ { &quot;p&quot;: &quot;P&quot;, &quot;s&quot;: &quot;S&quot; }\n",
    "\n",
    "mapping([&quot;a&quot;, &quot;b&quot;, &quot;c&quot;]) ➞ { &quot;a&quot;: &quot;A&quot;, &quot;b&quot;: &quot;B&quot;, &quot;c&quot;: &quot;C&quot; }\n",
    "\n",
    "mapping([&quot;a&quot;, &quot;v&quot;, &quot;y&quot;, &quot;z&quot;]) ➞ { &quot;a&quot;: &quot;A&quot;, &quot;v&quot;: &quot;V&quot;, &quot;y&quot;: &quot;Y&quot;, &quot;z&quot;: &quot;Z&quot; }\n",
    "\n",
    "Notes\n",
    "All of the letters in the input list will always be lowercase."
   ]
  },
  {
   "cell_type": "code",
   "execution_count": 19,
   "metadata": {},
   "outputs": [
    {
     "name": "stdout",
     "output_type": "stream",
     "text": [
      "enter the list : [\"a\", \"v\", \"y\", \"z\"]\n",
      "['a', 'v', 'y', 'z'] = {'a': 'A', 'v': 'V', 'y': 'Y', 'z': 'Z'}\n",
      "enter the list : [\"a\", \"b\", \"c\"]\n",
      "['a', 'b', 'c'] = {'a': 'A', 'b': 'B', 'c': 'C'}\n"
     ]
    }
   ],
   "source": [
    "def dic():\n",
    "    ip = eval(input(\"enter the list : \"))\n",
    "    op={}\n",
    "    for i in ip:\n",
    "        op[i]=i.upper()\n",
    "    print(ip,\"=\",op)\n",
    "dic()\n",
    "dic()"
   ]
  },
  {
   "cell_type": "code",
   "execution_count": null,
   "metadata": {},
   "outputs": [],
   "source": []
  },
  {
   "cell_type": "markdown",
   "metadata": {},
   "source": [
    "Question4\n",
    "\n",
    "Write a function, that replaces all vowels in a string with a specified vowel.\n",
    "\n",
    "Examples\n",
    "\n",
    "vow_replace(&quot;apples and bananas&quot;, &quot;u&quot;) ➞ &quot;upplus und bununus&quot;\n",
    "\n",
    "vow_replace(&quot;cheese casserole&quot;, &quot;o&quot;) ➞ &quot;chooso cossorolo&quot;\n",
    "\n",
    "vow_replace(&quot;stuffed jalapeno poppers&quot;, &quot;e&quot;) ➞ &quot;steffed jelepene peppers&quot;\n",
    "\n",
    "Notes\n",
    "All words will be lowercase. Y is not considered a vowel."
   ]
  },
  {
   "cell_type": "code",
   "execution_count": 25,
   "metadata": {},
   "outputs": [
    {
     "name": "stdout",
     "output_type": "stream",
     "text": [
      "enter the string : Apples and bananas\n",
      "enter the vowel to replace : o\n",
      "apples and bananas when replaced by o  =  opplos ond bononos\n",
      "enter the string : stuffed jalapENO poppERS\n",
      "enter the vowel to replace : i\n",
      "stuffed jalapeno poppers when replaced by i  =  stiffid jilipini pippirs\n"
     ]
    }
   ],
   "source": [
    "def rep():\n",
    "    ip = input(\"enter the string : \").lower()\n",
    "    v = input(\"enter the vowel to replace : \" )\n",
    "    vow = 'aeiou'\n",
    "    op=\"\"\n",
    "    for i in ip:\n",
    "        if i in vow:\n",
    "            op = op + v\n",
    "        else:\n",
    "            op =op + i\n",
    "    print(ip,\"when replaced by\",v,\" = \",op)\n",
    "rep()\n",
    "rep()    "
   ]
  },
  {
   "cell_type": "code",
   "execution_count": null,
   "metadata": {},
   "outputs": [],
   "source": []
  },
  {
   "cell_type": "markdown",
   "metadata": {},
   "source": [
    "Question5\n",
    "\n",
    "Create a function that takes a string as input and capitalizes a letter if its ASCII code is even\n",
    "and returns its lower case version if its ASCII code is odd.\n",
    "\n",
    "Examples\n",
    "\n",
    "ascii_capitalize(&quot;to be or not to be!&quot;) ➞ &quot;To Be oR NoT To Be!&quot;\n",
    "\n",
    "ascii_capitalize(&quot;THE LITTLE MERMAID&quot;) ➞ &quot;THe LiTTLe meRmaiD&quot;\n",
    "\n",
    "ascii_capitalize(&quot;Oh what a beautiful morning.&quot;) ➞ &quot;oH wHaT a BeauTiFuL\n",
    "moRNiNg.&quot;"
   ]
  },
  {
   "cell_type": "code",
   "execution_count": 24,
   "metadata": {},
   "outputs": [
    {
     "name": "stdout",
     "output_type": "stream",
     "text": [
      "enter the string : to be or not to be!\n",
      "to be or not to be!  =  To Be oR NoT To Be!\n",
      "enter the string : THE LITTLE MERMAID\n",
      "THE LITTLE MERMAID  =  THe LiTTLe meRmaiD\n"
     ]
    }
   ],
   "source": [
    "def asci():\n",
    "    ip = input(\"enter the string : \")\n",
    "    op=''\n",
    "    for i in ip:\n",
    "        if ord(i)%2==0:\n",
    "            op = op +i.upper()\n",
    "        else:\n",
    "            op=op + i.lower()\n",
    "    print(ip,\" = \",op)\n",
    "asci()\n",
    "asci()"
   ]
  }
 ],
 "metadata": {
  "kernelspec": {
   "display_name": "Python 3",
   "language": "python",
   "name": "python3"
  },
  "language_info": {
   "codemirror_mode": {
    "name": "ipython",
    "version": 3
   },
   "file_extension": ".py",
   "mimetype": "text/x-python",
   "name": "python",
   "nbconvert_exporter": "python",
   "pygments_lexer": "ipython3",
   "version": "3.8.5"
  }
 },
 "nbformat": 4,
 "nbformat_minor": 4
}
