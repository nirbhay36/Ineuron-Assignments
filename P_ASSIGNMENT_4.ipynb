{
 "cells": [
  {
   "cell_type": "code",
   "execution_count": 7,
   "metadata": {},
   "outputs": [
    {
     "name": "stdout",
     "output_type": "stream",
     "text": [
      "Enter the number : 5\n",
      "Factorial of 5 is 120\n"
     ]
    }
   ],
   "source": [
    "#1. Write a Python Program to Find the Factorial of a Number?\n",
    "\n",
    "no = int(input(\"Enter the number : \"))\n",
    "\n",
    "fact=1\n",
    "if no<0:\n",
    "    print(\"Enter a positive number\")\n",
    "elif no==0:\n",
    "    print(\"Factorial of 0 is 1.\")\n",
    "else:\n",
    "    for i in range(1,no+1):\n",
    "        fact = fact * i\n",
    "print(\"Factorial of %s is %s\" %(no, fact))"
   ]
  },
  {
   "cell_type": "code",
   "execution_count": 13,
   "metadata": {},
   "outputs": [
    {
     "name": "stdout",
     "output_type": "stream",
     "text": [
      "Enter the multiplication table you want : 56\n",
      "56 X 1 = 56\n",
      "56 X 2 = 112\n",
      "56 X 3 = 168\n",
      "56 X 4 = 224\n",
      "56 X 5 = 280\n",
      "56 X 6 = 336\n",
      "56 X 7 = 392\n",
      "56 X 8 = 448\n",
      "56 X 9 = 504\n",
      "56 X 10 = 560\n"
     ]
    }
   ],
   "source": [
    "#2. Write a Python Program to Display the multiplication Table?\n",
    "\n",
    "no = int(input(\"Enter the multiplication table you want : \"))\n",
    "for i in range(1,11):\n",
    "    print(\"%s X %s = %s\"%(no,i,i*no))"
   ]
  },
  {
   "cell_type": "code",
   "execution_count": 19,
   "metadata": {},
   "outputs": [
    {
     "name": "stdout",
     "output_type": "stream",
     "text": [
      "Enter the count of fibonacci series you want : 5\n",
      "Febonacci Series upto 5 is as follows\n",
      "0\n",
      "1\n",
      "1\n",
      "2\n",
      "3\n",
      "5\n"
     ]
    }
   ],
   "source": [
    "#3. Write a Python Program to Print the Fibonacci sequence?\n",
    "\n",
    "no = int(input(\"Enter the count of fibonacci series you want : \"))\n",
    "\n",
    "a,b=0,1\n",
    "c=0\n",
    "if no<=0:\n",
    "    print(\"enter a valid count\")\n",
    "elif no==1:\n",
    "    print(\"Febonacci Series upto %s is as follows \\n %s\" %(no,a))\n",
    "else :\n",
    "    print(\"Febonacci Series upto %s is as follows\" %no)\n",
    "    while c<=no:\n",
    "            print(a)\n",
    "            x = b + a\n",
    "            a, b =  b, x\n",
    "            c+=1\n",
    "    \n",
    "    \n",
    "\n"
   ]
  },
  {
   "cell_type": "code",
   "execution_count": 40,
   "metadata": {},
   "outputs": [
    {
     "name": "stdout",
     "output_type": "stream",
     "text": [
      "Enter the number to check if it is Armstrong number : 458\n",
      "458 is not an Armstrong number\n"
     ]
    }
   ],
   "source": [
    "#4. Write a Python Program to Check Armstrong Number?\n",
    "\n",
    "no = int(input(\"Enter the number to check if it is Armstrong number : \"))\n",
    "power = len(str(no))\n",
    "sum = 0\n",
    "\n",
    "if no<=0:\n",
    "    print(\"Enter a number greater than 0\")\n",
    "else :\n",
    "    temp = no\n",
    "    while temp > 0:\n",
    "        digit = temp % 10\n",
    "        sum += digit ** power\n",
    "        temp //= 10\n",
    "if no == sum:\n",
    "       print(no,\"is an Armstrong number\")\n",
    "else :\n",
    "    print(no,\"is not an Armstrong number\")"
   ]
  },
  {
   "cell_type": "code",
   "execution_count": 52,
   "metadata": {},
   "outputs": [
    {
     "name": "stdout",
     "output_type": "stream",
     "text": [
      "enter the Lower limit : 100\n",
      "enter the upper limit : 1000\n",
      "The Armstrong nummber in the given range are as follows \n",
      "153\n",
      "370\n",
      "371\n",
      "407\n"
     ]
    }
   ],
   "source": [
    "#5. Write a Python Program to Find Armstrong Number in an Interval?\n",
    "\n",
    "a = int(input(\"enter the Lower limit : \"))\n",
    "b = int(input(\"enter the upper limit : \"))\n",
    "print(\"The Armstrong nummber in the given range are as follows \")\n",
    "\n",
    "for no in range(a,b+1):\n",
    "    power = len(str(no))\n",
    "    temp = no\n",
    "    sum = 0\n",
    "    while temp > 0:\n",
    "        digit = temp % 10\n",
    "        sum = sum + digit ** power\n",
    "        temp = temp//10\n",
    "    if no == sum :\n",
    "        print(no)\n",
    "    "
   ]
  },
  {
   "cell_type": "code",
   "execution_count": 54,
   "metadata": {},
   "outputs": [
    {
     "name": "stdout",
     "output_type": "stream",
     "text": [
      "Enter the value of number uptill you want to find sum:54\n",
      "Sum of Natural Numbers till 54 = 1485\n"
     ]
    }
   ],
   "source": [
    "#6. Write a Python Program to Find the Sum of Natural Numbers?\n",
    "\n",
    "no = int(input(\"Enter the value of number uptill you want to find sum:\"))\n",
    "sum = 0\n",
    "\n",
    "for i in range(1, no+1):\n",
    "    sum = sum + i\n",
    "    i+=1\n",
    "print(\"Sum of Natural Numbers till %s = %s\" %(no,sum))"
   ]
  },
  {
   "cell_type": "code",
   "execution_count": null,
   "metadata": {},
   "outputs": [],
   "source": []
  }
 ],
 "metadata": {
  "kernelspec": {
   "display_name": "Python 3",
   "language": "python",
   "name": "python3"
  }
 },
 "nbformat": 4,
 "nbformat_minor": 4
}
