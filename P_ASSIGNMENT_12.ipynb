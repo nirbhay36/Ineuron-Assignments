{
 "cells": [
  {
   "cell_type": "code",
   "execution_count": 12,
   "metadata": {},
   "outputs": [
    {
     "name": "stdout",
     "output_type": "stream",
     "text": [
      "the given dictiinary is : \n",
      " {1: 'DS', 2: 'python', 3: 'ML', 4: 'python', 5: 'AI', 6: 'R'}\n",
      "\n",
      " the values from the given dictionary are : \n",
      " ['DS', 'python', 'ML', 'python', 'AI', 'R']\n",
      "\n",
      " the unique values from the given dictionary are : \n",
      " ['ML', 'AI', 'DS', 'R', 'python']\n"
     ]
    }
   ],
   "source": [
    "#1. Write a Python program to Extract Unique values dictionary values?\n",
    "#ans\n",
    "\n",
    "dic ={1:'DS',2:'python',3:'ML',4:'python',5:'AI',6:'R'}\n",
    "print(\"the given dictiinary is : \\n\",dic)\n",
    "print(\"\\n the values from the given dictionary are : \\n\",list(dic.values()))\n",
    "print(\"\\n the unique values from the given dictionary are : \\n\",list(set(dic.values())))"
   ]
  },
  {
   "cell_type": "code",
   "execution_count": 13,
   "metadata": {},
   "outputs": [
    {
     "name": "stdout",
     "output_type": "stream",
     "text": [
      "the items from the given dictionary are : \n",
      " [80, 70, 100, 90]\n",
      "the sum of items from the given dictionary are : \n",
      " 340\n"
     ]
    }
   ],
   "source": [
    "#2. Write a Python program to find the sum of all items in a dictionary?\n",
    "#ans\n",
    "\n",
    "dic = {'python':80 , 'sql':70 , 'stats':100 , 'excel':90}\n",
    "print(\"the items from the given dictionary are : \\n\",list(dic.values()))\n",
    "print(\"the sum of items from the given dictionary are : \\n\",sum(dic.values()))"
   ]
  },
  {
   "cell_type": "code",
   "execution_count": 18,
   "metadata": {},
   "outputs": [
    {
     "name": "stdout",
     "output_type": "stream",
     "text": [
      "before merging \n",
      " Dictionary 1 = {'python': 80, 'sql': 70} \n",
      " Dictionary 2 = {'stats': 100, 'excel': 90} \n",
      "\n",
      "after merging the two dictionaries , \n",
      " the final dictionary =  {'python': 80, 'sql': 70, 'stats': 100, 'excel': 90}\n"
     ]
    }
   ],
   "source": [
    "#3. Write a Python program to Merging two Dictionaries?\n",
    "#ans\n",
    "\n",
    "dic1 = {'python':80 , 'sql':70 }\n",
    "dic2 = {'stats':100 , 'excel':90 }\n",
    "print(\"before merging \\n Dictionary 1 = %s \\n Dictionary 2 = %s \\n\"%(dic1,dic2))\n",
    "dic1.update(dic2)\n",
    "print(\"after merging the two dictionaries , \\n the final dictionary = \",dic1)"
   ]
  },
  {
   "cell_type": "code",
   "execution_count": 23,
   "metadata": {},
   "outputs": [
    {
     "name": "stdout",
     "output_type": "stream",
     "text": [
      "trhe given list is : \n",
      " [('python', 80), ('sql', 70), ('stats', 100), ('excel', 90)]\n",
      "after converting list into dictionary : \n",
      " {'python': 80, 'sql': 70, 'stats': 100, 'excel': 90}\n"
     ]
    }
   ],
   "source": [
    "#4. Write a Python program to convert key-values list to flat dictionary?\n",
    "#ans\n",
    "\n",
    "lst = [('python', 80),('sql',70),('stats',100),('excel',90)]\n",
    "print(\"trhe given list is : \\n\",lst)\n",
    "print(\"after converting list into dictionary : \\n\",dict(lst))"
   ]
  },
  {
   "cell_type": "code",
   "execution_count": 28,
   "metadata": {},
   "outputs": [
    {
     "name": "stdout",
     "output_type": "stream",
     "text": [
      "the given ordered dictionary is = \n",
      " OrderedDict([('python', 80), ('sql', 70), ('stats', 100), ('excel', 90)])\n",
      "\n",
      " the dictionary to insert at begining is = \n",
      " {'java': 0}\n",
      "\n",
      " the final dictionary is = \n",
      " OrderedDict([('java', 0), ('python', 80), ('sql', 70), ('stats', 100), ('excel', 90)])\n"
     ]
    }
   ],
   "source": [
    "#5. Write a Python program to insertion at the beginning in OrderedDict?\n",
    "#ans\n",
    "\n",
    "from collections import OrderedDict\n",
    "dic1 = OrderedDict({'python': 80, 'sql': 70, 'stats': 100, 'excel': 90})\n",
    "dic2 = {'java': 0}\n",
    "print(\"the given ordered dictionary is = \\n\",dic1)\n",
    "print(\"\\n the dictionary to insert at begining is = \\n\",dic2)\n",
    "dic1.update(dic2)\n",
    "dic1.move_to_end('java',last=False)\n",
    "print(\"\\n the final dictionary is = \\n\",dic1)"
   ]
  },
  {
   "cell_type": "code",
   "execution_count": 31,
   "metadata": {},
   "outputs": [
    {
     "name": "stdout",
     "output_type": "stream",
     "text": [
      "the given dictionary is = \n",
      " {'python': 80, 'sql': 70, 'stats': 100, 'excel': 90, 'java': 0}\n",
      "\n",
      " the dictionary in ordered character of string is = \n",
      " OrderedDict([('excel', 90), ('java', 0), ('python', 80), ('sql', 70), ('stats', 100)])\n"
     ]
    }
   ],
   "source": [
    "#6. Write a Python program to check order of character in string using OrderedDict()?\n",
    "#ans\n",
    "\n",
    "\n",
    "dic1 = {'python': 80, 'sql': 70, 'stats': 100, 'excel': 90 , 'java':0}\n",
    "print(\"the given dictionary is = \\n\",dic1)\n",
    "\n",
    "dic2 = OrderedDict(dict(sorted(dic1.items())))\n",
    "print(\"\\n the dictionary in ordered character of string is = \\n\",dic2)"
   ]
  },
  {
   "cell_type": "code",
   "execution_count": 42,
   "metadata": {},
   "outputs": [
    {
     "name": "stdout",
     "output_type": "stream",
     "text": [
      "the given dictionary is = \n",
      " {'python': 80, 'sql': 70, 'stats': 100, 'excel': 90, 'java': 0}\n",
      "\n",
      " the dictionary when sorted using keys = \n",
      " {'excel': 90, 'java': 0, 'python': 80, 'sql': 70, 'stats': 100}\n",
      "\n",
      " the dictionary when sorted using values = \n",
      " [('java', 0), ('sql', 70), ('python', 80), ('excel', 90), ('stats', 100)]\n"
     ]
    }
   ],
   "source": [
    "#7. Write a Python program to sort Python Dictionaries by Key or Value?\n",
    "#ans\n",
    "\n",
    "dic1 = {'python': 80, 'sql': 70, 'stats': 100, 'excel': 90 , 'java':0}\n",
    "print(\"the given dictionary is = \\n\",dic1)\n",
    "\n",
    "print(\"\\n the dictionary when sorted using keys = \\n\",dict(sorted(dic1.items())))\n",
    "print(\"\\n the dictionary when sorted using values = \\n\",sorted(dic1.items(), key=lambda kv: (kv[1], kv[0])))"
   ]
  }
 ],
 "metadata": {
  "kernelspec": {
   "display_name": "Python 3",
   "language": "python",
   "name": "python3"
  },
  "language_info": {
   "codemirror_mode": {
    "name": "ipython",
    "version": 3
   },
   "file_extension": ".py",
   "mimetype": "text/x-python",
   "name": "python",
   "nbconvert_exporter": "python",
   "pygments_lexer": "ipython3",
   "version": "3.8.5"
  }
 },
 "nbformat": 4,
 "nbformat_minor": 4
}
