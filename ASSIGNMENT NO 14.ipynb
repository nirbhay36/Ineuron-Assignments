{
 "cells": [
  {
   "cell_type": "markdown",
   "metadata": {},
   "source": [
    "1. What does RGBA stand for?\n",
    "Ans: RGBA stands for Red-Green-Blue-Alpha. It is a four-channel format containing data for Red, Green, Blue and Alpha value, where Alpha value represents the opacity of the image which ranges from 0.0-1.0 \n",
    "for eg. (0,1,0,1) stands for opaque green."
   ]
  },
  {
   "cell_type": "markdown",
   "metadata": {},
   "source": [
    "\n"
   ]
  },
  {
   "cell_type": "markdown",
   "metadata": {},
   "source": [
    "2. From the Pillow module, how do you get the RGBA value of any images?\n",
    "Ans: getcolor() method of the sub-module ImageColor of the module Pillow gives RGBA value of any image.\n",
    "imageColor.getcolor() ."
   ]
  },
  {
   "cell_type": "markdown",
   "metadata": {},
   "source": [
    "\n"
   ]
  },
  {
   "cell_type": "markdown",
   "metadata": {},
   "source": [
    "3. What is a box tuple, and how does it work?\n",
    "Ans: A box tuple is a tuple value of four integers: the left-edge x-coordinate, the top-edge y-coordinate,the width, and the height, respectively"
   ]
  },
  {
   "cell_type": "markdown",
   "metadata": {},
   "source": [
    "\n"
   ]
  },
  {
   "cell_type": "markdown",
   "metadata": {},
   "source": [
    "4. Use your image and load in notebook then, How can you find out the width and height of an Image object?"
   ]
  },
  {
   "cell_type": "code",
   "execution_count": 8,
   "metadata": {},
   "outputs": [
    {
     "name": "stdout",
     "output_type": "stream",
     "text": [
      "Width = 640\n",
      "Height = 480\n",
      "Size =  (640, 480)\n"
     ]
    }
   ],
   "source": [
    "from PIL import Image\n",
    "pic = Image.open(r'C:\\Users\\Nirbhay\\OneDrive\\Pictures\\Saved Pictures\\WIN_20210529_14_41_55_Pro.jpg')\n",
    "print(\"Width =\",pic.width)\n",
    "print(\"Height =\",pic.height)\n",
    "print(\"Size = \",pic.size)"
   ]
  },
  {
   "cell_type": "markdown",
   "metadata": {},
   "source": [
    "\n"
   ]
  },
  {
   "cell_type": "markdown",
   "metadata": {},
   "source": [
    "5. What method would you call to get Image object for a 100×100 image, excluding the lower-left quarter of it?\n",
    "Ans: I will call img.crop() method as follows:"
   ]
  },
  {
   "cell_type": "code",
   "execution_count": 10,
   "metadata": {},
   "outputs": [
    {
     "name": "stdout",
     "output_type": "stream",
     "text": [
      "(50, 0)\n"
     ]
    }
   ],
   "source": [
    "from PIL import Image\n",
    "img = Image.open(r'C:\\Users\\Nirbhay\\OneDrive\\Pictures\\Saved Pictures\\WIN_20210529_14_41_55_Pro.jpg')\n",
    "new_img = img.crop((0,50,50,50))\n",
    "print(new_img.size)"
   ]
  },
  {
   "cell_type": "markdown",
   "metadata": {},
   "source": [
    "\n"
   ]
  },
  {
   "cell_type": "markdown",
   "metadata": {},
   "source": [
    "6. After making changes to an Image object, how could you save it as an image file?\n",
    "Ans: I will call img.save() method as follows : "
   ]
  },
  {
   "cell_type": "code",
   "execution_count": 15,
   "metadata": {},
   "outputs": [],
   "source": [
    "from PIL import Image\n",
    "img = Image.open(r'C:\\Users\\Nirbhay\\OneDrive\\Pictures\\Saved Pictures\\WIN_20210529_14_41_55_Pro.jpg')\n",
    "img.save(r'C:\\Users\\Nirbhay\\OneDrive\\Pictures\\Saved Pictures\\copy1.jpg')"
   ]
  },
  {
   "cell_type": "markdown",
   "metadata": {},
   "source": [
    "\n"
   ]
  },
  {
   "cell_type": "markdown",
   "metadata": {},
   "source": [
    "7. What module contains Pillow’s shape-drawing code?\n",
    "Ans: ImageDraw module of Pillow contains the shape-drawing code. The 'ImageDraw' module provides simple 2D graphics support for Image Object."
   ]
  },
  {
   "cell_type": "markdown",
   "metadata": {},
   "source": [
    "\n"
   ]
  },
  {
   "cell_type": "markdown",
   "metadata": {},
   "source": [
    "8. Image objects do not have drawing methods. What kind of object does? How do you get this kind of object?\n",
    "Ans: ImageDraw objects have shape-drawing methods such as point(), line(), or rectangle(). We can get this object by passing the Image object to the ImageDraw.Draw() function."
   ]
  }
 ],
 "metadata": {
  "kernelspec": {
   "display_name": "Python 3",
   "language": "python",
   "name": "python3"
  },
  "language_info": {
   "codemirror_mode": {
    "name": "ipython",
    "version": 3
   },
   "file_extension": ".py",
   "mimetype": "text/x-python",
   "name": "python",
   "nbconvert_exporter": "python",
   "pygments_lexer": "ipython3",
   "version": "3.8.5"
  }
 },
 "nbformat": 4,
 "nbformat_minor": 4
}
