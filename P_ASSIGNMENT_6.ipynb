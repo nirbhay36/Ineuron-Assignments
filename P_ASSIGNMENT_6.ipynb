{
 "cells": [
  {
   "cell_type": "code",
   "execution_count": 2,
   "metadata": {},
   "outputs": [
    {
     "name": "stdout",
     "output_type": "stream",
     "text": [
      "enter a number to find the fibonacci series : 10\n",
      "Fibonacci series upto 10 : \n",
      "0  1  1  2  3  5  8  13  21  34  "
     ]
    }
   ],
   "source": [
    "#1. Write a Python Program to Display Fibonacci Sequence Using Recursion?\n",
    "#ans\n",
    "\n",
    "def fibo(n):\n",
    "    if n <= 1:\n",
    "        return n\n",
    "    else:\n",
    "        return fibo(n-1) +  fibo(n-2)\n",
    "no = int(input(\"enter a number to find the fibonacci series : \"))\n",
    "\n",
    "\n",
    "if no <= 0:\n",
    "    print(\"Please enter a positive number\")\n",
    "elif no == 1:\n",
    "    print(\"Fibonacci series upto 1 : \\n 0\")\n",
    "else:\n",
    "    print(\"Fibonacci series upto %s : \"%no)\n",
    "    for i in range(no):       \n",
    "        print(fibo(i) ,end = \"  \")"
   ]
  },
  {
   "cell_type": "code",
   "execution_count": 8,
   "metadata": {},
   "outputs": [
    {
     "name": "stdout",
     "output_type": "stream",
     "text": [
      "Enter a Number to find factorial : 6\n",
      "Factorial of 6 = 720\n"
     ]
    }
   ],
   "source": [
    "#2. Write a Python Program to Find Factorial of Number Using Recursion?\n",
    "#ans\n",
    "\n",
    "def fact(n):  \n",
    "    if n == 1:\n",
    "        return n\n",
    "    else:\n",
    "        return n * fact(n-1) \n",
    "\n",
    "num = int(input(\"Enter a Number to find factorial : \"))\n",
    "if num < 0:\n",
    "    print(\"Please enter a valid positive number\")        \n",
    "elif num == 0:\n",
    "    print(\"Factorial of zero is 1\")\n",
    "else:\n",
    "    print(\"Factorial of %s = %s\" %(num, fact(num)))"
   ]
  },
  {
   "cell_type": "code",
   "execution_count": 26,
   "metadata": {},
   "outputs": [
    {
     "name": "stdout",
     "output_type": "stream",
     "text": [
      "Select the option you wish to continue \n",
      " 1 for HEIGHT in CM and WEIGHT in KG \n",
      " 2 for HEIGHT in INCH and WEIGHT in LBS\n",
      "Your selection : 1\n",
      "enter height in cm : 180\n",
      "enter weight in kg : 70\n",
      " \n",
      " Your BMI is :  21.604938271604937\n",
      "You are healthy\n"
     ]
    }
   ],
   "source": [
    "#3. Write a Python Program to calculate your Body Mass Index?\n",
    "#ans\n",
    "\n",
    "print(\"Select the option you wish to continue \\n 1 for HEIGHT in CM and WEIGHT in KG \\n 2 for HEIGHT in INCH and WEIGHT in LBS\")\n",
    "x = int(input(\"Your selection : \"))\n",
    "if x==1:\n",
    "    h = float(input(\"enter height in cm : \"))\n",
    "    w = float(input(\"enter weight in kg : \"))\n",
    "    h=h/100\n",
    "    bmi = w/(h*h)\n",
    "    print(\" \\n Your BMI is : \" , bmi )\n",
    "    \n",
    "else :\n",
    "        h = float(input(\"enter height in inch : \"))\n",
    "        w = float(input(\"enter weight in lbs : \"))\n",
    "        bmi = (703*w)/(h*h)\n",
    "        print(\"Your BMI is : \" , bmi )\n",
    "        \n",
    "if bmi<=18.5:\n",
    "    print(\"You are underweight\")\n",
    "elif bmi>18.5 and bmi<24.39:\n",
    "    print(\"You are healthy\")\n",
    "elif bmi>25 and bmi<29.9:\n",
    "    print(\"You are overweight\")\n",
    "elif bmi>30:\n",
    "    print(\"You are obesed\")\n"
   ]
  },
  {
   "cell_type": "code",
   "execution_count": 25,
   "metadata": {},
   "outputs": [
    {
     "name": "stdout",
     "output_type": "stream",
     "text": [
      "Enter a number : 10\n",
      "Log of 10 = 2.302585092994046\n"
     ]
    }
   ],
   "source": [
    "#4. Write a Python Program to calculate the natural logarithm of any number?\n",
    "#ans\n",
    "\n",
    "import math\n",
    "no = int(input((\"Enter a number : \")))\n",
    "log = math.log(no)\n",
    "print(\"Log of %s = %s\" %(no, log))"
   ]
  },
  {
   "cell_type": "code",
   "execution_count": 31,
   "metadata": {},
   "outputs": [
    {
     "name": "stdout",
     "output_type": "stream",
     "text": [
      "Enter the number uptill which you wnat to find the sum of cubes : 10\n",
      "The Sum of Cube of first 10 natural numbers = 3025\n"
     ]
    }
   ],
   "source": [
    "#5. Write a Python Program for cube sum of first n natural numbers?\n",
    "#ans\n",
    "\n",
    "no = int(input(\"Enter the number uptill which you wnat to find the sum of cubes : \"))\n",
    "sum = 0\n",
    "for i in range(1,no+1):\n",
    "    sum+=i**3\n",
    "print(\"The Sum of Cube of first %s natural numbers = %s\" %(no,sum))"
   ]
  }
 ],
 "metadata": {
  "kernelspec": {
   "display_name": "Python 3",
   "language": "python",
   "name": "python3"
  },
  "language_info": {
   "codemirror_mode": {
    "name": "ipython",
    "version": 3
   },
   "file_extension": ".py",
   "mimetype": "text/x-python",
   "name": "python",
   "nbconvert_exporter": "python",
   "pygments_lexer": "ipython3",
   "version": "3.8.5"
  }
 },
 "nbformat": 4,
 "nbformat_minor": 4
}
