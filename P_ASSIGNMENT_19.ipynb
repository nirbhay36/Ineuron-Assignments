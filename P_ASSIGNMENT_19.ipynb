{
 "cells": [
  {
   "cell_type": "markdown",
   "metadata": {},
   "source": [
    "Question1\n",
    "\n",
    "Create a function that takes a string and returns a string in which each character is repeated\n",
    "once.\n",
    "\n",
    "Examples\n",
    "\n",
    "double_char(&quot;String&quot;) ➞ &quot;SSttrriinngg&quot;\n",
    "\n",
    "double_char(&quot;Hello World!&quot;) ➞ &quot;HHeelllloo WWoorrlldd!!&quot;\n",
    "\n",
    "double_char(&quot;1234!_ &quot;) ➞ &quot;11223344!!__ &quot;"
   ]
  },
  {
   "cell_type": "code",
   "execution_count": 12,
   "metadata": {},
   "outputs": [
    {
     "name": "stdout",
     "output_type": "stream",
     "text": [
      "enter a string : 1234!_ \n",
      "1234!_  = 11223344!!__  \n",
      "enter a string : Hello World!\n",
      "Hello World! = HHeelllloo  WWoorrlldd!!\n"
     ]
    }
   ],
   "source": [
    "def dbl():\n",
    "    ip = input(\"enter a string : \")\n",
    "    op=''\n",
    "    for i in ip:\n",
    "        op = op + 2*i\n",
    "    print(ip,\"=\",op)\n",
    "dbl()\n",
    "dbl()"
   ]
  },
  {
   "cell_type": "code",
   "execution_count": null,
   "metadata": {},
   "outputs": [],
   "source": []
  },
  {
   "cell_type": "markdown",
   "metadata": {},
   "source": [
    "Question2\n",
    "\n",
    "Create a function that reverses a boolean value and returns the string &quot;boolean expected&quot;\n",
    "if another variable type is given.\n",
    "\n",
    "Examples\n",
    "\n",
    "reverse(True) ➞ False\n",
    "\n",
    "reverse(False) ➞ True\n",
    "\n",
    "reverse(0) ➞ &quot;boolean expected&quot;\n",
    "\n",
    "reverse(None) ➞ &quot;boolean expected&quot;"
   ]
  },
  {
   "cell_type": "code",
   "execution_count": 23,
   "metadata": {},
   "outputs": [
    {
     "name": "stdout",
     "output_type": "stream",
     "text": [
      "enter a boolean variable : True\n",
      "reverse(True) = False \n",
      "\n",
      "enter a boolean variable : None\n",
      "boolean variable expected\n"
     ]
    }
   ],
   "source": [
    "def rev():\n",
    "    ip = eval(input(\"enter a boolean variable : \"))\n",
    "    if type(ip)==bool:\n",
    "        print(\"reverse(%s) = %s \\n\" %(ip,(not ip)))\n",
    "    else:\n",
    "        print(\"boolean variable expected\")\n",
    "rev()\n",
    "rev()"
   ]
  },
  {
   "cell_type": "code",
   "execution_count": null,
   "metadata": {},
   "outputs": [],
   "source": []
  },
  {
   "cell_type": "markdown",
   "metadata": {},
   "source": [
    "Question3\n",
    "\n",
    "Create a function that returns the thickness (in meters) of a piece of paper after folding it n\n",
    "number of times. The paper starts off with a thickness of 0.5mm.\n",
    "\n",
    "Examples\n",
    "\n",
    "num_layers(1) ➞ &quot;0.001m&quot;\n",
    "Paper folded once is 1mm (equal to 0.001m)\n",
    "\n",
    "num_layers(4) ➞ &quot;0.008m&quot;\n",
    "Paper folded 4 times is 8mm (equal to 0.008m)\n",
    "\n",
    "num_layers(21) ➞ &quot;1048.576m&quot;\n",
    "Paper folded 21 times is 1048576mm (equal to 1048.576m)"
   ]
  },
  {
   "cell_type": "code",
   "execution_count": 8,
   "metadata": {},
   "outputs": [
    {
     "name": "stdout",
     "output_type": "stream",
     "text": [
      "enter the number of folds : 4\n",
      "for 4 folds , thickness = 0.008 met \n",
      "\n",
      "enter the number of folds : 21\n",
      "for 21 folds , thickness = 1048.576 met \n",
      "\n"
     ]
    }
   ],
   "source": [
    "def lay():\n",
    "    ip = int(input(\"enter the number of folds : \"))\n",
    "    if ip==0:\n",
    "        print(\"please enter valid fold\")\n",
    "    else:\n",
    "        op=0.5\n",
    "        for i in range(ip):\n",
    "            op *=2\n",
    "        print(\"for %s folds , thickness = %s met \\n\" %(ip,op/1000))\n",
    "lay()\n",
    "lay()"
   ]
  },
  {
   "cell_type": "code",
   "execution_count": null,
   "metadata": {},
   "outputs": [],
   "source": []
  },
  {
   "cell_type": "markdown",
   "metadata": {},
   "source": [
    "Question4\n",
    "\n",
    "Create a function that takes a single string as argument and returns an ordered list containing\n",
    "the indices of all capital letters in the string.\n",
    "\n",
    "Examples\n",
    "\n",
    "index_of_caps(&quot;eDaBiT&quot;) ➞ [1, 3, 5]\n",
    "\n",
    "index_of_caps(&quot;eQuINoX&quot;) ➞ [1, 3, 4, 6]\n",
    "\n",
    "index_of_caps(&quot;determine&quot;) ➞ []\n",
    "\n",
    "index_of_caps(&quot;STRIKE&quot;) ➞ [0, 1, 2, 3, 4, 5]\n",
    "\n",
    "index_of_caps(&quot;sUn&quot;) ➞ [1]"
   ]
  },
  {
   "cell_type": "code",
   "execution_count": 22,
   "metadata": {},
   "outputs": [
    {
     "name": "stdout",
     "output_type": "stream",
     "text": [
      "enter a string : INeuRon\n",
      "index of caps of INeuRon = [0, 1, 4]\n",
      "enter a string : STRIKE\n",
      "index of caps of STRIKE = [0, 1, 2, 3, 4, 5]\n"
     ]
    }
   ],
   "source": [
    "def cap():\n",
    "    ip =input(\"enter a string : \")\n",
    "    op=[]\n",
    "    for i in ip:\n",
    "        if i.isupper():\n",
    "            op.append(ip.index(i))\n",
    "    print(\"index of caps of %s = %s\" %(ip,op))\n",
    "cap()\n",
    "cap()\n",
    "            \n",
    "            "
   ]
  },
  {
   "cell_type": "code",
   "execution_count": null,
   "metadata": {},
   "outputs": [],
   "source": []
  },
  {
   "cell_type": "markdown",
   "metadata": {},
   "source": [
    "Question5\n",
    "\n",
    "Using list comprehensions, create a function that finds all even numbers from 1 to the given\n",
    "number.\n",
    "\n",
    "Examples\n",
    "\n",
    "find_even_nums(8) ➞ [2, 4, 6, 8]\n",
    "\n",
    "find_even_nums(4) ➞ [2, 4]\n",
    "\n",
    "find_even_nums(2) ➞ [2]"
   ]
  },
  {
   "cell_type": "code",
   "execution_count": 1,
   "metadata": {},
   "outputs": [
    {
     "name": "stdout",
     "output_type": "stream",
     "text": [
      "enter a number till you want even numbers : 10\n",
      "even number till 10 = [0, 2, 4, 6, 8, 10]\n",
      "enter a number till you want even numbers : 6\n",
      "even number till 6 = [0, 2, 4, 6]\n"
     ]
    }
   ],
   "source": [
    "def even():\n",
    "    ip=int(input(\"enter a number till you want even numbers : \"))\n",
    "    op=[]\n",
    "    for i in range(ip+1):\n",
    "        if i%2==0:\n",
    "            op.append(i)\n",
    "    print(\"even number till %s = %s\" %(ip,op))\n",
    "even()\n",
    "even()            "
   ]
  }
 ],
 "metadata": {
  "kernelspec": {
   "display_name": "Python 3",
   "language": "python",
   "name": "python3"
  },
  "language_info": {
   "codemirror_mode": {
    "name": "ipython",
    "version": 3
   },
   "file_extension": ".py",
   "mimetype": "text/x-python",
   "name": "python",
   "nbconvert_exporter": "python",
   "pygments_lexer": "ipython3",
   "version": "3.8.5"
  }
 },
 "nbformat": 4,
 "nbformat_minor": 4
}
