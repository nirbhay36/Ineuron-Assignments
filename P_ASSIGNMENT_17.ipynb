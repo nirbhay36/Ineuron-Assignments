{
 "cells": [
  {
   "cell_type": "markdown",
   "metadata": {},
   "source": [
    "Question1. Create a function that takes three arguments a, b, c and returns the sum of the\n",
    "numbers that are evenly divided by c from the range a, b inclusive.\n",
    "\n",
    "Examples\n",
    "evenly_divisible(1, 10, 20) ➞ 0\n",
    "No number between 1 and 10 can be evenly divided by 20.\n",
    "\n",
    "evenly_divisible(1, 10, 2) ➞ 30\n",
    "2 + 4 + 6 + 8 + 10 = 30\n",
    "\n",
    "evenly_divisible(1, 10, 3) ➞ 18\n",
    "3 + 6 + 9 = 18"
   ]
  },
  {
   "cell_type": "code",
   "execution_count": 25,
   "metadata": {},
   "outputs": [
    {
     "name": "stdout",
     "output_type": "stream",
     "text": [
      "enter the three numbers : 1 20 5\n",
      "(1, 20, 5) = 50 \n",
      "\n",
      "\n"
     ]
    }
   ],
   "source": [
    "a ,b , c  = [int(a) for a in input(\"enter the three numbers : \").split()]\n",
    "def div(a,b,c):\n",
    "    divlist=[]\n",
    "    for i in range(a,b+1):\n",
    "        if i%c==0:\n",
    "            divlist.append(i)\n",
    "    print((a,b,c),\"=\",sum(divlist),\"\\n\\n\")\n",
    "div(a,b,c)"
   ]
  },
  {
   "cell_type": "markdown",
   "metadata": {},
   "source": [
    "Question2. Create a function that returns True if a given inequality expression is correct and\n",
    "False otherwise.\n",
    "\n",
    "Examples\n",
    "\n",
    "correct_signs(&quot;3 &lt; 7 &lt; 11&quot;) ➞ True\n",
    "\n",
    "correct_signs(&quot;13 &gt; 44 &gt; 33 &gt; 1&quot;) ➞ False\n",
    "\n",
    "correct_signs(&quot;1 &lt; 2 &lt; 6 &lt; 9 &gt; 3&quot;) ➞ True"
   ]
  },
  {
   "cell_type": "code",
   "execution_count": 27,
   "metadata": {},
   "outputs": [
    {
     "name": "stdout",
     "output_type": "stream",
     "text": [
      "enter the expression : 1>5<3<4<8\n",
      "1>5<3<4<8 = False\n",
      "enter the expression : 1 < 2 < 6 < 9 > 3\n",
      "1 < 2 < 6 < 9 > 3 = True\n"
     ]
    }
   ],
   "source": [
    "def chk():\n",
    "    ip = input(\"enter the expression : \")\n",
    "    op= eval(ip)\n",
    "    print(ip,\"=\",op)\n",
    "chk()\n",
    "chk()"
   ]
  },
  {
   "cell_type": "code",
   "execution_count": null,
   "metadata": {},
   "outputs": [],
   "source": []
  },
  {
   "cell_type": "markdown",
   "metadata": {},
   "source": [
    "Question3. Create a function that replaces all the vowels in a string with a specified character.\n",
    "\n",
    "Examples\n",
    "\n",
    "replace_vowels(&quot;the aardvark&quot;, &quot;#&quot;) ➞ &quot;th# ##rdv#rk&quot;\n",
    "               \n",
    "replace_vowels(&quot;minnie mouse&quot;, &quot;?&quot;) ➞ &quot;m?nn?? m??s?&quot;\n",
    "               \n",
    "replace_vowels(&quot;shakespeare&quot;, &quot;*&quot;) ➞ &quot;sh*k*sp**r*&quot;\n",
    "            "
   ]
  },
  {
   "cell_type": "code",
   "execution_count": 41,
   "metadata": {},
   "outputs": [
    {
     "name": "stdout",
     "output_type": "stream",
     "text": [
      "enter the string : INEUron PRIvate LIMIted\n",
      "enter the character : ?\n"
     ]
    },
    {
     "data": {
      "text/plain": [
       "'?N??r?n PR?v?t? L?M?t?d'"
      ]
     },
     "execution_count": 41,
     "metadata": {},
     "output_type": "execute_result"
    }
   ],
   "source": [
    "\n",
    "def vow():\n",
    "    ip1 = input(\"enter the string : \")\n",
    "    ip2 = input(\"enter the character : \")\n",
    "    vowel = 'aeiouAEIOU'\n",
    "    for i in vowel:\n",
    "        ip1=ip1.replace(i,ip2)\n",
    "    return ip1\n",
    "vow()"
   ]
  },
  {
   "cell_type": "code",
   "execution_count": null,
   "metadata": {},
   "outputs": [],
   "source": []
  },
  {
   "cell_type": "markdown",
   "metadata": {},
   "source": [
    "Question4. Write a function that calculates the factorial of a number recursively.\n",
    "\n",
    "Examples\n",
    "\n",
    "factorial(5) ➞ 120\n",
    "factorial(3) ➞ 6\n",
    "factorial(1) ➞ 1\n",
    "factorial(0) ➞ 1"
   ]
  },
  {
   "cell_type": "code",
   "execution_count": 47,
   "metadata": {},
   "outputs": [
    {
     "name": "stdout",
     "output_type": "stream",
     "text": [
      "enter the number to find factorial : 5\n",
      "factorial(5)=120\n",
      "enter the number to find factorial : 6\n",
      "factorial(6)=720\n",
      "enter the number to find factorial : 0\n",
      "factorial(0)=1\n"
     ]
    }
   ],
   "source": [
    "def fact(ip):\n",
    "    if ip == 0 or ip==1:\n",
    "        return 1\n",
    "    return (ip*fact(ip-1))\n",
    "\n",
    "for i in range(3):\n",
    "    ip = int(input(\"enter the number to find factorial : \"))\n",
    "    fact(ip)\n",
    "    print(\"factorial(%s)=%s\" %(ip,fact(ip)))"
   ]
  },
  {
   "cell_type": "code",
   "execution_count": null,
   "metadata": {},
   "outputs": [],
   "source": []
  },
  {
   "cell_type": "markdown",
   "metadata": {},
   "source": [
    "Question 5\n",
    "Hamming distance is the number of characters that differ between two strings.\n",
    "To illustrate:\n",
    "    \n",
    "String1: &quot;abcbba&quot;\n",
    "    \n",
    "String2: &quot;abcbda&quot;\n",
    "    \n",
    "Hamming Distance: 1 - &quot;b&quot; vs. &quot;d&quot; is the only difference.\n",
    "    \n",
    "Create a function that computes the hamming distance between two strings.\n",
    "\n",
    "Examples\n",
    "\n",
    "hamming_distance(&quot;abcde&quot;, &quot;bcdef&quot;) ➞ 5\n",
    "\n",
    "hamming_distance(&quot;abcde&quot;, &quot;abcde&quot;) ➞ 0\n",
    "\n",
    "hamming_distance(&quot;strong&quot;, &quot;strung&quot;) ➞ 1"
   ]
  },
  {
   "cell_type": "code",
   "execution_count": 2,
   "metadata": {},
   "outputs": [
    {
     "name": "stdout",
     "output_type": "stream",
     "text": [
      "enter the first string : silent\n",
      "enter the second string : Listen\n",
      "hamming distance between 'silent' & 'Listen' = 5 \n",
      "\n",
      "enter the first string : i am 5 years old\n",
      "enter the second string : i am 12years old\n",
      "hamming distance between 'i am 5 years old' & 'i am 12years old' = 2 \n",
      "\n",
      "enter the first string : ineuron\n",
      "enter the second string : data science\n",
      "both strings must have same length \n",
      "\n"
     ]
    }
   ],
   "source": [
    "def dis():\n",
    "    ip1 = input(\"enter the first string : \")\n",
    "    ip2 = input(\"enter the second string : \")\n",
    "    if len(ip1)==len(ip2):\n",
    "        c=0\n",
    "        for i in range(len(ip1)):\n",
    "            if ip1[i]!=ip2[i]:\n",
    "                c=c+1\n",
    "        print(\"hamming distance between '%s' & '%s' = %s \\n\" %(ip1,ip2,c))\n",
    "    else:\n",
    "        print(\"both strings must have same length \\n\")\n",
    "dis() \n",
    "dis() \n",
    "dis()"
   ]
  }
 ],
 "metadata": {
  "kernelspec": {
   "display_name": "Python 3",
   "language": "python",
   "name": "python3"
  }
 },
 "nbformat": 4,
 "nbformat_minor": 4
}
