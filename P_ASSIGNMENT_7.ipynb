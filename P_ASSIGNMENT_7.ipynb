{
 "cells": [
  {
   "cell_type": "code",
   "execution_count": 5,
   "metadata": {},
   "outputs": [
    {
     "name": "stdout",
     "output_type": "stream",
     "text": [
      "Enter the elements of the array : 41,23,65,84,78,45\n",
      "The sum of [(41, 23, 65, 84, 78, 45)] = 336\n"
     ]
    }
   ],
   "source": [
    "#1. Write a Python Program to find sum of array?\n",
    "#ans\n",
    "\n",
    "a = eval(input(\"Enter the elements of the array : \"))\n",
    "print(\"The sum of [%s] = %s\" %(a,sum(a)))"
   ]
  },
  {
   "cell_type": "code",
   "execution_count": 7,
   "metadata": {},
   "outputs": [
    {
     "name": "stdout",
     "output_type": "stream",
     "text": [
      "Enter the elements of the array : 45,21,36,96,74,58,100\n",
      "The largest element of the array [(45, 21, 36, 96, 74, 58, 100)] = 100\n"
     ]
    }
   ],
   "source": [
    "#2. Write a Python Program to find largest element in an array?\n",
    "#ans\n",
    "\n",
    "a = eval(input(\"Enter the elements of the array : \"))\n",
    "print(\"The largest element of the array [%s] = %s\" %(a,max(a)))\n"
   ]
  },
  {
   "cell_type": "code",
   "execution_count": 9,
   "metadata": {},
   "outputs": [
    {
     "name": "stdout",
     "output_type": "stream",
     "text": [
      "Enter the elements of the array : 41,12,56,45,98,74,46\n",
      "The rotation of [(41, 12, 56, 45, 98, 74, 46)] = [(46, 74, 98, 45, 56, 12, 41)]\n"
     ]
    }
   ],
   "source": [
    "#3. Write a Python Program for array rotation?\n",
    "#ans\n",
    "\n",
    "a = eval(input(\"Enter the elements of the array : \"))\n",
    "print(\"The rotation of [%s] = [%s]\" %(a,a[::-1]))"
   ]
  },
  {
   "cell_type": "code",
   "execution_count": 10,
   "metadata": {},
   "outputs": [
    {
     "name": "stdout",
     "output_type": "stream",
     "text": [
      "Enter the elements of the array : 41,23,45,65,78,12\n",
      "The sum of first and last element of (41, 23, 45, 65, 78, 12) = 53\n"
     ]
    }
   ],
   "source": [
    "#4. Write a Python Program to Split the array and add the first part to the end?\n",
    "#ans\n",
    "\n",
    "a = eval(input(\"Enter the elements of the array : \"))\n",
    "print(\"The sum of first and last element of %s = %s\" %(a,(a[0]+a[-1])))"
   ]
  },
  {
   "cell_type": "code",
   "execution_count": 32,
   "metadata": {},
   "outputs": [
    {
     "name": "stdout",
     "output_type": "stream",
     "text": [
      "Enter the elements of the array : 10,20,30,40,50\n",
      "Array {(10, 20, 30, 40, 50)} is Monotonic\n"
     ]
    }
   ],
   "source": [
    "#5. Write a Python Program to check if given array is Monotonic?\n",
    "#ans\n",
    "\n",
    "a = eval(input(\"Enter the elements of the array : \"))\n",
    "if(all(a[i]<=a[i+1] for i in range(len(a)-1)) or all(a[i]>=a[i+1] for i in range(len(a)-1))):\n",
    "    print('Array %s is Monotonic'%{a})\n",
    "else:\n",
    "    print('Array %s is Not Monotonic' %{a})"
   ]
  }
 ],
 "metadata": {
  "kernelspec": {
   "display_name": "Python 3",
   "language": "python",
   "name": "python3"
  },
  "language_info": {
   "codemirror_mode": {
    "name": "ipython",
    "version": 3
   },
   "file_extension": ".py",
   "mimetype": "text/x-python",
   "name": "python",
   "nbconvert_exporter": "python",
   "pygments_lexer": "ipython3",
   "version": "3.8.5"
  }
 },
 "nbformat": 4,
 "nbformat_minor": 4
}
