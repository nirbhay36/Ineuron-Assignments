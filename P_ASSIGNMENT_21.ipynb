{
 "cells": [
  {
   "cell_type": "markdown",
   "metadata": {},
   "source": [
    "Question1\n",
    "\n",
    "Write a function that takes a list and a number as arguments. Add the number to the end of\n",
    "the list, then remove the first element of the list. The function should then return the updated\n",
    "list.\n",
    "\n",
    "Examples\n",
    "\n",
    "next_in_line([5, 6, 7, 8, 9], 1) ➞ [6, 7, 8, 9, 1]\n",
    "\n",
    "next_in_line([7, 6, 3, 23, 17], 10) ➞ [6, 3, 23, 17, 10]\n",
    "\n",
    "next_in_line([1, 10, 20, 42 ], 6) ➞ [10, 20, 42, 6]\n",
    "\n",
    "next_in_line([], 6) ➞ &quot;No list has been selected&quot;"
   ]
  },
  {
   "cell_type": "code",
   "execution_count": 9,
   "metadata": {},
   "outputs": [
    {
     "name": "stdout",
     "output_type": "stream",
     "text": [
      "enter the list : [5, 6, 7, 8, 9]\n",
      "enter the element to be added : 10\n",
      "the updated list is :  [6, 7, 8, 9, 10]\n",
      "enter the list : []\n",
      "enter the element to be added : 5\n",
      "the updated list is :  []\n"
     ]
    }
   ],
   "source": [
    "def lst():\n",
    "    ip = eval(input(\"enter the list : \"))\n",
    "    i = int(input(\"enter the element to be added : \"))\n",
    "    l = len(ip)\n",
    "    ip.insert(l,i)\n",
    "    ip.pop(0)\n",
    "    print(\"the updated list is : \",ip)\n",
    "lst()\n",
    "lst()"
   ]
  },
  {
   "cell_type": "code",
   "execution_count": null,
   "metadata": {},
   "outputs": [],
   "source": []
  },
  {
   "cell_type": "markdown",
   "metadata": {},
   "source": [
    "Question2\n",
    "\n",
    "Create the function that takes a list of dictionaries and returns the sum of people&#39;s budgets.\n",
    "\n",
    "Examples\n",
    "\n",
    "get_budgets([\n",
    "{ &quot;name&quot;: &quot;John&quot;, &quot;age&quot;: 21, &quot;budget&quot;: 23000 },\n",
    "{ &quot;name&quot;: &quot;Steve&quot;, &quot;age&quot;: 32, &quot;budget&quot;: 40000 },\n",
    "{ &quot;name&quot;: &quot;Martin&quot;, &quot;age&quot;: 16, &quot;budget&quot;: 2700 }\n",
    "]) ➞ 65700\n",
    "\n",
    "get_budgets([\n",
    "{ &quot;name&quot;: &quot;John&quot;, &quot;age&quot;: 21, &quot;budget&quot;: 29000 },\n",
    "{ &quot;name&quot;: &quot;Steve&quot;, &quot;age&quot;: 32, &quot;budget&quot;: 32000 },\n",
    "{ &quot;name&quot;: &quot;Martin&quot;, &quot;age&quot;: 16, &quot;budget&quot;: 1600 }\n",
    "]) ➞ 62600"
   ]
  },
  {
   "cell_type": "code",
   "execution_count": 15,
   "metadata": {},
   "outputs": [
    {
     "name": "stdout",
     "output_type": "stream",
     "text": [
      "enter the dictionary ; [ { \"name\": \"John\", \"age\": 21, \"budget\": 29000 }, { \"name\": \"Steve\", \"age\": 32, \"budget\": 32000 }, { \"name\": \"Martin\", \"age\": 16, \"budget\": 1600 } ]\n",
      "the sum of budget is :  62600\n",
      "enter the dictionary ; [ { \"name\": \"John\", \"age\": 21, \"budget\": 23000 }, { \"name\": \"Steve\", \"age\": 32, \"budget\": 40000 }, { \"name\": \"Martin\", \"age\": 16, \"budget\": 2700 }] \n",
      "the sum of budget is :  65700\n"
     ]
    }
   ],
   "source": [
    "def budg():\n",
    "    ip= eval(input(\"enter the dictionary ; \"))\n",
    "    bud=0\n",
    "    for i in ip:\n",
    "        bud = bud + i[\"budget\"]\n",
    "    print(\"the sum of budget is : \",bud)\n",
    "budg()\n",
    "budg()"
   ]
  },
  {
   "cell_type": "code",
   "execution_count": null,
   "metadata": {},
   "outputs": [],
   "source": []
  },
  {
   "cell_type": "markdown",
   "metadata": {},
   "source": [
    "Question3\n",
    "\n",
    "Create a function that takes a string and returns a string with its letters in alphabetical order.\n",
    "\n",
    "Examples\n",
    "\n",
    "alphabet_soup(&quot;hello&quot;) ➞ &quot;ehllo&quot;\n",
    "\n",
    "alphabet_soup(&quot;edabit&quot;) ➞ &quot;abdeit&quot;\n",
    "\n",
    "alphabet_soup(&quot;hacker&quot;) ➞ &quot;acehkr&quot;\n",
    "\n",
    "alphabet_soup(&quot;geek&quot;) ➞ &quot;eegk&quot;\n",
    "\n",
    "alphabet_soup(&quot;javascript&quot;) ➞ &quot;aacijprstv&quot;"
   ]
  },
  {
   "cell_type": "code",
   "execution_count": 16,
   "metadata": {},
   "outputs": [
    {
     "name": "stdout",
     "output_type": "stream",
     "text": [
      "enter the string : hello\n",
      "hello = ehllo\n",
      "enter the string : ineuron\n",
      "ineuron = einnoru\n"
     ]
    }
   ],
   "source": [
    "def st():\n",
    "    ip = input(\"enter the string : \")\n",
    "    op=''.join(sorted(ip))\n",
    "    print(ip,'=',op)\n",
    "st()\n",
    "st()"
   ]
  },
  {
   "cell_type": "code",
   "execution_count": null,
   "metadata": {},
   "outputs": [],
   "source": []
  },
  {
   "cell_type": "markdown",
   "metadata": {},
   "source": [
    "4.What will be the value of your investment at the end of the 10 year period?\n",
    "\n",
    "Create a function that accepts the principal p, the term in years t, the interest rate r, and the number of compounding periods per year n. The function returns the value at the end of term rounded to the nearest cent.\n",
    "\n",
    "For the example above:\n",
    "    \n",
    "compound_interest(10000, 10, 0.06, 12) ➞ 18193.97\n",
    "\n",
    "Note that the interest rate is given as a decimal and n=12 because with monthly compounding there are 12 periods per year. Compounding can also be done annually, quarterly, weekly, or daily."
   ]
  },
  {
   "cell_type": "code",
   "execution_count": 5,
   "metadata": {},
   "outputs": [
    {
     "name": "stdout",
     "output_type": "stream",
     "text": [
      "enter the principal amount : 10000\n",
      "enter the term in yuears  : 10\n",
      "enter the interst rate : 0.06\n",
      "enter the time period in years : 12\n",
      "Compound Interest :  18193.97\n",
      "enter the principal amount : 100\n",
      "enter the term in yuears  : 1\n",
      "enter the interst rate : 0.05\n",
      "enter the time period in years : 1\n",
      "Compound Interest :  105.0\n"
     ]
    }
   ],
   "source": [
    "def ci():\n",
    "    p = int(input(\"enter the principal amount : \"))\n",
    "    t = float(input(\"enter the term in yuears  : \"))\n",
    "    r = float(input(\"enter the interst rate : \"))\n",
    "    n = float(input(\"enter the time period in years : \"))\n",
    "    ci = p*(1+(r/n))**(t*n)\n",
    "    print(\"Compound Interest : \",round(ci,2))\n",
    "ci()\n",
    "ci()"
   ]
  },
  {
   "cell_type": "code",
   "execution_count": null,
   "metadata": {},
   "outputs": [],
   "source": []
  },
  {
   "cell_type": "markdown",
   "metadata": {},
   "source": [
    "Question5\n",
    "\n",
    "Write a function that takes a list of elements and returns only the integers.\n",
    "\n",
    "Examples\n",
    "\n",
    "return_only_integer([9, 2, &quot;space&quot;, &quot;car&quot;, &quot;lion&quot;, 16]) ➞ [9, 2, 16]\n",
    "\n",
    "return_only_integer([&quot;hello&quot;, 81, &quot;basketball&quot;, 123, &quot;fox&quot;]) ➞ [81, 123]\n",
    "\n",
    "return_only_integer([10, &quot;121&quot;, 56, 20, &quot;car&quot;, 3, &quot;lion&quot;]) ➞ [10, 56, 20,\n",
    "3]\n",
    "\n",
    "return_only_integer([&quot;String&quot;, True, 3.3, 1]) ➞ [1]"
   ]
  },
  {
   "cell_type": "code",
   "execution_count": 6,
   "metadata": {},
   "outputs": [
    {
     "name": "stdout",
     "output_type": "stream",
     "text": [
      "enter a list : [9, 2, \"space\", \"car\", \"lion\", 16]\n",
      "[9, 2, 'space', 'car', 'lion', 16]  after filter =  [9, 2, 16]\n",
      "enter a list : [\"String\", True, 3.3, 1]\n",
      "['String', True, 3.3, 1]  after filter =  [1]\n"
     ]
    }
   ],
   "source": [
    "def flist():\n",
    "    ip = eval(input(\"enter a list : \"))\n",
    "    op = []\n",
    "    for i in ip:\n",
    "        if type(i) == int and i >= 0:\n",
    "            op.append(i)\n",
    "    print(ip,\" after filter = \",op)\n",
    "flist()\n",
    "flist()"
   ]
  }
 ],
 "metadata": {
  "kernelspec": {
   "display_name": "Python 3",
   "language": "python",
   "name": "python3"
  },
  "language_info": {
   "codemirror_mode": {
    "name": "ipython",
    "version": 3
   },
   "file_extension": ".py",
   "mimetype": "text/x-python",
   "name": "python",
   "nbconvert_exporter": "python",
   "pygments_lexer": "ipython3",
   "version": "3.8.5"
  }
 },
 "nbformat": 4,
 "nbformat_minor": 4
}
