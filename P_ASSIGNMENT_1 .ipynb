{
 "cells": [
  {
   "cell_type": "code",
   "execution_count": 3,
   "metadata": {},
   "outputs": [
    {
     "name": "stdout",
     "output_type": "stream",
     "text": [
      "Hello Python\n"
     ]
    }
   ],
   "source": [
    "#1. Write a Python program to print \"Hello Python\"?\n",
    "#ans\n",
    "\n",
    "text = \"Hello Python\"\n",
    "print(text)"
   ]
  },
  {
   "cell_type": "code",
   "execution_count": 15,
   "metadata": {},
   "outputs": [
    {
     "name": "stdout",
     "output_type": "stream",
     "text": [
      "50\n",
      "10\n",
      "The two numbers are 50 and 10\n",
      "Addition of the numbers is 60 and Division of the two numbers is 5.0\n"
     ]
    }
   ],
   "source": [
    "#2. Write a Python program to do arithmetical operations addition and division.?\n",
    "#ans\n",
    "\n",
    "a = int(input())\n",
    "b = int(input())\n",
    "print(\"The two numbers are %s and %s\" %(a,b))\n",
    "add = a + b\n",
    "div = a/b\n",
    "print(\"Addition of the numbers is %s and Division of the two numbers is %s\" %(add,div))"
   ]
  },
  {
   "cell_type": "code",
   "execution_count": 17,
   "metadata": {},
   "outputs": [
    {
     "name": "stdout",
     "output_type": "stream",
     "text": [
      "Enter height of triangle: 5\n",
      "Enter base of triangle = 5\n",
      "The area of the triangle is  12.5\n"
     ]
    }
   ],
   "source": [
    "#3. Write a Python program to find the area of a triangle?\n",
    "#ans\n",
    "\n",
    "h = int(input('Enter height of triangle: '))\n",
    "b = int(input('Enter base of triangle = '))\n",
    "area = (0.5*h*b)\n",
    "print(\"The area of the triangle is \",area) "
   ]
  },
  {
   "cell_type": "code",
   "execution_count": 5,
   "metadata": {},
   "outputs": [
    {
     "name": "stdout",
     "output_type": "stream",
     "text": [
      "Enter the first number : 8\n",
      "Enter the sceond number = 4\n",
      "The number before swapping are no1=8 and no2=4\n",
      "The number after swapping are no1=4 and no2=8\n"
     ]
    }
   ],
   "source": [
    "#4. Write a Python program to swap two variables?\n",
    "#ans\n",
    "\n",
    "a = int(input('Enter the first number : '))\n",
    "b = int(input('Enter the sceond number = '))\n",
    "print(\"The number before swapping are no1=%s and no2=%s\" %(a,b) )\n",
    "def swap(a,b):\n",
    "    a,b=b,a\n",
    "    return a ,b\n",
    "print(\"The number after swapping are no1=%s and no2=%s\" %swap(a,b) )"
   ]
  },
  {
   "cell_type": "code",
   "execution_count": 9,
   "metadata": {},
   "outputs": [
    {
     "name": "stdout",
     "output_type": "stream",
     "text": [
      "The random number fetched between 0-100 is =  49\n"
     ]
    }
   ],
   "source": [
    "#5. Write a Python program to generate a random number\n",
    "#ans\n",
    "import random\n",
    "print(\"The random number fetched between 0-100 is = \" , random.randint(0,100))"
   ]
  }
 ],
 "metadata": {
  "kernelspec": {
   "display_name": "Python 3",
   "language": "python",
   "name": "python3"
  }
 },
 "nbformat": 4,
 "nbformat_minor": 4
}
