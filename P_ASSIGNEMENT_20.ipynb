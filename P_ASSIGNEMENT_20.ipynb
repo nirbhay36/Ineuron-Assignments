{
 "cells": [
  {
   "cell_type": "markdown",
   "metadata": {},
   "source": [
    "Question1\n",
    "\n",
    "Create a function that takes a list of strings and integers, and filters out the list so that it\n",
    "returns a list of integers only.\n",
    "\n",
    "Examples\n",
    "\n",
    "filter_list([1, 2, 3, &quot;a&quot;, &quot;b&quot;, 4]) ➞ [1, 2, 3, 4]\n",
    "\n",
    "filter_list([&quot;A&quot;, 0, &quot;Edabit&quot;, 1729, &quot;Python&quot;, &quot;1729&quot;]) ➞ [0, 1729]\n",
    "\n",
    "filter_list([&quot;Nothing&quot;, &quot;here&quot;]) ➞ []"
   ]
  },
  {
   "cell_type": "code",
   "execution_count": 13,
   "metadata": {},
   "outputs": [
    {
     "name": "stdout",
     "output_type": "stream",
     "text": [
      "enter a list : [1, 2, 3, \"a\", \"b\", 4]\n",
      "[1, 2, 3, 'a', 'b', 4]  after filter =  [1, 2, 3, 4]\n",
      "enter a list : [\"Nothing\", \"here\"]\n",
      "['Nothing', 'here']  after filter =  []\n"
     ]
    }
   ],
   "source": [
    "def flist():\n",
    "    ip = eval(input(\"enter a list : \"))\n",
    "    op = []\n",
    "    for i in ip:\n",
    "        if type(i) == int and i >= 0:\n",
    "            op.append(i)\n",
    "    print(ip,\" after filter = \",op)\n",
    "flist()\n",
    "flist()"
   ]
  },
  {
   "cell_type": "code",
   "execution_count": null,
   "metadata": {},
   "outputs": [],
   "source": []
  },
  {
   "cell_type": "markdown",
   "metadata": {},
   "source": [
    "Question2\n",
    "\n",
    "Given a list of numbers, create a function which returns the list but with each element&#39;s\n",
    "index in the list added to itself. This means you add 0 to the number at index 0, add 1 to the\n",
    "number at index 1, etc...\n",
    "\n",
    "Examples\n",
    "\n",
    "add_indexes([0, 0, 0, 0, 0]) ➞ [0, 1, 2, 3, 4]\n",
    "\n",
    "add_indexes([1, 2, 3, 4, 5]) ➞ [1, 3, 5, 7, 9]\n",
    "\n",
    "add_indexes([5, 4, 3, 2, 1]) ➞ [5, 5, 5, 5, 5]"
   ]
  },
  {
   "cell_type": "code",
   "execution_count": 27,
   "metadata": {},
   "outputs": [
    {
     "name": "stdout",
     "output_type": "stream",
     "text": [
      "enter a list : [0, 0, 0, 0, 0]\n",
      "the new list with added index is :  [0, 1, 2, 3, 4]\n",
      "enter a list : [5, 4, 3, 2, 1]\n",
      "the new list with added index is :  [5, 5, 5, 5, 5]\n"
     ]
    }
   ],
   "source": [
    "def lst():\n",
    "    ip = eval(input(\"enter a list : \"))\n",
    "    op=[]\n",
    "    c=0\n",
    "    for i in range(len(ip)):\n",
    "        c= i + ip[i]\n",
    "        op.append(c)\n",
    "    print(\"the new list with added index is : \",op)\n",
    "lst()\n",
    "lst()        "
   ]
  },
  {
   "cell_type": "code",
   "execution_count": null,
   "metadata": {},
   "outputs": [],
   "source": []
  },
  {
   "cell_type": "markdown",
   "metadata": {},
   "source": [
    "Question3\n",
    "\n",
    "Create a function that takes the height and radius of a cone as arguments and returns the\n",
    "volume of the cone rounded to the nearest hundredth. See the resources tab for the formula.\n",
    "\n",
    "Examples\n",
    "\n",
    "cone_volume(3, 2) ➞ 12.57\n",
    "cone_volume(15, 6) ➞ 565.49"
   ]
  },
  {
   "cell_type": "code",
   "execution_count": 31,
   "metadata": {},
   "outputs": [
    {
     "name": "stdout",
     "output_type": "stream",
     "text": [
      "enter the height : 3\n",
      "enter the radius : 2\n",
      "the volume of cone is :  12.57\n",
      "enter the height : 15\n",
      "enter the radius : 6\n",
      "the volume of cone is :  565.49\n"
     ]
    }
   ],
   "source": [
    "import math\n",
    "def vol():\n",
    "    h = int(input(\"enter the height : \"))\n",
    "    r = int(input(\"enter the radius : \"))\n",
    "    vol = (math.pi * h *r*r)/3\n",
    "    print(\"the volume of cone is : \",round(vol,2))\n",
    "vol()\n",
    "vol()"
   ]
  },
  {
   "cell_type": "code",
   "execution_count": null,
   "metadata": {},
   "outputs": [],
   "source": []
  },
  {
   "cell_type": "markdown",
   "metadata": {},
   "source": [
    "Question4\n",
    "\n",
    "This Triangular Number Sequence is generated from a pattern of dots that form a triangle.\n",
    "The first 5 numbers of the sequence, or dots, are:\n",
    "1, 3, 6, 10, 15\n",
    "\n",
    "This means that the first triangle has just one dot, the second one has three dots, the third one\n",
    "has 6 dots and so on.\n",
    "\n",
    "Write a function that gives the number of dots with its corresponding triangle number of the\n",
    "sequence.\n",
    "\n",
    "Examples\n",
    "\n",
    "triangle(1) ➞ 1\n",
    "\n",
    "triangle(6) ➞ 21\n",
    "\n",
    "triangle(215) ➞ 23220"
   ]
  },
  {
   "cell_type": "code",
   "execution_count": 39,
   "metadata": {},
   "outputs": [
    {
     "name": "stdout",
     "output_type": "stream",
     "text": [
      "enter the number of triangle : 6\n",
      "6 traingle = 21 dots\n",
      "enter the number of triangle : 215\n",
      "215 traingle = 23220 dots\n"
     ]
    }
   ],
   "source": [
    "def dots():\n",
    "    ip = int(input(\"enter the number of triangle : \"))\n",
    "    op = int((ip*(ip+1))/2)\n",
    "    print(\"%s traingle = %s dots\" %(ip,op))\n",
    "dots()\n",
    "dots()"
   ]
  },
  {
   "cell_type": "code",
   "execution_count": null,
   "metadata": {},
   "outputs": [],
   "source": []
  },
  {
   "cell_type": "markdown",
   "metadata": {},
   "source": [
    "Question5\n",
    "\n",
    "Create a function that takes a list of numbers between 1 and 10 (excluding one number) and\n",
    "returns the missing number.\n",
    "\n",
    "Examples\n",
    "\n",
    "missing_num([1, 2, 3, 4, 6, 7, 8, 9, 10]) ➞ 5\n",
    "\n",
    "missing_num([7, 2, 3, 6, 5, 9, 1, 4, 8]) ➞ 10\n",
    "\n",
    "missing_num([10, 5, 1, 2, 4, 6, 8, 3, 9]) ➞ 7"
   ]
  },
  {
   "cell_type": "code",
   "execution_count": 40,
   "metadata": {},
   "outputs": [
    {
     "name": "stdout",
     "output_type": "stream",
     "text": [
      "enter the list : [7, 2, 3, 6, 5, 9, 1, 4, 8]\n",
      "the missing number is :  10\n",
      "enter the list : [10, 5, 2, 4, 6, 8, 3, 9]\n",
      "the missing number is :  1\n",
      "the missing number is :  7\n"
     ]
    }
   ],
   "source": [
    "def miss():\n",
    "    ip = eval(input(\"enter the list : \"))\n",
    "    for i in range(1,11):\n",
    "        if i not in ip:\n",
    "            print(\"the missing number is : \",i)\n",
    "miss()\n",
    "miss()"
   ]
  }
 ],
 "metadata": {
  "kernelspec": {
   "display_name": "Python 3",
   "language": "python",
   "name": "python3"
  },
  "language_info": {
   "codemirror_mode": {
    "name": "ipython",
    "version": 3
   },
   "file_extension": ".py",
   "mimetype": "text/x-python",
   "name": "python",
   "nbconvert_exporter": "python",
   "pygments_lexer": "ipython3",
   "version": "3.8.5"
  }
 },
 "nbformat": 4,
 "nbformat_minor": 4
}
