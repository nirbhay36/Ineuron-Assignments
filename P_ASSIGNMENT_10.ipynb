{
 "cells": [
  {
   "cell_type": "code",
   "execution_count": 2,
   "metadata": {},
   "outputs": [
    {
     "name": "stdout",
     "output_type": "stream",
     "text": [
      "enter the lenngth of the list : 5\n",
      "enter the elements of the list\n",
      "10\n",
      "65\n",
      "45\n",
      "23\n",
      "41\n",
      "the list is :  [10, 65, 45, 23, 41]\n",
      "the sum of elements in the given list is :  184\n"
     ]
    }
   ],
   "source": [
    "#1. Write a Python program to find sum of elements in list?\n",
    "#ans\n",
    "\n",
    "n = int(input(\"enter the lenngth of the list : \"))\n",
    "l=[]\n",
    "print(\"enter the elements of the list\")\n",
    "for i in range(n):\n",
    "    l.append(int(input()))\n",
    "print(\"the list is : \" , l)\n",
    "print(\"the sum of elements in the given list is : \",sum(l))"
   ]
  },
  {
   "cell_type": "code",
   "execution_count": 4,
   "metadata": {},
   "outputs": [
    {
     "name": "stdout",
     "output_type": "stream",
     "text": [
      "enter the lenngth of the list : 5\n",
      "enter the elements of the list\n",
      "1\n",
      "3\n",
      "5\n",
      "7\n",
      "9\n",
      "the list is :  [1, 3, 5, 7, 9]\n",
      "the product of elements in the given list is :  945\n"
     ]
    }
   ],
   "source": [
    "#2. Write a Python program to Multiply all numbers in the list?\n",
    "#ans\n",
    "\n",
    "n = int(input(\"enter the lenngth of the list : \"))\n",
    "l=[]\n",
    "print(\"enter the elements of the list\")\n",
    "for i in range(n):\n",
    "    l.append(int(input()))\n",
    "print(\"the list is : \" , l)\n",
    "\n",
    "mult=1\n",
    "for j in l:\n",
    "    mult = mult * j\n",
    "print(\"the product of elements in the given list is : \",mult)"
   ]
  },
  {
   "cell_type": "code",
   "execution_count": 6,
   "metadata": {},
   "outputs": [
    {
     "name": "stdout",
     "output_type": "stream",
     "text": [
      "enter the lenngth of the list : 5\n",
      "enter the elements of the list\n",
      "12\n",
      "63\n",
      "45\n",
      "89\n",
      "75\n",
      "the list is :  [12, 63, 45, 89, 75]\n",
      "the minimum element in the given list is :  12\n"
     ]
    }
   ],
   "source": [
    "#3. Write a Python program to find smallest number in a list?\n",
    "#ans\n",
    "\n",
    "n = int(input(\"enter the lenngth of the list : \"))\n",
    "l=[]\n",
    "print(\"enter the elements of the list\")\n",
    "for i in range(n):\n",
    "    l.append(int(input()))\n",
    "print(\"the list is : \" , l)\n",
    "print(\"the minimum element in the given list is : \",min(l))"
   ]
  },
  {
   "cell_type": "code",
   "execution_count": 7,
   "metadata": {},
   "outputs": [
    {
     "name": "stdout",
     "output_type": "stream",
     "text": [
      "enter the lenngth of the list : 5\n",
      "enter the elements of the list\n",
      "12\n",
      "63\n",
      "45\n",
      "89\n",
      "75\n",
      "the list is :  [12, 63, 45, 89, 75]\n",
      "the maximum element in the given list is :  89\n"
     ]
    }
   ],
   "source": [
    "#4. Write a Python program to find largest number in a list?\n",
    "#ans\n",
    "\n",
    "n = int(input(\"enter the lenngth of the list : \"))\n",
    "l=[]\n",
    "print(\"enter the elements of the list\")\n",
    "for i in range(n):\n",
    "    l.append(int(input()))\n",
    "print(\"the list is : \" , l)\n",
    "print(\"the maximum element in the given list is : \",max(l))"
   ]
  },
  {
   "cell_type": "code",
   "execution_count": 11,
   "metadata": {},
   "outputs": [
    {
     "name": "stdout",
     "output_type": "stream",
     "text": [
      "enter the lenngth of the list : 5\n",
      "enter the elements of the list\n",
      "12\n",
      "63\n",
      "46\n",
      "42\n",
      "89\n",
      "the list is :  [12, 63, 46, 42, 89]\n",
      "the second largest element in the given list is :  63\n"
     ]
    }
   ],
   "source": [
    "#5. Write a Python program to find second largest number in a list?\n",
    "#ans\n",
    "\n",
    "n = int(input(\"enter the lenngth of the list : \"))\n",
    "l=[]\n",
    "print(\"enter the elements of the list\")\n",
    "for i in range(n):\n",
    "    l.append(int(input()))\n",
    "print(\"the list is : \" , l)\n",
    "l.sort()\n",
    "print(\"the second largest element in the given list is : \",l[-2])"
   ]
  },
  {
   "cell_type": "code",
   "execution_count": 18,
   "metadata": {},
   "outputs": [
    {
     "name": "stdout",
     "output_type": "stream",
     "text": [
      "enter the lenngth of the list : 5\n",
      "enter the elements of the list\n",
      "4\n",
      "1\n",
      "6\n",
      "8\n",
      "3\n",
      "the list is :  [4, 1, 6, 8, 3]\n",
      "enter the number of largest elements you want from the list : \n",
      "3\n",
      "the 3 largest elements from the given list are : [8, 6, 4]\n"
     ]
    }
   ],
   "source": [
    "#6. Write a Python program to find N largest elements from a list?\n",
    "#ans\n",
    "\n",
    "n = int(input(\"enter the lenngth of the list : \"))\n",
    "l=[]\n",
    "print(\"enter the elements of the list\")\n",
    "for i in range(n):\n",
    "    l.append(int(input()))\n",
    "print(\"the list is : \" , l)\n",
    "l.sort(reverse=True)\n",
    "print(\"enter the number of largest elements you want from the list : \")\n",
    "lar = int(input())\n",
    "print(\"the %s largest elements from the given list are : %s\"%(lar ,l[0:lar]) )"
   ]
  },
  {
   "cell_type": "code",
   "execution_count": 25,
   "metadata": {},
   "outputs": [
    {
     "name": "stdout",
     "output_type": "stream",
     "text": [
      "enter the lenngth of the list : 6\n",
      "enter the elements of the list\n",
      "12\n",
      "45\n",
      "87\n",
      "36\n",
      "28\n",
      "91\n",
      "the list is :  [12, 45, 87, 36, 28, 91]\n",
      "the even numbers from the given list are :  [12, 36, 28]\n"
     ]
    }
   ],
   "source": [
    "#7. Write a Python program to print even numbers in a list?\n",
    "#ans\n",
    "\n",
    "n = int(input(\"enter the lenngth of the list : \"))\n",
    "l=[]\n",
    "print(\"enter the elements of the list\")\n",
    "for i in range(n):\n",
    "    l.append(int(input()))\n",
    "print(\"the list is : \" , l)\n",
    "\n",
    "even =[]\n",
    "for i in range(n):\n",
    "    if l[i]%2==0:\n",
    "        even.append(l[i])\n",
    "print(\"the even numbers from the given list are : \",even)"
   ]
  },
  {
   "cell_type": "code",
   "execution_count": 27,
   "metadata": {},
   "outputs": [
    {
     "name": "stdout",
     "output_type": "stream",
     "text": [
      "enter the lenngth of the list : 6\n",
      "enter the elements of the list\n",
      "12\n",
      "45\n",
      "87\n",
      "36\n",
      "28\n",
      "91\n",
      "the list is :  [12, 45, 87, 36, 28, 91]\n",
      "the odd numbers from the given list are :  [45, 87, 91]\n"
     ]
    }
   ],
   "source": [
    "#8. Write a Python program to print odd numbers in a List?\n",
    "#ans\n",
    "\n",
    "n = int(input(\"enter the lenngth of the list : \"))\n",
    "l=[]\n",
    "print(\"enter the elements of the list\")\n",
    "for i in range(n):\n",
    "    l.append(int(input()))\n",
    "print(\"the list is : \" , l)\n",
    "\n",
    "odd =[]\n",
    "for i in range(n):\n",
    "    if l[i]%2!=0:\n",
    "        odd.append(l[i])\n",
    "print(\"the odd numbers from the given list are : \",odd)"
   ]
  },
  {
   "cell_type": "code",
   "execution_count": 42,
   "metadata": {},
   "outputs": [
    {
     "name": "stdout",
     "output_type": "stream",
     "text": [
      "the given list is :  [36, [], 12, 96, [], 54, 1, [], 36, []]\n",
      "the new list after removing empty lists is :  [36, 12, 96, 54, 1, 36]\n"
     ]
    }
   ],
   "source": [
    "#9. Write a Python program to Remove empty List from List?\n",
    "#ans\n",
    "\n",
    "l = [36,[],12,96,[],54,1,[],36,[]]\n",
    "print(\"the given list is : \",l)\n",
    "new =[]\n",
    "for i in range(len(l)):\n",
    "    if l[i]!=[]:\n",
    "        new.append(l[i])\n",
    "print(\"the new list after removing empty lists is : \",new)"
   ]
  },
  {
   "cell_type": "code",
   "execution_count": 45,
   "metadata": {},
   "outputs": [
    {
     "name": "stdout",
     "output_type": "stream",
     "text": [
      "enter the lenngth of the list : 5\n",
      "enter the elements of the list\n",
      "12\n",
      "45\n",
      "65\n",
      "74\n",
      "96\n",
      "the list is :  [12, 45, 65, 74, 96] with id as  2669120803456\n",
      "the cloned list is :  [12, 45, 65, 74, 96] with id as  2669122124800\n"
     ]
    }
   ],
   "source": [
    "#10. Write a Python program to Cloning or Copying a list?\n",
    "#ans\n",
    "\n",
    "n = int(input(\"enter the lenngth of the list : \"))\n",
    "l=[]\n",
    "print(\"enter the elements of the list\")\n",
    "for i in range(n):\n",
    "    l.append(int(input()))\n",
    "print(\"the list is : \" , l,\"with id as \",id(l))\n",
    "new = l.copy()\n",
    "print(\"the cloned list is : \",new ,\"with id as \",id(new))"
   ]
  },
  {
   "cell_type": "code",
   "execution_count": 46,
   "metadata": {},
   "outputs": [
    {
     "name": "stdout",
     "output_type": "stream",
     "text": [
      "enter the lenngth of the list : 8\n",
      "enter the elements of the list\n",
      "36\n",
      "45\n",
      "12\n",
      "36\n",
      "54\n",
      "12\n",
      "36\n",
      "85\n",
      "the list is :  [36, 45, 12, 36, 54, 12, 36, 85]\n",
      "enter a element to find its count in the list \n",
      "36\n",
      "the element 36 has occured 3 times in the above list\n"
     ]
    }
   ],
   "source": [
    "#11. Write a Python program to Count occurrences of an element in a list?\n",
    "#ans\n",
    "\n",
    "n = int(input(\"enter the lenngth of the list : \"))\n",
    "l=[]\n",
    "print(\"enter the elements of the list\")\n",
    "for i in range(n):\n",
    "    l.append(int(input()))\n",
    "print(\"the list is : \" , l)\n",
    "\n",
    "print(\"enter a element to find its count in the list \")\n",
    "ele = int(input())\n",
    "print(\"the element %s has occured %s times in the above list\" %(ele , l.count(ele)))"
   ]
  }
 ],
 "metadata": {
  "kernelspec": {
   "display_name": "Python 3",
   "language": "python",
   "name": "python3"
  },
  "language_info": {
   "codemirror_mode": {
    "name": "ipython",
    "version": 3
   },
   "file_extension": ".py",
   "mimetype": "text/x-python",
   "name": "python",
   "nbconvert_exporter": "python",
   "pygments_lexer": "ipython3",
   "version": "3.8.5"
  }
 },
 "nbformat": 4,
 "nbformat_minor": 4
}
